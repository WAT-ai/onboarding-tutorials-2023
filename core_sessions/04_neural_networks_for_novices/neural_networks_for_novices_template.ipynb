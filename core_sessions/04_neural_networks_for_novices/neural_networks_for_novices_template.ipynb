{
 "cells": [
  {
   "cell_type": "markdown",
   "source": [
    "## Neural Networks for Novices\n",
    "Prerequisites:\n",
    "- Python experience, including a basing understanding of python syntax, loops, conditional statements, functions, and data types in python\n",
    "- Some background in numerical computing - MATLAB, R, numpy, or similar, and an understanding of vectors, matrices, and relevant linear algebra concepts\n",
    "- An understanding of model selection, train/test split, performance metrics and other concepts covered in the session on Classical Machine Learning\n",
    "\n",
    "Goals for this session:\n",
    "- Examine deep learning concepts such as tensors, tensor operations, gradient descent, and backpropagation\n",
    "- Define and discuss hyperparameters in the context of deep learning models, including learning rate, batch size, epochs, layers, hidden units, optimizers, and activation functions\n",
    "- Interpret loss and accuracy curves to identify overfitting during the training process\n",
    "- Apply this knowledge to a real-world dataset using Tensorflow"
   ],
   "metadata": {
    "collapsed": false
   }
  },
  {
   "cell_type": "code",
   "execution_count": null,
   "outputs": [],
   "source": [],
   "metadata": {
    "collapsed": false
   }
  }
 ],
 "metadata": {
  "kernelspec": {
   "display_name": "Python 3",
   "language": "python",
   "name": "python3"
  },
  "language_info": {
   "codemirror_mode": {
    "name": "ipython",
    "version": 2
   },
   "file_extension": ".py",
   "mimetype": "text/x-python",
   "name": "python",
   "nbconvert_exporter": "python",
   "pygments_lexer": "ipython2",
   "version": "2.7.6"
  }
 },
 "nbformat": 4,
 "nbformat_minor": 0
}
