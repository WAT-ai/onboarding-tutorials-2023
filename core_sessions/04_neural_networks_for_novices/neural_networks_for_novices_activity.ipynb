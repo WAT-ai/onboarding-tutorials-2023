{
 "cells": [
  {
   "cell_type": "markdown",
   "metadata": {
    "collapsed": false
   },
   "source": [
    "## Neural Networks for Novices Activity\n",
    "For the activity, you will try to pick hyperparameters of a MLP model to make it not overfit as much to the training data.\n",
    "\n",
    "Upload your best score here: [https://keepthescore.com/board/qrqqhjgqwhxbe/](https://keepthescore.com/board/qrqqhjgqwhxbe/)\n",
    "\n",
    "Tensorflow documentation: [https://www.tensorflow.org/api_docs/python/tf](https://www.tensorflow.org/api_docs/python/tf)\n",
    "\n",
    "Keras documentation: [https://www.tensorflow.org/guide/keras](https://www.tensorflow.org/guide/keras)\n",
    "\n",
    "Tip: For faster training times, set your runtime to T4 GPU under `Runtime > Change runtime type`. Luckily, Tensorflow conveniently manages simple GPU use cases like this under the hood."
   ]
  },
  {
   "cell_type": "code",
   "execution_count": 27,
   "metadata": {},
   "outputs": [],
   "source": [
    "import tensorflow as tf\n",
    "import tensorflow_datasets as tfds\n",
    "from tensorflow import keras\n",
    "import matplotlib.pyplot as plt\n",
    "import numpy as np"
   ]
  },
  {
   "cell_type": "code",
   "execution_count": 2,
   "metadata": {},
   "outputs": [],
   "source": [
    "# Set random seed\n",
    "SEED = 100\n",
    "tf.random.set_seed(SEED)\n",
    "np.random.seed(SEED)"
   ]
  },
  {
   "cell_type": "code",
   "execution_count": 3,
   "metadata": {},
   "outputs": [],
   "source": [
    "# Google Colab\n",
    "# DATA_PATH = \"/content/datafiles\"\n",
    "# SAVE_PATH = \"/content/models\"\n",
    "\n",
    "\n",
    "DATA_PATH = \"/Users/trevoryu/Code/data/mnist\"\n",
    "SAVE_PATH = \"/Users/trevoryu/Code/models/wat-ai\""
   ]
  },
  {
   "cell_type": "markdown",
   "metadata": {},
   "source": [
    "# Obtain dataset\n",
    "The dataset can be downloaded using Tensorflow datasets conveniently."
   ]
  },
  {
   "cell_type": "code",
   "execution_count": 4,
   "metadata": {},
   "outputs": [
    {
     "data": {
      "text/plain": [
       "[50000, 10000, 10000]"
      ]
     },
     "execution_count": 4,
     "metadata": {},
     "output_type": "execute_result"
    }
   ],
   "source": [
    "(train_dataset, val_dataset, test_dataset), ds_info = tfds.load(\n",
    "    \"mnist\",\n",
    "    split=[\"train[0:50_000]\", \"train[-10_000:]\", \"test\"],\n",
    "    shuffle_files=True,\n",
    "    as_supervised=True,\n",
    "    with_info=True,\n",
    "    data_dir=DATA_PATH\n",
    ")\n",
    "list(map(len, [train_dataset, val_dataset, test_dataset]))"
   ]
  },
  {
   "cell_type": "markdown",
   "metadata": {},
   "source": [
    "# Convert data into tensors\n",
    "Loading from `tfds` already returns tensors, so if your data comes from other sources, you would need to do this. However, our data comes in `uint8` datatype, but most neural networks expect `float32`. Additionally, neural networks prefer data that comes from a random normal distribution, or scaled to between [-1, 1] or [0, 1]. We can scale the data easily to [0, 1] by dividing by 255, the maximum value of a `uint8`."
   ]
  },
  {
   "cell_type": "code",
   "execution_count": 8,
   "metadata": {},
   "outputs": [],
   "source": [
    "def preprocess(x, y):\n",
    "    \"\"\"\n",
    "    Preprocess input data to neural network\n",
    "    :param x: tf.Tensor image batch, of shape (B, 28, 28, 1)\n",
    "    :param y: tf.Tensor labels, of shape (B,)\n",
    "\n",
    "    :returns: (x, y), processed inputs of shapes ((B, 784), (B,))\n",
    "    \"\"\"\n",
    "    # Rescale the data\n",
    "    x = x / 255\n",
    "    return x, y"
   ]
  },
  {
   "cell_type": "code",
   "execution_count": 9,
   "metadata": {},
   "outputs": [],
   "source": [
    "# Apply the preprocessing to all the datasets\n",
    "train_dataset = train_dataset.map(preprocess)\n",
    "val_dataset = val_dataset.map(preprocess)\n",
    "test_dataset = test_dataset.map(preprocess)"
   ]
  },
  {
   "cell_type": "markdown",
   "metadata": {},
   "source": [
    "# Define model architecture\n",
    "Conveniently, Keras allows us to define a model as a sequence of layers. For a simple multi-layer perceptron, this is perfect, although more complex architectures can be made too using a similar API to PyTorch (come to Dive Into Deep Learning to learn more!). Keras also has a `Dense` layer that implements both the linear weight matrix, additive bias, and activation into one layer. Since the multi-layer perceptron is built of these three things, we can just use `Dense` layers. Note that since our inputs come in shape (28, 28, 1), we should flatten them first to a vector of length (784,) before passing them to the `Dense` layers.\n",
    "\n",
    "Note that the output of the model will the log odds (or logits) of predicting each of the 10 classes. The index of the output with the highest probability is the class that would be selected."
   ]
  },
  {
   "cell_type": "code",
   "execution_count": 10,
   "metadata": {},
   "outputs": [],
   "source": [
    "model = keras.models.Sequential([\n",
    "    tf.keras.layers.Flatten(input_shape=(28, 28)),\n",
    "    # tf.keras.layers.Dense(2048, activation=\"relu\"),  # Dense layer of 2048 units\n",
    "    tf.keras.layers.Dense(512, activation=\"relu\"),  # Dense layer of 512 units\n",
    "    tf.keras.layers.Dense(128, activation=\"relu\"),  # Dense layer of 128 units\n",
    "    tf.keras.layers.Dense(10)  # Output layer, 10 units, no activation\n",
    "])"
   ]
  },
  {
   "cell_type": "markdown",
   "metadata": {},
   "source": [
    "# Select hyperparameters\n",
    "We'll use a batch size of 128, train for 20 epochs, and use an optimizer learning rate of 1e-3."
   ]
  },
  {
   "cell_type": "code",
   "execution_count": 12,
   "metadata": {},
   "outputs": [],
   "source": [
    "BATCH_SIZE = 128\n",
    "EPOCHS = 20\n",
    "LEARNING_RATE = 1e-3\n",
    "\n",
    "AUTOTUNE = tf.data.AUTOTUNE"
   ]
  },
  {
   "cell_type": "markdown",
   "metadata": {},
   "source": [
    "For the loss function, `SparseCategoricalCrossentropy(from_logits=True)` implements softmax efficiently in the loss calculation, so we don't need to include a final softmax activation in the last layer. The corresponding metric for this classification problem is `SparseCategoricalAccuracy`. \n",
    "\n",
    "For the optimizer, `Adam` is a typical default deep learning optimizer and is a good starting point for many problems.\n",
    "\n",
    "For the datasets, we need to batch and shuffle the training dataset. For the validation and test datasets, we don't need to shuffle, but we should still batch them."
   ]
  },
  {
   "cell_type": "code",
   "execution_count": 13,
   "metadata": {},
   "outputs": [
    {
     "name": "stderr",
     "output_type": "stream",
     "text": [
      "WARNING:absl:At this time, the v2.11+ optimizer `tf.keras.optimizers.Adam` runs slowly on M1/M2 Macs, please use the legacy Keras optimizer instead, located at `tf.keras.optimizers.legacy.Adam`.\n"
     ]
    }
   ],
   "source": [
    "loss_function = tf.keras.losses.SparseCategoricalCrossentropy(from_logits=True)\n",
    "metrics = [tf.keras.metrics.SparseCategoricalAccuracy()]\n",
    "\n",
    "optimizer = tf.keras.optimizers.Adam(learning_rate=LEARNING_RATE)\n",
    "\n",
    "train_dataset = train_dataset.cache().shuffle(buffer_size=train_dataset.cardinality(), seed=SEED).batch(BATCH_SIZE).prefetch(AUTOTUNE)\n",
    "\n",
    "val_dataset = val_dataset.cache().batch(BATCH_SIZE).prefetch(AUTOTUNE)\n",
    "test_dataset = test_dataset.cache().batch(BATCH_SIZE).prefetch(AUTOTUNE)"
   ]
  },
  {
   "cell_type": "markdown",
   "metadata": {},
   "source": [
    "In Tensorflow, we compile the model with the optimizer, loss, and metrics\n"
   ]
  },
  {
   "cell_type": "code",
   "execution_count": 15,
   "metadata": {},
   "outputs": [],
   "source": [
    "model.compile(\n",
    "    optimizer=optimizer,\n",
    "    loss=loss_function,\n",
    "    metrics=metrics\n",
    ")"
   ]
  },
  {
   "cell_type": "markdown",
   "metadata": {},
   "source": [
    "Tensorflow has a convient training API with the `fit` method"
   ]
  },
  {
   "cell_type": "code",
   "execution_count": 16,
   "metadata": {},
   "outputs": [
    {
     "name": "stdout",
     "output_type": "stream",
     "text": [
      "Epoch 1/20\n",
      "391/391 [==============================] - 2s 4ms/step - loss: 0.2618 - sparse_categorical_accuracy: 0.9246 - val_loss: 0.1376 - val_sparse_categorical_accuracy: 0.9605\n",
      "Epoch 2/20\n",
      "391/391 [==============================] - 1s 3ms/step - loss: 0.0965 - sparse_categorical_accuracy: 0.9712 - val_loss: 0.1017 - val_sparse_categorical_accuracy: 0.9695\n",
      "Epoch 3/20\n",
      "391/391 [==============================] - 1s 3ms/step - loss: 0.0611 - sparse_categorical_accuracy: 0.9814 - val_loss: 0.0832 - val_sparse_categorical_accuracy: 0.9757\n",
      "Epoch 4/20\n",
      "391/391 [==============================] - 1s 3ms/step - loss: 0.0406 - sparse_categorical_accuracy: 0.9877 - val_loss: 0.0770 - val_sparse_categorical_accuracy: 0.9773\n",
      "Epoch 5/20\n",
      "391/391 [==============================] - 1s 3ms/step - loss: 0.0289 - sparse_categorical_accuracy: 0.9907 - val_loss: 0.0815 - val_sparse_categorical_accuracy: 0.9770\n",
      "Epoch 6/20\n",
      "391/391 [==============================] - 1s 3ms/step - loss: 0.0233 - sparse_categorical_accuracy: 0.9927 - val_loss: 0.0847 - val_sparse_categorical_accuracy: 0.9774\n",
      "Epoch 7/20\n",
      "391/391 [==============================] - 1s 3ms/step - loss: 0.0176 - sparse_categorical_accuracy: 0.9941 - val_loss: 0.0887 - val_sparse_categorical_accuracy: 0.9769\n",
      "Epoch 8/20\n",
      "391/391 [==============================] - 1s 3ms/step - loss: 0.0161 - sparse_categorical_accuracy: 0.9948 - val_loss: 0.0909 - val_sparse_categorical_accuracy: 0.9768\n",
      "Epoch 9/20\n",
      "391/391 [==============================] - 1s 4ms/step - loss: 0.0139 - sparse_categorical_accuracy: 0.9951 - val_loss: 0.0823 - val_sparse_categorical_accuracy: 0.9794\n",
      "Epoch 10/20\n",
      "391/391 [==============================] - 1s 3ms/step - loss: 0.0152 - sparse_categorical_accuracy: 0.9947 - val_loss: 0.0842 - val_sparse_categorical_accuracy: 0.9797\n",
      "Epoch 11/20\n",
      "391/391 [==============================] - 1s 3ms/step - loss: 0.0076 - sparse_categorical_accuracy: 0.9975 - val_loss: 0.0894 - val_sparse_categorical_accuracy: 0.9789\n",
      "Epoch 12/20\n",
      "391/391 [==============================] - 1s 3ms/step - loss: 0.0085 - sparse_categorical_accuracy: 0.9972 - val_loss: 0.0874 - val_sparse_categorical_accuracy: 0.9805\n",
      "Epoch 13/20\n",
      "391/391 [==============================] - 1s 3ms/step - loss: 0.0115 - sparse_categorical_accuracy: 0.9963 - val_loss: 0.0975 - val_sparse_categorical_accuracy: 0.9789\n",
      "Epoch 14/20\n",
      "391/391 [==============================] - 1s 4ms/step - loss: 0.0081 - sparse_categorical_accuracy: 0.9972 - val_loss: 0.1111 - val_sparse_categorical_accuracy: 0.9785\n",
      "Epoch 15/20\n",
      "391/391 [==============================] - 2s 4ms/step - loss: 0.0100 - sparse_categorical_accuracy: 0.9966 - val_loss: 0.0981 - val_sparse_categorical_accuracy: 0.9797\n",
      "Epoch 16/20\n",
      "391/391 [==============================] - 1s 4ms/step - loss: 0.0060 - sparse_categorical_accuracy: 0.9980 - val_loss: 0.1258 - val_sparse_categorical_accuracy: 0.9760\n",
      "Epoch 17/20\n",
      "391/391 [==============================] - 1s 3ms/step - loss: 0.0073 - sparse_categorical_accuracy: 0.9977 - val_loss: 0.0927 - val_sparse_categorical_accuracy: 0.9811\n",
      "Epoch 18/20\n",
      "391/391 [==============================] - 1s 3ms/step - loss: 0.0063 - sparse_categorical_accuracy: 0.9980 - val_loss: 0.1135 - val_sparse_categorical_accuracy: 0.9796\n",
      "Epoch 19/20\n",
      "391/391 [==============================] - 1s 3ms/step - loss: 0.0099 - sparse_categorical_accuracy: 0.9968 - val_loss: 0.0918 - val_sparse_categorical_accuracy: 0.9802\n",
      "Epoch 20/20\n",
      "391/391 [==============================] - 1s 3ms/step - loss: 0.0046 - sparse_categorical_accuracy: 0.9983 - val_loss: 0.0979 - val_sparse_categorical_accuracy: 0.9810\n"
     ]
    }
   ],
   "source": [
    "history = model.fit(\n",
    "    train_dataset,\n",
    "    epochs=EPOCHS,\n",
    "    validation_data=val_dataset\n",
    ")"
   ]
  },
  {
   "cell_type": "markdown",
   "metadata": {},
   "source": [
    "The `history` object returned from `model.fit()` contains a lot of metrics that Tensorflow automatically records. We can plot them to visualize the training curves and see how well the model fit."
   ]
  },
  {
   "cell_type": "code",
   "execution_count": 17,
   "metadata": {},
   "outputs": [
    {
     "data": {
      "image/png": "[encoded data removed]",
      "text/plain": [
       "<Figure size 640x480 with 2 Axes>"
      ]
     },
     "metadata": {},
     "output_type": "display_data"
    }
   ],
   "source": [
    "fig, axs = plt.subplots(2, 1)\n",
    "\n",
    "labels = {\n",
    "    \"loss\": \"Train loss\",\n",
    "    \"sparse_categorical_accuracy\": \"Train accuracy\",\n",
    "    \"val_loss\": \"Validation loss\",\n",
    "    \"val_sparse_categorical_accuracy\": \"Validation accuracy\"\n",
    "}\n",
    "\n",
    "epochs = np.arange(EPOCHS) + 1\n",
    "\n",
    "for key, metric in history.history.items():\n",
    "    if \"loss\" in key:\n",
    "        epochs = np.arange(len(metric)) + 1\n",
    "        axs[0].plot(epochs, metric, label=labels[key])\n",
    "    else:\n",
    "        axs[1].plot(epochs, metric, label=labels[key])\n",
    "\n",
    "for ax in axs:\n",
    "    ax.legend()\n",
    "    ax.set_xlabel(\"Epochs\")\n",
    "\n",
    "axs[0].set_title(\"Loss\")\n",
    "# axs[0].set_ylim(-0.05, 0.5)\n",
    "axs[1].set_title(\"Accuracy\")\n",
    "plt.suptitle(\"Training curves\")\n",
    "plt.tight_layout()\n",
    "plt.show()"
   ]
  },
  {
   "cell_type": "markdown",
   "metadata": {},
   "source": [
    "The model seems to have overfit by the end of 20 epochs. The validation loss is going up, and the accuracy is fluctuating. The model's performance is a little based on chance, depending on where it was after the 20 epochs."
   ]
  },
  {
   "cell_type": "markdown",
   "metadata": {},
   "source": [
    "# Evaluate on the test set\n",
    "\n",
    "We should always test our model on the testing dataset. Especially if we do hyperparameter tuning, it is not sufficient to just use two datasets, since we might adjust hyperparameters that best fit the validation data, but not some other realworld / held out data.\n",
    "\n",
    "If we have labels, we can score the model with `model.evaluate()`."
   ]
  },
  {
   "cell_type": "code",
   "execution_count": 18,
   "metadata": {},
   "outputs": [
    {
     "name": "stdout",
     "output_type": "stream",
     "text": [
      "79/79 [==============================] - 0s 3ms/step - loss: 0.0861 - sparse_categorical_accuracy: 0.9815\n",
      "Test loss: 0.086\n",
      "Test accuracy: 98.15%\n"
     ]
    }
   ],
   "source": [
    "test_loss, test_accuracy = model.evaluate(test_dataset)\n",
    "\n",
    "print(f\"Test loss: {test_loss:.3f}\")\n",
    "print(f\"Test accuracy: {test_accuracy*100:.2f}%\")"
   ]
  },
  {
   "cell_type": "markdown",
   "metadata": {},
   "source": [
    "If we only have inputs, then we should use `model.predict()` instead. Remember that the model returns log probability scores (logits). So to obtain the class, we should use `argmax` to find the index of the most likely (highest probability) output neuron."
   ]
  }
 ],
 "metadata": {
  "kernelspec": {
   "display_name": "Python 3",
   "language": "python",
   "name": "python3"
  },
  "language_info": {
   "codemirror_mode": {
    "name": "ipython",
    "version": 3
   },
   "file_extension": ".py",
   "mimetype": "text/x-python",
   "name": "python",
   "nbconvert_exporter": "python",
   "pygments_lexer": "ipython3",
   "version": "3.10.12"
  }
 },
 "nbformat": 4,
 "nbformat_minor": 0
}
