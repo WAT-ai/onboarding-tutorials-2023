{
 "cells": [
  {
   "cell_type": "code",
   "execution_count": 1,
   "metadata": {},
   "outputs": [],
   "source": [
    "import pandas as pd\n",
    "import numpy as np\n",
    "import matplotlib.pyplot as plt\n",
    "import seaborn as sns\n",
    "from sklearn.metrics import precision_score, recall_score, f1_score\n",
    "import pickle"
   ]
  },
  {
   "attachments": {},
   "cell_type": "markdown",
   "metadata": {},
   "source": [
    "Classifier shortlist\n",
    "- LogisticRegression\n",
    "- RidgeClassifier\n",
    "- SVC\n",
    "- KNeighborsClassifier\n",
    "- GaussianProcessClassifier (too slow)\n",
    "- GaussianNB\n",
    "- DecisionTreeClassifier"
   ]
  },
  {
   "cell_type": "code",
   "execution_count": 5,
   "metadata": {},
   "outputs": [],
   "source": [
    "from sklearn.linear_model import LogisticRegression, RidgeClassifier\n",
    "from sklearn.svm import SVC, LinearSVC\n",
    "from sklearn.neighbors import KNeighborsClassifier\n",
    "from sklearn.naive_bayes import GaussianNB\n",
    "from sklearn.tree import DecisionTreeClassifier"
   ]
  },
  {
   "cell_type": "code",
   "execution_count": 3,
   "metadata": {},
   "outputs": [],
   "source": [
    "SEED = 0"
   ]
  },
  {
   "cell_type": "markdown",
   "metadata": {},
   "source": [
    "# Data"
   ]
  },
  {
   "cell_type": "code",
   "execution_count": 7,
   "metadata": {},
   "outputs": [],
   "source": [
    "with open(\"../data/classical_ml_activity.pkl\", \"rb\") as f:\n",
    "    data = pickle.load(f)\n",
    "\n",
    "X_train = data[\"X_train\"].values\n",
    "X_test = data[\"X_test\"].values\n",
    "y_train = data[\"y_train\"].values\n",
    "y_test = data[\"y_test\"].values"
   ]
  },
  {
   "cell_type": "markdown",
   "metadata": {},
   "source": [
    "# Models"
   ]
  },
  {
   "cell_type": "code",
   "execution_count": 14,
   "metadata": {},
   "outputs": [
    {
     "data": {
      "text/plain": [
       "1    0.500\n",
       "3    0.215\n",
       "2    0.205\n",
       "0    0.080\n",
       "Name: class, dtype: float64"
      ]
     },
     "execution_count": 14,
     "metadata": {},
     "output_type": "execute_result"
    }
   ],
   "source": [
    "class_weights = data[\"y_train\"].value_counts()\n",
    "class_weights = class_weights / sum(class_weights)\n",
    "class_weights"
   ]
  },
  {
   "cell_type": "code",
   "execution_count": 15,
   "metadata": {},
   "outputs": [],
   "source": [
    "params = {\n",
    "    \"class_weight\": \"balanced\",\n",
    "    \"random_state\": SEED,\n",
    "    \"max_iter\": 10_000\n",
    "}\n",
    "\n",
    "config = {\n",
    "    LogisticRegression: params,\n",
    "    RidgeClassifier: params,\n",
    "    SVC: params,\n",
    "    LinearSVC: params | {\"dual\": True, \"max_iter\": 20_000},\n",
    "    KNeighborsClassifier: {\"n_jobs\": -1},\n",
    "    GaussianNB: {\"priors\": np.array(list(class_weights.values))},\n",
    "    DecisionTreeClassifier: {\"random_state\": SEED, \"class_weight\": \"balanced\"}\n",
    "}"
   ]
  },
  {
   "cell_type": "code",
   "execution_count": 16,
   "metadata": {},
   "outputs": [],
   "source": [
    "models = [model_class(**param) for model_class, param in config.items()]"
   ]
  },
  {
   "cell_type": "markdown",
   "metadata": {},
   "source": [
    "# Training"
   ]
  },
  {
   "cell_type": "code",
   "execution_count": 17,
   "metadata": {},
   "outputs": [
    {
     "name": "stdout",
     "output_type": "stream",
     "text": [
      "Training LogisticRegression...\n",
      "Model accuracy: 87.85%\n",
      "Training RidgeClassifier...\n",
      "Model accuracy: 83.00%\n",
      "Training SVC...\n",
      "Model accuracy: 89.90%\n",
      "Training LinearSVC...\n",
      "Model accuracy: 88.80%\n",
      "Training KNeighborsClassifier...\n",
      "Model accuracy: 91.05%\n",
      "Training GaussianNB...\n",
      "Model accuracy: 83.90%\n",
      "Training DecisionTreeClassifier...\n",
      "Model accuracy: 88.10%\n"
     ]
    }
   ],
   "source": [
    "trained_models = []\n",
    "metrics = {}\n",
    "\n",
    "for model in models:\n",
    "    name = model.__class__.__name__\n",
    "    print(f\"Training {name}...\")\n",
    "    metrics.setdefault(\"model_name\", []).append(name)\n",
    "\n",
    "    model.fit(X_train, y_train)\n",
    "    test_acc = model.score(X_test, y_test)\n",
    "    metrics.setdefault(\"accuracy\", []).append(test_acc)\n",
    "    print(f\"Model accuracy: {test_acc*100:.2f}%\")\n",
    "\n",
    "    y_pred = model.predict(X_test)\n",
    "    for metric_name, metric in zip(\n",
    "        [\"precision\", \"recall\", \"f1\"],\n",
    "        [precision_score, recall_score, f1_score]\n",
    "    ):\n",
    "        metrics.setdefault(metric_name, []).append(metric(y_test, y_pred, average=\"weighted\"))\n",
    "\n",
    "    trained_models.append(model)"
   ]
  },
  {
   "cell_type": "code",
   "execution_count": 18,
   "metadata": {},
   "outputs": [
    {
     "data": {
      "text/html": [
       "<div>\n",
       "<style scoped>\n",
       "    .dataframe tbody tr th:only-of-type {\n",
       "        vertical-align: middle;\n",
       "    }\n",
       "\n",
       "    .dataframe tbody tr th {\n",
       "        vertical-align: top;\n",
       "    }\n",
       "\n",
       "    .dataframe thead th {\n",
       "        text-align: right;\n",
       "    }\n",
       "</style>\n",
       "<table border=\"1\" class=\"dataframe\">\n",
       "  <thead>\n",
       "    <tr style=\"text-align: right;\">\n",
       "      <th></th>\n",
       "      <th>model_name</th>\n",
       "      <th>accuracy</th>\n",
       "      <th>precision</th>\n",
       "      <th>recall</th>\n",
       "      <th>f1</th>\n",
       "    </tr>\n",
       "  </thead>\n",
       "  <tbody>\n",
       "    <tr>\n",
       "      <th>4</th>\n",
       "      <td>KNeighborsClassifier</td>\n",
       "      <td>0.9105</td>\n",
       "      <td>0.912049</td>\n",
       "      <td>0.9105</td>\n",
       "      <td>0.910873</td>\n",
       "    </tr>\n",
       "    <tr>\n",
       "      <th>2</th>\n",
       "      <td>SVC</td>\n",
       "      <td>0.8990</td>\n",
       "      <td>0.911434</td>\n",
       "      <td>0.8990</td>\n",
       "      <td>0.900632</td>\n",
       "    </tr>\n",
       "    <tr>\n",
       "      <th>3</th>\n",
       "      <td>LinearSVC</td>\n",
       "      <td>0.8880</td>\n",
       "      <td>0.896419</td>\n",
       "      <td>0.8880</td>\n",
       "      <td>0.889256</td>\n",
       "    </tr>\n",
       "    <tr>\n",
       "      <th>6</th>\n",
       "      <td>DecisionTreeClassifier</td>\n",
       "      <td>0.8810</td>\n",
       "      <td>0.880938</td>\n",
       "      <td>0.8810</td>\n",
       "      <td>0.880901</td>\n",
       "    </tr>\n",
       "    <tr>\n",
       "      <th>0</th>\n",
       "      <td>LogisticRegression</td>\n",
       "      <td>0.8785</td>\n",
       "      <td>0.890806</td>\n",
       "      <td>0.8785</td>\n",
       "      <td>0.879956</td>\n",
       "    </tr>\n",
       "    <tr>\n",
       "      <th>5</th>\n",
       "      <td>GaussianNB</td>\n",
       "      <td>0.8390</td>\n",
       "      <td>0.862428</td>\n",
       "      <td>0.8390</td>\n",
       "      <td>0.842351</td>\n",
       "    </tr>\n",
       "    <tr>\n",
       "      <th>1</th>\n",
       "      <td>RidgeClassifier</td>\n",
       "      <td>0.8300</td>\n",
       "      <td>0.854471</td>\n",
       "      <td>0.8300</td>\n",
       "      <td>0.833506</td>\n",
       "    </tr>\n",
       "  </tbody>\n",
       "</table>\n",
       "</div>"
      ],
      "text/plain": [
       "               model_name  accuracy  precision  recall        f1\n",
       "4    KNeighborsClassifier    0.9105   0.912049  0.9105  0.910873\n",
       "2                     SVC    0.8990   0.911434  0.8990  0.900632\n",
       "3               LinearSVC    0.8880   0.896419  0.8880  0.889256\n",
       "6  DecisionTreeClassifier    0.8810   0.880938  0.8810  0.880901\n",
       "0      LogisticRegression    0.8785   0.890806  0.8785  0.879956\n",
       "5              GaussianNB    0.8390   0.862428  0.8390  0.842351\n",
       "1         RidgeClassifier    0.8300   0.854471  0.8300  0.833506"
      ]
     },
     "execution_count": 18,
     "metadata": {},
     "output_type": "execute_result"
    }
   ],
   "source": [
    "df_metrics = pd.DataFrame(metrics)\n",
    "df_metrics.sort_values(by=\"accuracy\", ascending=False)"
   ]
  }
 ],
 "metadata": {
  "kernelspec": {
   "display_name": "datasci",
   "language": "python",
   "name": "python3"
  },
  "language_info": {
   "codemirror_mode": {
    "name": "ipython",
    "version": 3
   },
   "file_extension": ".py",
   "mimetype": "text/x-python",
   "name": "python",
   "nbconvert_exporter": "python",
   "pygments_lexer": "ipython3",
   "version": "3.10.12"
  },
  "orig_nbformat": 4
 },
 "nbformat": 4,
 "nbformat_minor": 2
}
