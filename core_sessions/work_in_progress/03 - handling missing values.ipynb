{
 "cells": [
  {
   "cell_type": "code",
   "execution_count": 66,
   "metadata": {
    "collapsed": true
   },
   "outputs": [],
   "source": [
    "import pandas as pd\n",
    "import numpy as np\n",
    "import matplotlib.pyplot as plt\n",
    "import seaborn as sns"
   ]
  },
  {
   "cell_type": "markdown",
   "source": [
    "# Handling Missing Values\n",
    "\n",
    "Not all missing values are equal. Consider arbitrary survey data taken from the general population.\n",
    "\n",
    "**Missing Not At Random** - when a value is missing for a reason related to the true value. (Ex: if a survey responding chooses not to disclose their income, this could be because they have an abnormally high or low income)\n",
    "\n",
    "**Missing at Random** - when a value is missing for a reason related to another observed variable. (Ex: many age values are missing for survey respondents of a particular gender)\n",
    "\n",
    "**Missing Completely at Random** - when there's no patterns in the missing values."
   ],
   "metadata": {
    "collapsed": false
   }
  },
  {
   "cell_type": "code",
   "execution_count": 67,
   "outputs": [],
   "source": [
    "df = pd.read_csv(\"../data/eramissingvalues.csv\")"
   ],
   "metadata": {
    "collapsed": false
   }
  },
  {
   "cell_type": "code",
   "execution_count": 68,
   "outputs": [
    {
     "data": {
      "text/plain": "                  time  solar radiation\n0  2022-01-01 06:00:00             0.00\n1  2022-01-01 07:00:00              NaN\n2  2022-01-01 08:00:00        374614.12\n3  2022-01-01 09:00:00        834108.25\n4  2022-01-01 10:00:00       1202242.50",
      "text/html": "<div>\n<style scoped>\n    .dataframe tbody tr th:only-of-type {\n        vertical-align: middle;\n    }\n\n    .dataframe tbody tr th {\n        vertical-align: top;\n    }\n\n    .dataframe thead th {\n        text-align: right;\n    }\n</style>\n<table border=\"1\" class=\"dataframe\">\n  <thead>\n    <tr style=\"text-align: right;\">\n      <th></th>\n      <th>time</th>\n      <th>solar radiation</th>\n    </tr>\n  </thead>\n  <tbody>\n    <tr>\n      <th>0</th>\n      <td>2022-01-01 06:00:00</td>\n      <td>0.00</td>\n    </tr>\n    <tr>\n      <th>1</th>\n      <td>2022-01-01 07:00:00</td>\n      <td>NaN</td>\n    </tr>\n    <tr>\n      <th>2</th>\n      <td>2022-01-01 08:00:00</td>\n      <td>374614.12</td>\n    </tr>\n    <tr>\n      <th>3</th>\n      <td>2022-01-01 09:00:00</td>\n      <td>834108.25</td>\n    </tr>\n    <tr>\n      <th>4</th>\n      <td>2022-01-01 10:00:00</td>\n      <td>1202242.50</td>\n    </tr>\n  </tbody>\n</table>\n</div>"
     },
     "execution_count": 68,
     "metadata": {},
     "output_type": "execute_result"
    }
   ],
   "source": [
    "df.head()"
   ],
   "metadata": {
    "collapsed": false
   }
  },
  {
   "cell_type": "code",
   "execution_count": null,
   "outputs": [],
   "source": [],
   "metadata": {
    "collapsed": false
   }
  },
  {
   "cell_type": "markdown",
   "source": [
    "## Deletion\n",
    "\n",
    "- Column deletion: removing a column that has too many missing values and is non-essential for your model\n",
    "- Row deletion: removing rows with missing values, ideally if the missing values are Missing At Random, to avoid biasing your model"
   ],
   "metadata": {
    "collapsed": false
   }
  },
  {
   "cell_type": "code",
   "execution_count": 65,
   "outputs": [
    {
     "data": {
      "text/plain": "                     time  solar radiation\n0     2022-01-01 06:00:00            0.000\n2     2022-01-01 08:00:00       374614.120\n3     2022-01-01 09:00:00       834108.250\n4     2022-01-01 10:00:00      1202242.500\n5     2022-01-01 11:00:00      1403760.400\n...                   ...              ...\n3697  2022-08-08 17:00:00      1238234.800\n3698  2022-08-08 18:00:00       534686.500\n3699  2022-08-08 19:00:00        83661.125\n3701  2022-08-08 21:00:00            0.000\n3702  2022-08-08 22:00:00            0.000\n\n[3332 rows x 2 columns]",
      "text/html": "<div>\n<style scoped>\n    .dataframe tbody tr th:only-of-type {\n        vertical-align: middle;\n    }\n\n    .dataframe tbody tr th {\n        vertical-align: top;\n    }\n\n    .dataframe thead th {\n        text-align: right;\n    }\n</style>\n<table border=\"1\" class=\"dataframe\">\n  <thead>\n    <tr style=\"text-align: right;\">\n      <th></th>\n      <th>time</th>\n      <th>solar radiation</th>\n    </tr>\n  </thead>\n  <tbody>\n    <tr>\n      <th>0</th>\n      <td>2022-01-01 06:00:00</td>\n      <td>0.000</td>\n    </tr>\n    <tr>\n      <th>2</th>\n      <td>2022-01-01 08:00:00</td>\n      <td>374614.120</td>\n    </tr>\n    <tr>\n      <th>3</th>\n      <td>2022-01-01 09:00:00</td>\n      <td>834108.250</td>\n    </tr>\n    <tr>\n      <th>4</th>\n      <td>2022-01-01 10:00:00</td>\n      <td>1202242.500</td>\n    </tr>\n    <tr>\n      <th>5</th>\n      <td>2022-01-01 11:00:00</td>\n      <td>1403760.400</td>\n    </tr>\n    <tr>\n      <th>...</th>\n      <td>...</td>\n      <td>...</td>\n    </tr>\n    <tr>\n      <th>3697</th>\n      <td>2022-08-08 17:00:00</td>\n      <td>1238234.800</td>\n    </tr>\n    <tr>\n      <th>3698</th>\n      <td>2022-08-08 18:00:00</td>\n      <td>534686.500</td>\n    </tr>\n    <tr>\n      <th>3699</th>\n      <td>2022-08-08 19:00:00</td>\n      <td>83661.125</td>\n    </tr>\n    <tr>\n      <th>3701</th>\n      <td>2022-08-08 21:00:00</td>\n      <td>0.000</td>\n    </tr>\n    <tr>\n      <th>3702</th>\n      <td>2022-08-08 22:00:00</td>\n      <td>0.000</td>\n    </tr>\n  </tbody>\n</table>\n<p>3332 rows × 2 columns</p>\n</div>"
     },
     "execution_count": 65,
     "metadata": {},
     "output_type": "execute_result"
    }
   ],
   "source": [
    "df.dropna()"
   ],
   "metadata": {
    "collapsed": false
   }
  },
  {
   "cell_type": "code",
   "execution_count": 69,
   "outputs": [
    {
     "data": {
      "text/plain": "                  time  solar radiation\n0  2022-01-01 06:00:00             0.00\n1  2022-01-01 07:00:00              NaN\n2  2022-01-01 08:00:00        374614.12\n3  2022-01-01 09:00:00        834108.25\n4  2022-01-01 10:00:00       1202242.50",
      "text/html": "<div>\n<style scoped>\n    .dataframe tbody tr th:only-of-type {\n        vertical-align: middle;\n    }\n\n    .dataframe tbody tr th {\n        vertical-align: top;\n    }\n\n    .dataframe thead th {\n        text-align: right;\n    }\n</style>\n<table border=\"1\" class=\"dataframe\">\n  <thead>\n    <tr style=\"text-align: right;\">\n      <th></th>\n      <th>time</th>\n      <th>solar radiation</th>\n    </tr>\n  </thead>\n  <tbody>\n    <tr>\n      <th>0</th>\n      <td>2022-01-01 06:00:00</td>\n      <td>0.00</td>\n    </tr>\n    <tr>\n      <th>1</th>\n      <td>2022-01-01 07:00:00</td>\n      <td>NaN</td>\n    </tr>\n    <tr>\n      <th>2</th>\n      <td>2022-01-01 08:00:00</td>\n      <td>374614.12</td>\n    </tr>\n    <tr>\n      <th>3</th>\n      <td>2022-01-01 09:00:00</td>\n      <td>834108.25</td>\n    </tr>\n    <tr>\n      <th>4</th>\n      <td>2022-01-01 10:00:00</td>\n      <td>1202242.50</td>\n    </tr>\n  </tbody>\n</table>\n</div>"
     },
     "execution_count": 69,
     "metadata": {},
     "output_type": "execute_result"
    }
   ],
   "source": [
    "df.head()"
   ],
   "metadata": {
    "collapsed": false
   }
  },
  {
   "cell_type": "code",
   "execution_count": null,
   "outputs": [],
   "source": [
    "df.dropna(inplace=True)"
   ],
   "metadata": {
    "collapsed": false
   }
  },
  {
   "cell_type": "code",
   "execution_count": null,
   "outputs": [],
   "source": [
    "df = df.dropna(subset=['solar radiation'])"
   ],
   "metadata": {
    "collapsed": false
   }
  },
  {
   "cell_type": "code",
   "execution_count": 71,
   "outputs": [
    {
     "data": {
      "text/plain": "                     time\n0     2022-01-01 06:00:00\n1     2022-01-01 07:00:00\n2     2022-01-01 08:00:00\n3     2022-01-01 09:00:00\n4     2022-01-01 10:00:00\n...                   ...\n3698  2022-08-08 18:00:00\n3699  2022-08-08 19:00:00\n3700  2022-08-08 20:00:00\n3701  2022-08-08 21:00:00\n3702  2022-08-08 22:00:00\n\n[3703 rows x 1 columns]",
      "text/html": "<div>\n<style scoped>\n    .dataframe tbody tr th:only-of-type {\n        vertical-align: middle;\n    }\n\n    .dataframe tbody tr th {\n        vertical-align: top;\n    }\n\n    .dataframe thead th {\n        text-align: right;\n    }\n</style>\n<table border=\"1\" class=\"dataframe\">\n  <thead>\n    <tr style=\"text-align: right;\">\n      <th></th>\n      <th>time</th>\n    </tr>\n  </thead>\n  <tbody>\n    <tr>\n      <th>0</th>\n      <td>2022-01-01 06:00:00</td>\n    </tr>\n    <tr>\n      <th>1</th>\n      <td>2022-01-01 07:00:00</td>\n    </tr>\n    <tr>\n      <th>2</th>\n      <td>2022-01-01 08:00:00</td>\n    </tr>\n    <tr>\n      <th>3</th>\n      <td>2022-01-01 09:00:00</td>\n    </tr>\n    <tr>\n      <th>4</th>\n      <td>2022-01-01 10:00:00</td>\n    </tr>\n    <tr>\n      <th>...</th>\n      <td>...</td>\n    </tr>\n    <tr>\n      <th>3698</th>\n      <td>2022-08-08 18:00:00</td>\n    </tr>\n    <tr>\n      <th>3699</th>\n      <td>2022-08-08 19:00:00</td>\n    </tr>\n    <tr>\n      <th>3700</th>\n      <td>2022-08-08 20:00:00</td>\n    </tr>\n    <tr>\n      <th>3701</th>\n      <td>2022-08-08 21:00:00</td>\n    </tr>\n    <tr>\n      <th>3702</th>\n      <td>2022-08-08 22:00:00</td>\n    </tr>\n  </tbody>\n</table>\n<p>3703 rows × 1 columns</p>\n</div>"
     },
     "execution_count": 71,
     "metadata": {},
     "output_type": "execute_result"
    }
   ],
   "source": [
    "#df.drop('solar radiation')\n",
    "df.drop('solar radiation', axis=1)"
   ],
   "metadata": {
    "collapsed": false
   }
  },
  {
   "cell_type": "markdown",
   "source": [
    "## Imputation\n",
    "\n",
    "- Fill missing values with their defaults (empty string, zero, etc...)\n",
    "- Fill missing values with the mean, median, or mode\n",
    "- Backward or forward fill\n",
    "- Imputation risks injecting your own bias and adding noise to the data, and should be performed with caution"
   ],
   "metadata": {
    "collapsed": false
   }
  },
  {
   "cell_type": "code",
   "execution_count": 72,
   "outputs": [
    {
     "data": {
      "text/plain": "                     time  solar radiation\n0     2022-01-01 06:00:00            0.000\n1     2022-01-01 07:00:00            1.000\n2     2022-01-01 08:00:00       374614.120\n3     2022-01-01 09:00:00       834108.250\n4     2022-01-01 10:00:00      1202242.500\n...                   ...              ...\n3698  2022-08-08 18:00:00       534686.500\n3699  2022-08-08 19:00:00        83661.125\n3700  2022-08-08 20:00:00            1.000\n3701  2022-08-08 21:00:00            0.000\n3702  2022-08-08 22:00:00            0.000\n\n[3703 rows x 2 columns]",
      "text/html": "<div>\n<style scoped>\n    .dataframe tbody tr th:only-of-type {\n        vertical-align: middle;\n    }\n\n    .dataframe tbody tr th {\n        vertical-align: top;\n    }\n\n    .dataframe thead th {\n        text-align: right;\n    }\n</style>\n<table border=\"1\" class=\"dataframe\">\n  <thead>\n    <tr style=\"text-align: right;\">\n      <th></th>\n      <th>time</th>\n      <th>solar radiation</th>\n    </tr>\n  </thead>\n  <tbody>\n    <tr>\n      <th>0</th>\n      <td>2022-01-01 06:00:00</td>\n      <td>0.000</td>\n    </tr>\n    <tr>\n      <th>1</th>\n      <td>2022-01-01 07:00:00</td>\n      <td>1.000</td>\n    </tr>\n    <tr>\n      <th>2</th>\n      <td>2022-01-01 08:00:00</td>\n      <td>374614.120</td>\n    </tr>\n    <tr>\n      <th>3</th>\n      <td>2022-01-01 09:00:00</td>\n      <td>834108.250</td>\n    </tr>\n    <tr>\n      <th>4</th>\n      <td>2022-01-01 10:00:00</td>\n      <td>1202242.500</td>\n    </tr>\n    <tr>\n      <th>...</th>\n      <td>...</td>\n      <td>...</td>\n    </tr>\n    <tr>\n      <th>3698</th>\n      <td>2022-08-08 18:00:00</td>\n      <td>534686.500</td>\n    </tr>\n    <tr>\n      <th>3699</th>\n      <td>2022-08-08 19:00:00</td>\n      <td>83661.125</td>\n    </tr>\n    <tr>\n      <th>3700</th>\n      <td>2022-08-08 20:00:00</td>\n      <td>1.000</td>\n    </tr>\n    <tr>\n      <th>3701</th>\n      <td>2022-08-08 21:00:00</td>\n      <td>0.000</td>\n    </tr>\n    <tr>\n      <th>3702</th>\n      <td>2022-08-08 22:00:00</td>\n      <td>0.000</td>\n    </tr>\n  </tbody>\n</table>\n<p>3703 rows × 2 columns</p>\n</div>"
     },
     "execution_count": 72,
     "metadata": {},
     "output_type": "execute_result"
    }
   ],
   "source": [
    "df.fillna(0)"
   ],
   "metadata": {
    "collapsed": false
   }
  },
  {
   "cell_type": "code",
   "execution_count": 74,
   "outputs": [
    {
     "data": {
      "text/plain": "                     time  solar radiation\n0     2022-01-01 06:00:00     0.000000e+00\n1     2022-01-01 07:00:00     1.285424e+06\n2     2022-01-01 08:00:00     3.746141e+05\n3     2022-01-01 09:00:00     8.341082e+05\n4     2022-01-01 10:00:00     1.202242e+06\n...                   ...              ...\n3698  2022-08-08 18:00:00     5.346865e+05\n3699  2022-08-08 19:00:00     8.366112e+04\n3700  2022-08-08 20:00:00     1.285424e+06\n3701  2022-08-08 21:00:00     0.000000e+00\n3702  2022-08-08 22:00:00     0.000000e+00\n\n[3703 rows x 2 columns]",
      "text/html": "<div>\n<style scoped>\n    .dataframe tbody tr th:only-of-type {\n        vertical-align: middle;\n    }\n\n    .dataframe tbody tr th {\n        vertical-align: top;\n    }\n\n    .dataframe thead th {\n        text-align: right;\n    }\n</style>\n<table border=\"1\" class=\"dataframe\">\n  <thead>\n    <tr style=\"text-align: right;\">\n      <th></th>\n      <th>time</th>\n      <th>solar radiation</th>\n    </tr>\n  </thead>\n  <tbody>\n    <tr>\n      <th>0</th>\n      <td>2022-01-01 06:00:00</td>\n      <td>0.000000e+00</td>\n    </tr>\n    <tr>\n      <th>1</th>\n      <td>2022-01-01 07:00:00</td>\n      <td>1.285424e+06</td>\n    </tr>\n    <tr>\n      <th>2</th>\n      <td>2022-01-01 08:00:00</td>\n      <td>3.746141e+05</td>\n    </tr>\n    <tr>\n      <th>3</th>\n      <td>2022-01-01 09:00:00</td>\n      <td>8.341082e+05</td>\n    </tr>\n    <tr>\n      <th>4</th>\n      <td>2022-01-01 10:00:00</td>\n      <td>1.202242e+06</td>\n    </tr>\n    <tr>\n      <th>...</th>\n      <td>...</td>\n      <td>...</td>\n    </tr>\n    <tr>\n      <th>3698</th>\n      <td>2022-08-08 18:00:00</td>\n      <td>5.346865e+05</td>\n    </tr>\n    <tr>\n      <th>3699</th>\n      <td>2022-08-08 19:00:00</td>\n      <td>8.366112e+04</td>\n    </tr>\n    <tr>\n      <th>3700</th>\n      <td>2022-08-08 20:00:00</td>\n      <td>1.285424e+06</td>\n    </tr>\n    <tr>\n      <th>3701</th>\n      <td>2022-08-08 21:00:00</td>\n      <td>0.000000e+00</td>\n    </tr>\n    <tr>\n      <th>3702</th>\n      <td>2022-08-08 22:00:00</td>\n      <td>0.000000e+00</td>\n    </tr>\n  </tbody>\n</table>\n<p>3703 rows × 2 columns</p>\n</div>"
     },
     "execution_count": 74,
     "metadata": {},
     "output_type": "execute_result"
    }
   ],
   "source": [
    "df['solar radiation'].mean()"
   ],
   "metadata": {
    "collapsed": false
   }
  },
  {
   "cell_type": "code",
   "execution_count": 75,
   "outputs": [
    {
     "data": {
      "text/plain": "                  time  solar radiation\n0  2022-01-01 06:00:00             0.00\n1  2022-01-01 07:00:00              NaN\n2  2022-01-01 08:00:00        374614.12\n3  2022-01-01 09:00:00        834108.25\n4  2022-01-01 10:00:00       1202242.50",
      "text/html": "<div>\n<style scoped>\n    .dataframe tbody tr th:only-of-type {\n        vertical-align: middle;\n    }\n\n    .dataframe tbody tr th {\n        vertical-align: top;\n    }\n\n    .dataframe thead th {\n        text-align: right;\n    }\n</style>\n<table border=\"1\" class=\"dataframe\">\n  <thead>\n    <tr style=\"text-align: right;\">\n      <th></th>\n      <th>time</th>\n      <th>solar radiation</th>\n    </tr>\n  </thead>\n  <tbody>\n    <tr>\n      <th>0</th>\n      <td>2022-01-01 06:00:00</td>\n      <td>0.00</td>\n    </tr>\n    <tr>\n      <th>1</th>\n      <td>2022-01-01 07:00:00</td>\n      <td>NaN</td>\n    </tr>\n    <tr>\n      <th>2</th>\n      <td>2022-01-01 08:00:00</td>\n      <td>374614.12</td>\n    </tr>\n    <tr>\n      <th>3</th>\n      <td>2022-01-01 09:00:00</td>\n      <td>834108.25</td>\n    </tr>\n    <tr>\n      <th>4</th>\n      <td>2022-01-01 10:00:00</td>\n      <td>1202242.50</td>\n    </tr>\n  </tbody>\n</table>\n</div>"
     },
     "execution_count": 75,
     "metadata": {},
     "output_type": "execute_result"
    }
   ],
   "source": [
    "df.head()"
   ],
   "metadata": {
    "collapsed": false
   }
  },
  {
   "cell_type": "code",
   "execution_count": 49,
   "outputs": [
    {
     "data": {
      "text/plain": "                     time  solar radiation\n0     2022-01-01 06:00:00            0.000\n1     2022-01-01 07:00:00            0.000\n2     2022-01-01 08:00:00       374614.120\n3     2022-01-01 09:00:00       834108.250\n4     2022-01-01 10:00:00      1202242.500\n...                   ...              ...\n3698  2022-08-08 18:00:00       534686.500\n3699  2022-08-08 19:00:00        83661.125\n3700  2022-08-08 20:00:00        83661.125\n3701  2022-08-08 21:00:00            0.000\n3702  2022-08-08 22:00:00            0.000\n\n[3703 rows x 2 columns]",
      "text/html": "<div>\n<style scoped>\n    .dataframe tbody tr th:only-of-type {\n        vertical-align: middle;\n    }\n\n    .dataframe tbody tr th {\n        vertical-align: top;\n    }\n\n    .dataframe thead th {\n        text-align: right;\n    }\n</style>\n<table border=\"1\" class=\"dataframe\">\n  <thead>\n    <tr style=\"text-align: right;\">\n      <th></th>\n      <th>time</th>\n      <th>solar radiation</th>\n    </tr>\n  </thead>\n  <tbody>\n    <tr>\n      <th>0</th>\n      <td>2022-01-01 06:00:00</td>\n      <td>0.000</td>\n    </tr>\n    <tr>\n      <th>1</th>\n      <td>2022-01-01 07:00:00</td>\n      <td>0.000</td>\n    </tr>\n    <tr>\n      <th>2</th>\n      <td>2022-01-01 08:00:00</td>\n      <td>374614.120</td>\n    </tr>\n    <tr>\n      <th>3</th>\n      <td>2022-01-01 09:00:00</td>\n      <td>834108.250</td>\n    </tr>\n    <tr>\n      <th>4</th>\n      <td>2022-01-01 10:00:00</td>\n      <td>1202242.500</td>\n    </tr>\n    <tr>\n      <th>...</th>\n      <td>...</td>\n      <td>...</td>\n    </tr>\n    <tr>\n      <th>3698</th>\n      <td>2022-08-08 18:00:00</td>\n      <td>534686.500</td>\n    </tr>\n    <tr>\n      <th>3699</th>\n      <td>2022-08-08 19:00:00</td>\n      <td>83661.125</td>\n    </tr>\n    <tr>\n      <th>3700</th>\n      <td>2022-08-08 20:00:00</td>\n      <td>83661.125</td>\n    </tr>\n    <tr>\n      <th>3701</th>\n      <td>2022-08-08 21:00:00</td>\n      <td>0.000</td>\n    </tr>\n    <tr>\n      <th>3702</th>\n      <td>2022-08-08 22:00:00</td>\n      <td>0.000</td>\n    </tr>\n  </tbody>\n</table>\n<p>3703 rows × 2 columns</p>\n</div>"
     },
     "execution_count": 49,
     "metadata": {},
     "output_type": "execute_result"
    }
   ],
   "source": [
    "df.ffill()"
   ],
   "metadata": {
    "collapsed": false
   }
  },
  {
   "cell_type": "code",
   "execution_count": 47,
   "outputs": [
    {
     "data": {
      "text/plain": "                     time  solar radiation\n0     2022-01-01 06:00:00            0.000\n1     2022-01-01 07:00:00       374614.120\n2     2022-01-01 08:00:00       374614.120\n3     2022-01-01 09:00:00       834108.250\n4     2022-01-01 10:00:00      1202242.500\n...                   ...              ...\n3698  2022-08-08 18:00:00       534686.500\n3699  2022-08-08 19:00:00        83661.125\n3700  2022-08-08 20:00:00            0.000\n3701  2022-08-08 21:00:00            0.000\n3702  2022-08-08 22:00:00            0.000\n\n[3703 rows x 2 columns]",
      "text/html": "<div>\n<style scoped>\n    .dataframe tbody tr th:only-of-type {\n        vertical-align: middle;\n    }\n\n    .dataframe tbody tr th {\n        vertical-align: top;\n    }\n\n    .dataframe thead th {\n        text-align: right;\n    }\n</style>\n<table border=\"1\" class=\"dataframe\">\n  <thead>\n    <tr style=\"text-align: right;\">\n      <th></th>\n      <th>time</th>\n      <th>solar radiation</th>\n    </tr>\n  </thead>\n  <tbody>\n    <tr>\n      <th>0</th>\n      <td>2022-01-01 06:00:00</td>\n      <td>0.000</td>\n    </tr>\n    <tr>\n      <th>1</th>\n      <td>2022-01-01 07:00:00</td>\n      <td>374614.120</td>\n    </tr>\n    <tr>\n      <th>2</th>\n      <td>2022-01-01 08:00:00</td>\n      <td>374614.120</td>\n    </tr>\n    <tr>\n      <th>3</th>\n      <td>2022-01-01 09:00:00</td>\n      <td>834108.250</td>\n    </tr>\n    <tr>\n      <th>4</th>\n      <td>2022-01-01 10:00:00</td>\n      <td>1202242.500</td>\n    </tr>\n    <tr>\n      <th>...</th>\n      <td>...</td>\n      <td>...</td>\n    </tr>\n    <tr>\n      <th>3698</th>\n      <td>2022-08-08 18:00:00</td>\n      <td>534686.500</td>\n    </tr>\n    <tr>\n      <th>3699</th>\n      <td>2022-08-08 19:00:00</td>\n      <td>83661.125</td>\n    </tr>\n    <tr>\n      <th>3700</th>\n      <td>2022-08-08 20:00:00</td>\n      <td>0.000</td>\n    </tr>\n    <tr>\n      <th>3701</th>\n      <td>2022-08-08 21:00:00</td>\n      <td>0.000</td>\n    </tr>\n    <tr>\n      <th>3702</th>\n      <td>2022-08-08 22:00:00</td>\n      <td>0.000</td>\n    </tr>\n  </tbody>\n</table>\n<p>3703 rows × 2 columns</p>\n</div>"
     },
     "execution_count": 47,
     "metadata": {},
     "output_type": "execute_result"
    }
   ],
   "source": [
    "df.bfill()"
   ],
   "metadata": {
    "collapsed": false
   }
  },
  {
   "cell_type": "code",
   "execution_count": 76,
   "outputs": [
    {
     "data": {
      "text/plain": "                     time  solar radiation\n0     2022-01-01 06:00:00     0.000000e+00\n1     2022-01-01 07:00:00     1.873071e+05\n2     2022-01-01 08:00:00     3.746141e+05\n3     2022-01-01 09:00:00     8.341082e+05\n4     2022-01-01 10:00:00     1.202242e+06\n...                   ...              ...\n3698  2022-08-08 18:00:00     5.346865e+05\n3699  2022-08-08 19:00:00     8.366112e+04\n3700  2022-08-08 20:00:00     4.183056e+04\n3701  2022-08-08 21:00:00     0.000000e+00\n3702  2022-08-08 22:00:00     0.000000e+00\n\n[3703 rows x 2 columns]",
      "text/html": "<div>\n<style scoped>\n    .dataframe tbody tr th:only-of-type {\n        vertical-align: middle;\n    }\n\n    .dataframe tbody tr th {\n        vertical-align: top;\n    }\n\n    .dataframe thead th {\n        text-align: right;\n    }\n</style>\n<table border=\"1\" class=\"dataframe\">\n  <thead>\n    <tr style=\"text-align: right;\">\n      <th></th>\n      <th>time</th>\n      <th>solar radiation</th>\n    </tr>\n  </thead>\n  <tbody>\n    <tr>\n      <th>0</th>\n      <td>2022-01-01 06:00:00</td>\n      <td>0.000000e+00</td>\n    </tr>\n    <tr>\n      <th>1</th>\n      <td>2022-01-01 07:00:00</td>\n      <td>1.873071e+05</td>\n    </tr>\n    <tr>\n      <th>2</th>\n      <td>2022-01-01 08:00:00</td>\n      <td>3.746141e+05</td>\n    </tr>\n    <tr>\n      <th>3</th>\n      <td>2022-01-01 09:00:00</td>\n      <td>8.341082e+05</td>\n    </tr>\n    <tr>\n      <th>4</th>\n      <td>2022-01-01 10:00:00</td>\n      <td>1.202242e+06</td>\n    </tr>\n    <tr>\n      <th>...</th>\n      <td>...</td>\n      <td>...</td>\n    </tr>\n    <tr>\n      <th>3698</th>\n      <td>2022-08-08 18:00:00</td>\n      <td>5.346865e+05</td>\n    </tr>\n    <tr>\n      <th>3699</th>\n      <td>2022-08-08 19:00:00</td>\n      <td>8.366112e+04</td>\n    </tr>\n    <tr>\n      <th>3700</th>\n      <td>2022-08-08 20:00:00</td>\n      <td>4.183056e+04</td>\n    </tr>\n    <tr>\n      <th>3701</th>\n      <td>2022-08-08 21:00:00</td>\n      <td>0.000000e+00</td>\n    </tr>\n    <tr>\n      <th>3702</th>\n      <td>2022-08-08 22:00:00</td>\n      <td>0.000000e+00</td>\n    </tr>\n  </tbody>\n</table>\n<p>3703 rows × 2 columns</p>\n</div>"
     },
     "execution_count": 76,
     "metadata": {},
     "output_type": "execute_result"
    }
   ],
   "source": [
    "df.interpolate()"
   ],
   "metadata": {
    "collapsed": false
   }
  },
  {
   "cell_type": "code",
   "execution_count": null,
   "outputs": [],
   "source": [],
   "metadata": {
    "collapsed": false
   }
  }
 ],
 "metadata": {
  "kernelspec": {
   "display_name": "Python 3",
   "language": "python",
   "name": "python3"
  },
  "language_info": {
   "codemirror_mode": {
    "name": "ipython",
    "version": 2
   },
   "file_extension": ".py",
   "mimetype": "text/x-python",
   "name": "python",
   "nbconvert_exporter": "python",
   "pygments_lexer": "ipython2",
   "version": "2.7.6"
  }
 },
 "nbformat": 4,
 "nbformat_minor": 0
}
