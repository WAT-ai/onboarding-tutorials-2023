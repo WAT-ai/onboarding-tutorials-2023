{
 "cells": [
  {
   "cell_type": "markdown",
   "source": [
    "## Dive into Deep Learning\n",
    "Prerequisites:\n",
    "- Python experience, including a basing understanding of python syntax, loops, conditional statements, functions, and data types in python\n",
    "- Some background in numerical computing - MATLAB, R, numpy, or similar, and an understanding of vectors, matrices, and relevant linear algebra concepts\n",
    "- An understanding of model selection, train/test split, performance metrics and other concepts covered in the session on Classical Machine Learning\n",
    "- Concepts covered in Neural Networks for Novices are assumed to be prerequisite knowledge\n",
    "\n",
    "Goals for this session:\n",
    "- Discuss regularization strategies such as batch norm, layer norm, and dropout layers\n",
    "- Explore more complex model architectures, block structures, and applications of neural networks that are common in industry and academia\n",
    "- Investigate how deep learning can be applied to different data modalities and for a wider variety of machine learning tasks\n",
    "- Apply this knowledge to implement a deep learning model in PyTorch, based on technical specifications"
   ],
   "metadata": {
    "collapsed": false
   }
  },
  {
   "cell_type": "code",
   "execution_count": null,
   "outputs": [],
   "source": [],
   "metadata": {
    "collapsed": false
   }
  }
 ],
 "metadata": {
  "kernelspec": {
   "display_name": "Python 3",
   "language": "python",
   "name": "python3"
  },
  "language_info": {
   "codemirror_mode": {
    "name": "ipython",
    "version": 2
   },
   "file_extension": ".py",
   "mimetype": "text/x-python",
   "name": "python",
   "nbconvert_exporter": "python",
   "pygments_lexer": "ipython2",
   "version": "2.7.6"
  }
 },
 "nbformat": 4,
 "nbformat_minor": 0
}
