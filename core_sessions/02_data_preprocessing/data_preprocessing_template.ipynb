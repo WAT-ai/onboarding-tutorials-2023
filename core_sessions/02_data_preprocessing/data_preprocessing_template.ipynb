{
 "cells": [
  {
   "cell_type": "markdown",
   "source": [
    "## Data Preprocessing\n",
    "Prerequisites:\n",
    "- Python experience, including a basing understanding of python syntax, loops, conditional statements, functions, and data types in python\n",
    "- Some background in statistics is helpful\n",
    "\n",
    "Goals for this session:\n",
    "- Learn to perform basic exploratory data analysis (EDA) and data visualization\n",
    "- Identify outliers, handle missing values, and perform other common data operations such as normalization, interpolation, and filtering\n",
    "- Understand the intuition behind various preprocessing techniques for both categorical and continuous features"
   ],
   "metadata": {
    "collapsed": false
   }
  },
  {
   "cell_type": "code",
   "execution_count": null,
   "outputs": [],
   "source": [],
   "metadata": {
    "collapsed": false
   }
  }
 ],
 "metadata": {
  "kernelspec": {
   "display_name": "Python 3",
   "language": "python",
   "name": "python3"
  },
  "language_info": {
   "codemirror_mode": {
    "name": "ipython",
    "version": 2
   },
   "file_extension": ".py",
   "mimetype": "text/x-python",
   "name": "python",
   "nbconvert_exporter": "python",
   "pygments_lexer": "ipython2",
   "version": "2.7.6"
  }
 },
 "nbformat": 4,
 "nbformat_minor": 0
}
