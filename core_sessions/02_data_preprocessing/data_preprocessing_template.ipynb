{
 "cells": [
  {
   "cell_type": "markdown",
   "source": [
    "# Data Preprocessing\n",
    "Prerequisites:\n",
    "- Python experience, including a basing understanding of python syntax, loops, conditional statements, functions, and data types in python\n",
    "- Some background in statistics is helpful\n",
    "\n",
    "Goals for this session:\n",
    "- Learn to perform basic exploratory data analysis (EDA) and data visualization\n",
    "- Identify outliers, handle missing values, and perform other common data operations such as normalization, interpolation, and filtering\n",
    "- Understand the intuition behind various preprocessing techniques for both categorical and continuous features\n",
    "- Apply EDA and data preprocessing techniques to a novel data set without context\n"
   ],
   "metadata": {
    "collapsed": false
   }
  },
  {
   "cell_type": "markdown",
   "source": [
    "# Date fruit and Pumpkin seed dataset\n",
    "\n",
    "# Techniques\n",
    "In this code-along exercise, we will cover the following data processing techniques:\n",
    "- Basic data views\n",
    "- Renaming columns with `df.rename()`\n",
    "- Filtering, viewing subsets with `df.loc[]`\n",
    "- Sorting with `df.sort()`\n",
    "- Merges with `pd.join` or `df.merge`\n",
    "- Removing outliers with custom functions\n",
    "- Normalization\n",
    "\n",
    "[Pandas documentation](https://pandas.pydata.org/docs/reference/frame.html)"
   ],
   "metadata": {
    "collapsed": false
   }
  },
  {
   "cell_type": "markdown",
   "source": [
    "# Imports\n",
    "By convention, we use the `as` in the import statement to alias `numpy` to `np`. Similarly, we alias `pandas` to `pd`. Another convention we will use is calling Pandas DataFrame objects `df`."
   ],
   "metadata": {
    "collapsed": false
   }
  },
  {
   "cell_type": "code",
   "execution_count": 1,
   "outputs": [],
   "source": [
    "import numpy as np\n",
    "import pandas as pd\n",
    "import matplotlib.pyplot as plt\n",
    "from sklearn.preprocessing import StandardScaler"
   ],
   "metadata": {
    "collapsed": false
   }
  },
  {
   "cell_type": "markdown",
   "source": [
    "# Load the data\n",
    "The [Pumpkin seeds dataset](https://www.kaggle.com/datasets/muratkokludataset/pumpkin-seeds-dataset) and the [Date fruits datset](https://www.kaggle.com/datasets/muratkokludataset/date-fruit-datasets) features were derived from automated analysis of the respective foods.\n",
    "\n",
    "In this section, we are going to prepare the date fruits dataset to match the format of the pumpkin seeds dataset so that we could train a machine learning model to distinguish between the two.\n",
    "- Learn about basic DataFrame manipulation\n",
    "- Clean up the features to prepare them for use in a machine learning algorithm"
   ],
   "metadata": {
    "collapsed": false
   }
  },
  {
   "cell_type": "code",
   "execution_count": 2,
   "outputs": [],
   "source": [
    "df = pd.read_csv(\"../data/date_fruits.csv\")"
   ],
   "metadata": {
    "collapsed": false
   }
  },
  {
   "cell_type": "markdown",
   "source": [
    "# DataFrame basics\n",
    "\n",
    "To view the first `n` lines of a DataFrame, we can use `df.head(n)`. By default, `n = 5`. Similarly, to view the last `n` lines, we can use `df.tail(n)`.\n",
    "\n",
    "In the Jupyter Notebook, the last line of each cell executed prints to the notebook. Simply writing `df` as the last line in a cell will print out an abridged version of the DataFrame."
   ],
   "metadata": {
    "collapsed": false
   }
  },
  {
   "cell_type": "code",
   "execution_count": 3,
   "outputs": [
    {
     "data": {
      "text/plain": "     AREA  PERIMETER  MAJOR_AXIS  MINOR_AXIS  ECCENTRICITY   EQDIASQ   \n0  422163   2378.908    837.8484    645.6693        0.6373  733.1539  \\\n1  338136   2085.144    723.8198    595.2073        0.5690  656.1464   \n2  526843   2647.394    940.7379    715.3638        0.6494  819.0222   \n3  416063   2351.210    827.9804    645.2988        0.6266  727.8378   \n4  347562   2160.354    763.9877    582.8359        0.6465  665.2291   \n\n   SOLIDITY  CONVEX_AREA  EXTENT  ASPECT_RATIO  ...  KurtosisRR  KurtosisRG   \n0    0.9947       424428  0.7831        1.2976  ...      3.2370      2.9574  \\\n1    0.9974       339014  0.7795        1.2161  ...      2.6228      2.6350   \n2    0.9962       528876  0.7657        1.3150  ...      3.7516      3.8611   \n3    0.9948       418255  0.7759        1.2831  ...      5.0401      8.6136   \n4    0.9908       350797  0.7569        1.3108  ...      2.7016      2.9761   \n\n   KurtosisRB     EntropyRR    EntropyRG    EntropyRB  ALLdaub4RR  ALLdaub4RG   \n0      4.2287 -5.919126e+10 -50714214400 -39922372608     58.7255     54.9554  \\\n1      3.1704 -3.423307e+10 -37462601728 -31477794816     50.0259     52.8168   \n2      4.7192 -9.394835e+10 -74738221056 -60311207936     65.4772     59.2860   \n3      8.2618 -3.207431e+10 -32060925952 -29575010304     43.3900     44.1259   \n4      4.4146 -3.998097e+10 -35980042240 -25593278464     52.7743     50.9080   \n\n   ALLdaub4RB  Class  \n0     47.8400  BERHI  \n1     47.8315  BERHI  \n2     51.9378  BERHI  \n3     41.1882  BERHI  \n4     42.6666  BERHI  \n\n[5 rows x 35 columns]",
      "text/html": "<div>\n<style scoped>\n    .dataframe tbody tr th:only-of-type {\n        vertical-align: middle;\n    }\n\n    .dataframe tbody tr th {\n        vertical-align: top;\n    }\n\n    .dataframe thead th {\n        text-align: right;\n    }\n</style>\n<table border=\"1\" class=\"dataframe\">\n  <thead>\n    <tr style=\"text-align: right;\">\n      <th></th>\n      <th>AREA</th>\n      <th>PERIMETER</th>\n      <th>MAJOR_AXIS</th>\n      <th>MINOR_AXIS</th>\n      <th>ECCENTRICITY</th>\n      <th>EQDIASQ</th>\n      <th>SOLIDITY</th>\n      <th>CONVEX_AREA</th>\n      <th>EXTENT</th>\n      <th>ASPECT_RATIO</th>\n      <th>...</th>\n      <th>KurtosisRR</th>\n      <th>KurtosisRG</th>\n      <th>KurtosisRB</th>\n      <th>EntropyRR</th>\n      <th>EntropyRG</th>\n      <th>EntropyRB</th>\n      <th>ALLdaub4RR</th>\n      <th>ALLdaub4RG</th>\n      <th>ALLdaub4RB</th>\n      <th>Class</th>\n    </tr>\n  </thead>\n  <tbody>\n    <tr>\n      <th>0</th>\n      <td>422163</td>\n      <td>2378.908</td>\n      <td>837.8484</td>\n      <td>645.6693</td>\n      <td>0.6373</td>\n      <td>733.1539</td>\n      <td>0.9947</td>\n      <td>424428</td>\n      <td>0.7831</td>\n      <td>1.2976</td>\n      <td>...</td>\n      <td>3.2370</td>\n      <td>2.9574</td>\n      <td>4.2287</td>\n      <td>-5.919126e+10</td>\n      <td>-50714214400</td>\n      <td>-39922372608</td>\n      <td>58.7255</td>\n      <td>54.9554</td>\n      <td>47.8400</td>\n      <td>BERHI</td>\n    </tr>\n    <tr>\n      <th>1</th>\n      <td>338136</td>\n      <td>2085.144</td>\n      <td>723.8198</td>\n      <td>595.2073</td>\n      <td>0.5690</td>\n      <td>656.1464</td>\n      <td>0.9974</td>\n      <td>339014</td>\n      <td>0.7795</td>\n      <td>1.2161</td>\n      <td>...</td>\n      <td>2.6228</td>\n      <td>2.6350</td>\n      <td>3.1704</td>\n      <td>-3.423307e+10</td>\n      <td>-37462601728</td>\n      <td>-31477794816</td>\n      <td>50.0259</td>\n      <td>52.8168</td>\n      <td>47.8315</td>\n      <td>BERHI</td>\n    </tr>\n    <tr>\n      <th>2</th>\n      <td>526843</td>\n      <td>2647.394</td>\n      <td>940.7379</td>\n      <td>715.3638</td>\n      <td>0.6494</td>\n      <td>819.0222</td>\n      <td>0.9962</td>\n      <td>528876</td>\n      <td>0.7657</td>\n      <td>1.3150</td>\n      <td>...</td>\n      <td>3.7516</td>\n      <td>3.8611</td>\n      <td>4.7192</td>\n      <td>-9.394835e+10</td>\n      <td>-74738221056</td>\n      <td>-60311207936</td>\n      <td>65.4772</td>\n      <td>59.2860</td>\n      <td>51.9378</td>\n      <td>BERHI</td>\n    </tr>\n    <tr>\n      <th>3</th>\n      <td>416063</td>\n      <td>2351.210</td>\n      <td>827.9804</td>\n      <td>645.2988</td>\n      <td>0.6266</td>\n      <td>727.8378</td>\n      <td>0.9948</td>\n      <td>418255</td>\n      <td>0.7759</td>\n      <td>1.2831</td>\n      <td>...</td>\n      <td>5.0401</td>\n      <td>8.6136</td>\n      <td>8.2618</td>\n      <td>-3.207431e+10</td>\n      <td>-32060925952</td>\n      <td>-29575010304</td>\n      <td>43.3900</td>\n      <td>44.1259</td>\n      <td>41.1882</td>\n      <td>BERHI</td>\n    </tr>\n    <tr>\n      <th>4</th>\n      <td>347562</td>\n      <td>2160.354</td>\n      <td>763.9877</td>\n      <td>582.8359</td>\n      <td>0.6465</td>\n      <td>665.2291</td>\n      <td>0.9908</td>\n      <td>350797</td>\n      <td>0.7569</td>\n      <td>1.3108</td>\n      <td>...</td>\n      <td>2.7016</td>\n      <td>2.9761</td>\n      <td>4.4146</td>\n      <td>-3.998097e+10</td>\n      <td>-35980042240</td>\n      <td>-25593278464</td>\n      <td>52.7743</td>\n      <td>50.9080</td>\n      <td>42.6666</td>\n      <td>BERHI</td>\n    </tr>\n  </tbody>\n</table>\n<p>5 rows × 35 columns</p>\n</div>"
     },
     "execution_count": 3,
     "metadata": {},
     "output_type": "execute_result"
    }
   ],
   "source": [
    "df.head()"
   ],
   "metadata": {
    "collapsed": false
   }
  },
  {
   "cell_type": "code",
   "execution_count": 4,
   "outputs": [
    {
     "data": {
      "text/plain": "       AREA  PERIMETER  MAJOR_AXIS  MINOR_AXIS  ECCENTRICITY   EQDIASQ   \n888  242092  1875.0250    700.3940    441.3842        0.7764  555.1946  \\\n889  221306  1836.3361    698.2211    425.5484        0.7928  530.8254   \n890  346353  2324.4900    840.6997    527.3477        0.7788  664.0710   \n891  283636  2036.3490    751.8530    482.4856        0.7669  600.9464   \n892  313194  2095.9231    769.1030    519.8459        0.7370  631.4832   \n893  255403  1925.3650    691.8453    477.1796        0.7241  570.2536   \n894  365924  2664.8230    855.4633    551.5447        0.7644  682.5752   \n895  254330  1926.7360    747.4943    435.6219        0.8126  569.0545   \n896  238955  1906.2679    716.6485    441.8297        0.7873  551.5859   \n897  343792  2289.2720    823.8438    534.7757        0.7607  661.6113   \n\n     SOLIDITY  CONVEX_AREA  EXTENT  ASPECT_RATIO  ...  KurtosisRR  KurtosisRG   \n888    0.9930       243806  0.7163        1.5868  ...      2.1165      2.3162  \\\n889    0.9553       231671  0.7183        1.6408  ...      2.6661      3.1736   \n890    0.9758       354954  0.6792        1.5942  ...      2.4594      2.3749   \n891    0.9819       288870  0.7005        1.5583  ...      2.1874      2.0473   \n892    0.9905       316201  0.7231        1.4795  ...      2.1584      2.1710   \n893    0.9785       261028  0.7269        1.4499  ...      2.2423      2.3704   \n894    0.9466       386566  0.6695        1.5510  ...      3.4109      3.5805   \n895    0.9925       256255  0.7240        1.7159  ...      2.2759      2.5090   \n896    0.9604       248795  0.6954        1.6220  ...      2.6769      2.6874   \n897    0.9781       351472  0.6941        1.5405  ...      2.5138      3.0369   \n\n     KurtosisRB     EntropyRR    EntropyRG    EntropyRB  ALLdaub4RR   \n888      2.4141 -1.996998e+10 -17911033856 -13709812736     41.1247  \\\n889      3.2167 -1.834839e+10 -16514717696 -14801415168     44.4139   \n890      3.1157 -3.298575e+10 -23318945792 -21721085952     47.5775   \n891      2.8280 -2.682147e+10 -23290361856 -16920019968     46.8981   \n892      2.3135 -2.876925e+10 -24705204224 -23276603392     47.2951   \n893      2.7202 -2.529642e+10 -19168882688 -18473392128     49.0869   \n894      3.9910 -3.160522e+10 -21945366528 -19277905920     46.8086   \n895      2.6951 -2.224277e+10 -19594921984 -17592152064     44.1325   \n896      2.7991 -2.604860e+10 -21299822592 -19809978368     51.2267   \n897      3.0865 -3.198348e+10 -20482514944 -21219354624     47.3454   \n\n     ALLdaub4RG  ALLdaub4RB  Class  \n888     38.6405     36.6200  SOGAY  \n889     42.2057     40.7459  SOGAY  \n890     40.4490     40.0897  SOGAY  \n891     44.2381     38.6353  SOGAY  \n892     43.8257     43.2458  SOGAY  \n893     43.0422     42.4153  SOGAY  \n894     39.1046     36.5502  SOGAY  \n895     40.7986     40.9769  SOGAY  \n896     45.7162     45.6260  SOGAY  \n897     38.6966     39.6738  SOGAY  \n\n[10 rows x 35 columns]",
      "text/html": "<div>\n<style scoped>\n    .dataframe tbody tr th:only-of-type {\n        vertical-align: middle;\n    }\n\n    .dataframe tbody tr th {\n        vertical-align: top;\n    }\n\n    .dataframe thead th {\n        text-align: right;\n    }\n</style>\n<table border=\"1\" class=\"dataframe\">\n  <thead>\n    <tr style=\"text-align: right;\">\n      <th></th>\n      <th>AREA</th>\n      <th>PERIMETER</th>\n      <th>MAJOR_AXIS</th>\n      <th>MINOR_AXIS</th>\n      <th>ECCENTRICITY</th>\n      <th>EQDIASQ</th>\n      <th>SOLIDITY</th>\n      <th>CONVEX_AREA</th>\n      <th>EXTENT</th>\n      <th>ASPECT_RATIO</th>\n      <th>...</th>\n      <th>KurtosisRR</th>\n      <th>KurtosisRG</th>\n      <th>KurtosisRB</th>\n      <th>EntropyRR</th>\n      <th>EntropyRG</th>\n      <th>EntropyRB</th>\n      <th>ALLdaub4RR</th>\n      <th>ALLdaub4RG</th>\n      <th>ALLdaub4RB</th>\n      <th>Class</th>\n    </tr>\n  </thead>\n  <tbody>\n    <tr>\n      <th>888</th>\n      <td>242092</td>\n      <td>1875.0250</td>\n      <td>700.3940</td>\n      <td>441.3842</td>\n      <td>0.7764</td>\n      <td>555.1946</td>\n      <td>0.9930</td>\n      <td>243806</td>\n      <td>0.7163</td>\n      <td>1.5868</td>\n      <td>...</td>\n      <td>2.1165</td>\n      <td>2.3162</td>\n      <td>2.4141</td>\n      <td>-1.996998e+10</td>\n      <td>-17911033856</td>\n      <td>-13709812736</td>\n      <td>41.1247</td>\n      <td>38.6405</td>\n      <td>36.6200</td>\n      <td>SOGAY</td>\n    </tr>\n    <tr>\n      <th>889</th>\n      <td>221306</td>\n      <td>1836.3361</td>\n      <td>698.2211</td>\n      <td>425.5484</td>\n      <td>0.7928</td>\n      <td>530.8254</td>\n      <td>0.9553</td>\n      <td>231671</td>\n      <td>0.7183</td>\n      <td>1.6408</td>\n      <td>...</td>\n      <td>2.6661</td>\n      <td>3.1736</td>\n      <td>3.2167</td>\n      <td>-1.834839e+10</td>\n      <td>-16514717696</td>\n      <td>-14801415168</td>\n      <td>44.4139</td>\n      <td>42.2057</td>\n      <td>40.7459</td>\n      <td>SOGAY</td>\n    </tr>\n    <tr>\n      <th>890</th>\n      <td>346353</td>\n      <td>2324.4900</td>\n      <td>840.6997</td>\n      <td>527.3477</td>\n      <td>0.7788</td>\n      <td>664.0710</td>\n      <td>0.9758</td>\n      <td>354954</td>\n      <td>0.6792</td>\n      <td>1.5942</td>\n      <td>...</td>\n      <td>2.4594</td>\n      <td>2.3749</td>\n      <td>3.1157</td>\n      <td>-3.298575e+10</td>\n      <td>-23318945792</td>\n      <td>-21721085952</td>\n      <td>47.5775</td>\n      <td>40.4490</td>\n      <td>40.0897</td>\n      <td>SOGAY</td>\n    </tr>\n    <tr>\n      <th>891</th>\n      <td>283636</td>\n      <td>2036.3490</td>\n      <td>751.8530</td>\n      <td>482.4856</td>\n      <td>0.7669</td>\n      <td>600.9464</td>\n      <td>0.9819</td>\n      <td>288870</td>\n      <td>0.7005</td>\n      <td>1.5583</td>\n      <td>...</td>\n      <td>2.1874</td>\n      <td>2.0473</td>\n      <td>2.8280</td>\n      <td>-2.682147e+10</td>\n      <td>-23290361856</td>\n      <td>-16920019968</td>\n      <td>46.8981</td>\n      <td>44.2381</td>\n      <td>38.6353</td>\n      <td>SOGAY</td>\n    </tr>\n    <tr>\n      <th>892</th>\n      <td>313194</td>\n      <td>2095.9231</td>\n      <td>769.1030</td>\n      <td>519.8459</td>\n      <td>0.7370</td>\n      <td>631.4832</td>\n      <td>0.9905</td>\n      <td>316201</td>\n      <td>0.7231</td>\n      <td>1.4795</td>\n      <td>...</td>\n      <td>2.1584</td>\n      <td>2.1710</td>\n      <td>2.3135</td>\n      <td>-2.876925e+10</td>\n      <td>-24705204224</td>\n      <td>-23276603392</td>\n      <td>47.2951</td>\n      <td>43.8257</td>\n      <td>43.2458</td>\n      <td>SOGAY</td>\n    </tr>\n    <tr>\n      <th>893</th>\n      <td>255403</td>\n      <td>1925.3650</td>\n      <td>691.8453</td>\n      <td>477.1796</td>\n      <td>0.7241</td>\n      <td>570.2536</td>\n      <td>0.9785</td>\n      <td>261028</td>\n      <td>0.7269</td>\n      <td>1.4499</td>\n      <td>...</td>\n      <td>2.2423</td>\n      <td>2.3704</td>\n      <td>2.7202</td>\n      <td>-2.529642e+10</td>\n      <td>-19168882688</td>\n      <td>-18473392128</td>\n      <td>49.0869</td>\n      <td>43.0422</td>\n      <td>42.4153</td>\n      <td>SOGAY</td>\n    </tr>\n    <tr>\n      <th>894</th>\n      <td>365924</td>\n      <td>2664.8230</td>\n      <td>855.4633</td>\n      <td>551.5447</td>\n      <td>0.7644</td>\n      <td>682.5752</td>\n      <td>0.9466</td>\n      <td>386566</td>\n      <td>0.6695</td>\n      <td>1.5510</td>\n      <td>...</td>\n      <td>3.4109</td>\n      <td>3.5805</td>\n      <td>3.9910</td>\n      <td>-3.160522e+10</td>\n      <td>-21945366528</td>\n      <td>-19277905920</td>\n      <td>46.8086</td>\n      <td>39.1046</td>\n      <td>36.5502</td>\n      <td>SOGAY</td>\n    </tr>\n    <tr>\n      <th>895</th>\n      <td>254330</td>\n      <td>1926.7360</td>\n      <td>747.4943</td>\n      <td>435.6219</td>\n      <td>0.8126</td>\n      <td>569.0545</td>\n      <td>0.9925</td>\n      <td>256255</td>\n      <td>0.7240</td>\n      <td>1.7159</td>\n      <td>...</td>\n      <td>2.2759</td>\n      <td>2.5090</td>\n      <td>2.6951</td>\n      <td>-2.224277e+10</td>\n      <td>-19594921984</td>\n      <td>-17592152064</td>\n      <td>44.1325</td>\n      <td>40.7986</td>\n      <td>40.9769</td>\n      <td>SOGAY</td>\n    </tr>\n    <tr>\n      <th>896</th>\n      <td>238955</td>\n      <td>1906.2679</td>\n      <td>716.6485</td>\n      <td>441.8297</td>\n      <td>0.7873</td>\n      <td>551.5859</td>\n      <td>0.9604</td>\n      <td>248795</td>\n      <td>0.6954</td>\n      <td>1.6220</td>\n      <td>...</td>\n      <td>2.6769</td>\n      <td>2.6874</td>\n      <td>2.7991</td>\n      <td>-2.604860e+10</td>\n      <td>-21299822592</td>\n      <td>-19809978368</td>\n      <td>51.2267</td>\n      <td>45.7162</td>\n      <td>45.6260</td>\n      <td>SOGAY</td>\n    </tr>\n    <tr>\n      <th>897</th>\n      <td>343792</td>\n      <td>2289.2720</td>\n      <td>823.8438</td>\n      <td>534.7757</td>\n      <td>0.7607</td>\n      <td>661.6113</td>\n      <td>0.9781</td>\n      <td>351472</td>\n      <td>0.6941</td>\n      <td>1.5405</td>\n      <td>...</td>\n      <td>2.5138</td>\n      <td>3.0369</td>\n      <td>3.0865</td>\n      <td>-3.198348e+10</td>\n      <td>-20482514944</td>\n      <td>-21219354624</td>\n      <td>47.3454</td>\n      <td>38.6966</td>\n      <td>39.6738</td>\n      <td>SOGAY</td>\n    </tr>\n  </tbody>\n</table>\n<p>10 rows × 35 columns</p>\n</div>"
     },
     "execution_count": 4,
     "metadata": {},
     "output_type": "execute_result"
    }
   ],
   "source": [
    "df.tail(10)"
   ],
   "metadata": {
    "collapsed": false
   }
  },
  {
   "cell_type": "code",
   "execution_count": 5,
   "outputs": [
    {
     "data": {
      "text/plain": "       AREA  PERIMETER  MAJOR_AXIS  MINOR_AXIS  ECCENTRICITY   EQDIASQ   \n0    422163  2378.9080    837.8484    645.6693        0.6373  733.1539  \\\n1    338136  2085.1440    723.8198    595.2073        0.5690  656.1464   \n2    526843  2647.3940    940.7379    715.3638        0.6494  819.0222   \n3    416063  2351.2100    827.9804    645.2988        0.6266  727.8378   \n4    347562  2160.3540    763.9877    582.8359        0.6465  665.2291   \n..      ...        ...         ...         ...           ...       ...   \n893  255403  1925.3650    691.8453    477.1796        0.7241  570.2536   \n894  365924  2664.8230    855.4633    551.5447        0.7644  682.5752   \n895  254330  1926.7360    747.4943    435.6219        0.8126  569.0545   \n896  238955  1906.2679    716.6485    441.8297        0.7873  551.5859   \n897  343792  2289.2720    823.8438    534.7757        0.7607  661.6113   \n\n     SOLIDITY  CONVEX_AREA  EXTENT  ASPECT_RATIO  ...  KurtosisRR  KurtosisRG   \n0      0.9947       424428  0.7831        1.2976  ...      3.2370      2.9574  \\\n1      0.9974       339014  0.7795        1.2161  ...      2.6228      2.6350   \n2      0.9962       528876  0.7657        1.3150  ...      3.7516      3.8611   \n3      0.9948       418255  0.7759        1.2831  ...      5.0401      8.6136   \n4      0.9908       350797  0.7569        1.3108  ...      2.7016      2.9761   \n..        ...          ...     ...           ...  ...         ...         ...   \n893    0.9785       261028  0.7269        1.4499  ...      2.2423      2.3704   \n894    0.9466       386566  0.6695        1.5510  ...      3.4109      3.5805   \n895    0.9925       256255  0.7240        1.7159  ...      2.2759      2.5090   \n896    0.9604       248795  0.6954        1.6220  ...      2.6769      2.6874   \n897    0.9781       351472  0.6941        1.5405  ...      2.5138      3.0369   \n\n     KurtosisRB     EntropyRR    EntropyRG    EntropyRB  ALLdaub4RR   \n0        4.2287 -5.919126e+10 -50714214400 -39922372608     58.7255  \\\n1        3.1704 -3.423307e+10 -37462601728 -31477794816     50.0259   \n2        4.7192 -9.394835e+10 -74738221056 -60311207936     65.4772   \n3        8.2618 -3.207431e+10 -32060925952 -29575010304     43.3900   \n4        4.4146 -3.998097e+10 -35980042240 -25593278464     52.7743   \n..          ...           ...          ...          ...         ...   \n893      2.7202 -2.529642e+10 -19168882688 -18473392128     49.0869   \n894      3.9910 -3.160522e+10 -21945366528 -19277905920     46.8086   \n895      2.6951 -2.224277e+10 -19594921984 -17592152064     44.1325   \n896      2.7991 -2.604860e+10 -21299822592 -19809978368     51.2267   \n897      3.0865 -3.198348e+10 -20482514944 -21219354624     47.3454   \n\n     ALLdaub4RG  ALLdaub4RB  Class  \n0       54.9554     47.8400  BERHI  \n1       52.8168     47.8315  BERHI  \n2       59.2860     51.9378  BERHI  \n3       44.1259     41.1882  BERHI  \n4       50.9080     42.6666  BERHI  \n..          ...         ...    ...  \n893     43.0422     42.4153  SOGAY  \n894     39.1046     36.5502  SOGAY  \n895     40.7986     40.9769  SOGAY  \n896     45.7162     45.6260  SOGAY  \n897     38.6966     39.6738  SOGAY  \n\n[898 rows x 35 columns]",
      "text/html": "<div>\n<style scoped>\n    .dataframe tbody tr th:only-of-type {\n        vertical-align: middle;\n    }\n\n    .dataframe tbody tr th {\n        vertical-align: top;\n    }\n\n    .dataframe thead th {\n        text-align: right;\n    }\n</style>\n<table border=\"1\" class=\"dataframe\">\n  <thead>\n    <tr style=\"text-align: right;\">\n      <th></th>\n      <th>AREA</th>\n      <th>PERIMETER</th>\n      <th>MAJOR_AXIS</th>\n      <th>MINOR_AXIS</th>\n      <th>ECCENTRICITY</th>\n      <th>EQDIASQ</th>\n      <th>SOLIDITY</th>\n      <th>CONVEX_AREA</th>\n      <th>EXTENT</th>\n      <th>ASPECT_RATIO</th>\n      <th>...</th>\n      <th>KurtosisRR</th>\n      <th>KurtosisRG</th>\n      <th>KurtosisRB</th>\n      <th>EntropyRR</th>\n      <th>EntropyRG</th>\n      <th>EntropyRB</th>\n      <th>ALLdaub4RR</th>\n      <th>ALLdaub4RG</th>\n      <th>ALLdaub4RB</th>\n      <th>Class</th>\n    </tr>\n  </thead>\n  <tbody>\n    <tr>\n      <th>0</th>\n      <td>422163</td>\n      <td>2378.9080</td>\n      <td>837.8484</td>\n      <td>645.6693</td>\n      <td>0.6373</td>\n      <td>733.1539</td>\n      <td>0.9947</td>\n      <td>424428</td>\n      <td>0.7831</td>\n      <td>1.2976</td>\n      <td>...</td>\n      <td>3.2370</td>\n      <td>2.9574</td>\n      <td>4.2287</td>\n      <td>-5.919126e+10</td>\n      <td>-50714214400</td>\n      <td>-39922372608</td>\n      <td>58.7255</td>\n      <td>54.9554</td>\n      <td>47.8400</td>\n      <td>BERHI</td>\n    </tr>\n    <tr>\n      <th>1</th>\n      <td>338136</td>\n      <td>2085.1440</td>\n      <td>723.8198</td>\n      <td>595.2073</td>\n      <td>0.5690</td>\n      <td>656.1464</td>\n      <td>0.9974</td>\n      <td>339014</td>\n      <td>0.7795</td>\n      <td>1.2161</td>\n      <td>...</td>\n      <td>2.6228</td>\n      <td>2.6350</td>\n      <td>3.1704</td>\n      <td>-3.423307e+10</td>\n      <td>-37462601728</td>\n      <td>-31477794816</td>\n      <td>50.0259</td>\n      <td>52.8168</td>\n      <td>47.8315</td>\n      <td>BERHI</td>\n    </tr>\n    <tr>\n      <th>2</th>\n      <td>526843</td>\n      <td>2647.3940</td>\n      <td>940.7379</td>\n      <td>715.3638</td>\n      <td>0.6494</td>\n      <td>819.0222</td>\n      <td>0.9962</td>\n      <td>528876</td>\n      <td>0.7657</td>\n      <td>1.3150</td>\n      <td>...</td>\n      <td>3.7516</td>\n      <td>3.8611</td>\n      <td>4.7192</td>\n      <td>-9.394835e+10</td>\n      <td>-74738221056</td>\n      <td>-60311207936</td>\n      <td>65.4772</td>\n      <td>59.2860</td>\n      <td>51.9378</td>\n      <td>BERHI</td>\n    </tr>\n    <tr>\n      <th>3</th>\n      <td>416063</td>\n      <td>2351.2100</td>\n      <td>827.9804</td>\n      <td>645.2988</td>\n      <td>0.6266</td>\n      <td>727.8378</td>\n      <td>0.9948</td>\n      <td>418255</td>\n      <td>0.7759</td>\n      <td>1.2831</td>\n      <td>...</td>\n      <td>5.0401</td>\n      <td>8.6136</td>\n      <td>8.2618</td>\n      <td>-3.207431e+10</td>\n      <td>-32060925952</td>\n      <td>-29575010304</td>\n      <td>43.3900</td>\n      <td>44.1259</td>\n      <td>41.1882</td>\n      <td>BERHI</td>\n    </tr>\n    <tr>\n      <th>4</th>\n      <td>347562</td>\n      <td>2160.3540</td>\n      <td>763.9877</td>\n      <td>582.8359</td>\n      <td>0.6465</td>\n      <td>665.2291</td>\n      <td>0.9908</td>\n      <td>350797</td>\n      <td>0.7569</td>\n      <td>1.3108</td>\n      <td>...</td>\n      <td>2.7016</td>\n      <td>2.9761</td>\n      <td>4.4146</td>\n      <td>-3.998097e+10</td>\n      <td>-35980042240</td>\n      <td>-25593278464</td>\n      <td>52.7743</td>\n      <td>50.9080</td>\n      <td>42.6666</td>\n      <td>BERHI</td>\n    </tr>\n    <tr>\n      <th>...</th>\n      <td>...</td>\n      <td>...</td>\n      <td>...</td>\n      <td>...</td>\n      <td>...</td>\n      <td>...</td>\n      <td>...</td>\n      <td>...</td>\n      <td>...</td>\n      <td>...</td>\n      <td>...</td>\n      <td>...</td>\n      <td>...</td>\n      <td>...</td>\n      <td>...</td>\n      <td>...</td>\n      <td>...</td>\n      <td>...</td>\n      <td>...</td>\n      <td>...</td>\n      <td>...</td>\n    </tr>\n    <tr>\n      <th>893</th>\n      <td>255403</td>\n      <td>1925.3650</td>\n      <td>691.8453</td>\n      <td>477.1796</td>\n      <td>0.7241</td>\n      <td>570.2536</td>\n      <td>0.9785</td>\n      <td>261028</td>\n      <td>0.7269</td>\n      <td>1.4499</td>\n      <td>...</td>\n      <td>2.2423</td>\n      <td>2.3704</td>\n      <td>2.7202</td>\n      <td>-2.529642e+10</td>\n      <td>-19168882688</td>\n      <td>-18473392128</td>\n      <td>49.0869</td>\n      <td>43.0422</td>\n      <td>42.4153</td>\n      <td>SOGAY</td>\n    </tr>\n    <tr>\n      <th>894</th>\n      <td>365924</td>\n      <td>2664.8230</td>\n      <td>855.4633</td>\n      <td>551.5447</td>\n      <td>0.7644</td>\n      <td>682.5752</td>\n      <td>0.9466</td>\n      <td>386566</td>\n      <td>0.6695</td>\n      <td>1.5510</td>\n      <td>...</td>\n      <td>3.4109</td>\n      <td>3.5805</td>\n      <td>3.9910</td>\n      <td>-3.160522e+10</td>\n      <td>-21945366528</td>\n      <td>-19277905920</td>\n      <td>46.8086</td>\n      <td>39.1046</td>\n      <td>36.5502</td>\n      <td>SOGAY</td>\n    </tr>\n    <tr>\n      <th>895</th>\n      <td>254330</td>\n      <td>1926.7360</td>\n      <td>747.4943</td>\n      <td>435.6219</td>\n      <td>0.8126</td>\n      <td>569.0545</td>\n      <td>0.9925</td>\n      <td>256255</td>\n      <td>0.7240</td>\n      <td>1.7159</td>\n      <td>...</td>\n      <td>2.2759</td>\n      <td>2.5090</td>\n      <td>2.6951</td>\n      <td>-2.224277e+10</td>\n      <td>-19594921984</td>\n      <td>-17592152064</td>\n      <td>44.1325</td>\n      <td>40.7986</td>\n      <td>40.9769</td>\n      <td>SOGAY</td>\n    </tr>\n    <tr>\n      <th>896</th>\n      <td>238955</td>\n      <td>1906.2679</td>\n      <td>716.6485</td>\n      <td>441.8297</td>\n      <td>0.7873</td>\n      <td>551.5859</td>\n      <td>0.9604</td>\n      <td>248795</td>\n      <td>0.6954</td>\n      <td>1.6220</td>\n      <td>...</td>\n      <td>2.6769</td>\n      <td>2.6874</td>\n      <td>2.7991</td>\n      <td>-2.604860e+10</td>\n      <td>-21299822592</td>\n      <td>-19809978368</td>\n      <td>51.2267</td>\n      <td>45.7162</td>\n      <td>45.6260</td>\n      <td>SOGAY</td>\n    </tr>\n    <tr>\n      <th>897</th>\n      <td>343792</td>\n      <td>2289.2720</td>\n      <td>823.8438</td>\n      <td>534.7757</td>\n      <td>0.7607</td>\n      <td>661.6113</td>\n      <td>0.9781</td>\n      <td>351472</td>\n      <td>0.6941</td>\n      <td>1.5405</td>\n      <td>...</td>\n      <td>2.5138</td>\n      <td>3.0369</td>\n      <td>3.0865</td>\n      <td>-3.198348e+10</td>\n      <td>-20482514944</td>\n      <td>-21219354624</td>\n      <td>47.3454</td>\n      <td>38.6966</td>\n      <td>39.6738</td>\n      <td>SOGAY</td>\n    </tr>\n  </tbody>\n</table>\n<p>898 rows × 35 columns</p>\n</div>"
     },
     "execution_count": 5,
     "metadata": {},
     "output_type": "execute_result"
    }
   ],
   "source": [
    "df"
   ],
   "metadata": {
    "collapsed": false
   }
  },
  {
   "cell_type": "markdown",
   "source": [
    "Note that the Jupyter Notebook also prints out the number of rows and columns of the DataFrame when we just let it autoprint the DataFrame. We can calso view the shape of the DataFrame using `df.shape`. By convention, the first number in the tuple is the number of rows and the second number is the number of columns."
   ],
   "metadata": {
    "collapsed": false
   }
  },
  {
   "cell_type": "code",
   "execution_count": 6,
   "outputs": [
    {
     "data": {
      "text/plain": "(898, 35)"
     },
     "execution_count": 6,
     "metadata": {},
     "output_type": "execute_result"
    }
   ],
   "source": [
    "df.shape"
   ],
   "metadata": {
    "collapsed": false
   }
  },
  {
   "cell_type": "markdown",
   "source": [
    "We can access the index and column axes of the DataFrame with `df.index` and `df.columns` respectively. The values of the DataFrame can be access with `df.values` which returns a numpy array."
   ],
   "metadata": {
    "collapsed": false
   }
  },
  {
   "cell_type": "code",
   "execution_count": 7,
   "outputs": [
    {
     "data": {
      "text/plain": "RangeIndex(start=0, stop=898, step=1)"
     },
     "execution_count": 7,
     "metadata": {},
     "output_type": "execute_result"
    }
   ],
   "source": [
    "df.index"
   ],
   "metadata": {
    "collapsed": false
   }
  },
  {
   "cell_type": "code",
   "execution_count": 8,
   "outputs": [
    {
     "data": {
      "text/plain": "Index(['AREA', 'PERIMETER', 'MAJOR_AXIS', 'MINOR_AXIS', 'ECCENTRICITY',\n       'EQDIASQ', 'SOLIDITY', 'CONVEX_AREA', 'EXTENT', 'ASPECT_RATIO',\n       'ROUNDNESS', 'COMPACTNESS', 'SHAPEFACTOR_1', 'SHAPEFACTOR_2',\n       'SHAPEFACTOR_3', 'SHAPEFACTOR_4', 'MeanRR', 'MeanRG', 'MeanRB',\n       'StdDevRR', 'StdDevRG', 'StdDevRB', 'SkewRR', 'SkewRG', 'SkewRB',\n       'KurtosisRR', 'KurtosisRG', 'KurtosisRB', 'EntropyRR', 'EntropyRG',\n       'EntropyRB', 'ALLdaub4RR', 'ALLdaub4RG', 'ALLdaub4RB', 'Class'],\n      dtype='object')"
     },
     "execution_count": 8,
     "metadata": {},
     "output_type": "execute_result"
    }
   ],
   "source": [
    "df.columns"
   ],
   "metadata": {
    "collapsed": false
   }
  },
  {
   "cell_type": "code",
   "execution_count": 9,
   "outputs": [
    {
     "data": {
      "text/plain": "array([[422163, 2378.908, 837.8484, ..., 54.9554, 47.84, 'BERHI'],\n       [338136, 2085.144, 723.8198, ..., 52.8168, 47.8315, 'BERHI'],\n       [526843, 2647.394, 940.7379, ..., 59.286, 51.9378, 'BERHI'],\n       ...,\n       [254330, 1926.736, 747.4943, ..., 40.7986, 40.9769, 'SOGAY'],\n       [238955, 1906.2679, 716.6485, ..., 45.7162, 45.626, 'SOGAY'],\n       [343792, 2289.272, 823.8438, ..., 38.6966, 39.6738, 'SOGAY']],\n      dtype=object)"
     },
     "execution_count": 9,
     "metadata": {},
     "output_type": "execute_result"
    }
   ],
   "source": [
    "df.values"
   ],
   "metadata": {
    "collapsed": false
   }
  },
  {
   "cell_type": "markdown",
   "source": [
    "Other conventions\n",
    "- Specify one column with `\"column name\"`, specify multiple columns with `[\"list\", \"of\", \"column\", \"names\"]`\n",
    "- Index (`axis=0`) contains a unique identifier for each of the rows; Columns (`axis=1`) contain a unique identifier for each of the columns\n",
    "- Most operations default to applying to the Index axis. It's best practice to specify the axis directly for clairty."
   ],
   "metadata": {
    "collapsed": false
   }
  },
  {
   "cell_type": "markdown",
   "source": [
    "# Renaming Columns\n",
    "Analyzing the column names, we notice a few things about the dataset.\n",
    "\n",
    "Of benefit:\n",
    "1. Both datasets use many of the same features\n",
    "2. Both datasets use the underscores to delimit words in the column names\n",
    "\n",
    "Of concern:\n",
    "1. Both datasets use different capitalization\n",
    "2. The feature of \"equivalent diameter\" in the pumpkin seeds to be \"equivalent diameter squared\" in the date fruits\n",
    "3. The major and minor axis features are missing the word \"length\" for the data fruits\n"
   ],
   "metadata": {
    "collapsed": false
   }
  },
  {
   "cell_type": "code",
   "execution_count": 10,
   "outputs": [
    {
     "data": {
      "text/plain": "Index(['AREA', 'PERIMETER', 'MAJOR_AXIS', 'MINOR_AXIS', 'ECCENTRICITY',\n       'EQDIASQ', 'SOLIDITY', 'CONVEX_AREA', 'EXTENT', 'ASPECT_RATIO',\n       'ROUNDNESS', 'COMPACTNESS', 'SHAPEFACTOR_1', 'SHAPEFACTOR_2',\n       'SHAPEFACTOR_3', 'SHAPEFACTOR_4', 'MeanRR', 'MeanRG', 'MeanRB',\n       'StdDevRR', 'StdDevRG', 'StdDevRB', 'SkewRR', 'SkewRG', 'SkewRB',\n       'KurtosisRR', 'KurtosisRG', 'KurtosisRB', 'EntropyRR', 'EntropyRG',\n       'EntropyRB', 'ALLdaub4RR', 'ALLdaub4RG', 'ALLdaub4RB', 'Class'],\n      dtype='object')"
     },
     "execution_count": 10,
     "metadata": {},
     "output_type": "execute_result"
    }
   ],
   "source": [
    "df.columns"
   ],
   "metadata": {
    "collapsed": false
   }
  },
  {
   "cell_type": "code",
   "execution_count": 11,
   "outputs": [],
   "source": [
    "pumpkin_seed_features = [\n",
    "    'area',\n",
    "    'perimeter',\n",
    "    'major_axis_length',\n",
    "    'minor_axis_length',\n",
    "    'convex_area',\n",
    "    'equiv_diameter',\n",
    "    'eccentricity',\n",
    "    'solidity',\n",
    "    'extent',\n",
    "    'roundness',\n",
    "    'aspect_ratio',\n",
    "    'compactness',\n",
    "    'class'\n",
    "]"
   ],
   "metadata": {
    "collapsed": false
   }
  },
  {
   "cell_type": "markdown",
   "source": [
    "\n",
    "In this section, we will deal with these concerns by renaming the columns using `df.rename()` and taking the square root of the `EQDIASQ` feature.\n",
    "\n",
    "`df.rename()` has two forms:\n",
    "- `df.rename(mapper=function, axis=\"columns\")` where we specify a function that is applied to all the column names. The function should result in all unique outputs when applied to all column names.\n",
    "- `df.rename(mapper=Dict, axis=\"columns\")` where we would specify a dictionary with keys as the old column names and values as the new column names. The columns to rename do not have to exist in the DataFrame; any keys in the dict that are not present will have no effect on the DataFrame and no error will be raised.\n",
    "\n",
    "To deal with the capitalization, we will apply a function that transforms the string into all lowercase. To deal with the different names, we will make a dictionary that maps the lower-case incorrect names to correct ones."
   ],
   "metadata": {
    "collapsed": false
   }
  },
  {
   "cell_type": "code",
   "execution_count": 12,
   "outputs": [
    {
     "data": {
      "text/plain": "     area  perimeter  major_axis_length  minor_axis_length  eccentricity   \n0  422163   2378.908           837.8484           645.6693        0.6373  \\\n1  338136   2085.144           723.8198           595.2073        0.5690   \n2  526843   2647.394           940.7379           715.3638        0.6494   \n3  416063   2351.210           827.9804           645.2988        0.6266   \n4  347562   2160.354           763.9877           582.8359        0.6465   \n\n   equiv_diameter  solidity  convex_area  extent  aspect_ratio  ...   \n0        733.1539    0.9947       424428  0.7831        1.2976  ...  \\\n1        656.1464    0.9974       339014  0.7795        1.2161  ...   \n2        819.0222    0.9962       528876  0.7657        1.3150  ...   \n3        727.8378    0.9948       418255  0.7759        1.2831  ...   \n4        665.2291    0.9908       350797  0.7569        1.3108  ...   \n\n   kurtosisrr  kurtosisrg  kurtosisrb     entropyrr    entropyrg    entropyrb   \n0      3.2370      2.9574      4.2287 -5.919126e+10 -50714214400 -39922372608  \\\n1      2.6228      2.6350      3.1704 -3.423307e+10 -37462601728 -31477794816   \n2      3.7516      3.8611      4.7192 -9.394835e+10 -74738221056 -60311207936   \n3      5.0401      8.6136      8.2618 -3.207431e+10 -32060925952 -29575010304   \n4      2.7016      2.9761      4.4146 -3.998097e+10 -35980042240 -25593278464   \n\n   alldaub4rr  alldaub4rg  alldaub4rb  class  \n0     58.7255     54.9554     47.8400  BERHI  \n1     50.0259     52.8168     47.8315  BERHI  \n2     65.4772     59.2860     51.9378  BERHI  \n3     43.3900     44.1259     41.1882  BERHI  \n4     52.7743     50.9080     42.6666  BERHI  \n\n[5 rows x 35 columns]",
      "text/html": "<div>\n<style scoped>\n    .dataframe tbody tr th:only-of-type {\n        vertical-align: middle;\n    }\n\n    .dataframe tbody tr th {\n        vertical-align: top;\n    }\n\n    .dataframe thead th {\n        text-align: right;\n    }\n</style>\n<table border=\"1\" class=\"dataframe\">\n  <thead>\n    <tr style=\"text-align: right;\">\n      <th></th>\n      <th>area</th>\n      <th>perimeter</th>\n      <th>major_axis_length</th>\n      <th>minor_axis_length</th>\n      <th>eccentricity</th>\n      <th>equiv_diameter</th>\n      <th>solidity</th>\n      <th>convex_area</th>\n      <th>extent</th>\n      <th>aspect_ratio</th>\n      <th>...</th>\n      <th>kurtosisrr</th>\n      <th>kurtosisrg</th>\n      <th>kurtosisrb</th>\n      <th>entropyrr</th>\n      <th>entropyrg</th>\n      <th>entropyrb</th>\n      <th>alldaub4rr</th>\n      <th>alldaub4rg</th>\n      <th>alldaub4rb</th>\n      <th>class</th>\n    </tr>\n  </thead>\n  <tbody>\n    <tr>\n      <th>0</th>\n      <td>422163</td>\n      <td>2378.908</td>\n      <td>837.8484</td>\n      <td>645.6693</td>\n      <td>0.6373</td>\n      <td>733.1539</td>\n      <td>0.9947</td>\n      <td>424428</td>\n      <td>0.7831</td>\n      <td>1.2976</td>\n      <td>...</td>\n      <td>3.2370</td>\n      <td>2.9574</td>\n      <td>4.2287</td>\n      <td>-5.919126e+10</td>\n      <td>-50714214400</td>\n      <td>-39922372608</td>\n      <td>58.7255</td>\n      <td>54.9554</td>\n      <td>47.8400</td>\n      <td>BERHI</td>\n    </tr>\n    <tr>\n      <th>1</th>\n      <td>338136</td>\n      <td>2085.144</td>\n      <td>723.8198</td>\n      <td>595.2073</td>\n      <td>0.5690</td>\n      <td>656.1464</td>\n      <td>0.9974</td>\n      <td>339014</td>\n      <td>0.7795</td>\n      <td>1.2161</td>\n      <td>...</td>\n      <td>2.6228</td>\n      <td>2.6350</td>\n      <td>3.1704</td>\n      <td>-3.423307e+10</td>\n      <td>-37462601728</td>\n      <td>-31477794816</td>\n      <td>50.0259</td>\n      <td>52.8168</td>\n      <td>47.8315</td>\n      <td>BERHI</td>\n    </tr>\n    <tr>\n      <th>2</th>\n      <td>526843</td>\n      <td>2647.394</td>\n      <td>940.7379</td>\n      <td>715.3638</td>\n      <td>0.6494</td>\n      <td>819.0222</td>\n      <td>0.9962</td>\n      <td>528876</td>\n      <td>0.7657</td>\n      <td>1.3150</td>\n      <td>...</td>\n      <td>3.7516</td>\n      <td>3.8611</td>\n      <td>4.7192</td>\n      <td>-9.394835e+10</td>\n      <td>-74738221056</td>\n      <td>-60311207936</td>\n      <td>65.4772</td>\n      <td>59.2860</td>\n      <td>51.9378</td>\n      <td>BERHI</td>\n    </tr>\n    <tr>\n      <th>3</th>\n      <td>416063</td>\n      <td>2351.210</td>\n      <td>827.9804</td>\n      <td>645.2988</td>\n      <td>0.6266</td>\n      <td>727.8378</td>\n      <td>0.9948</td>\n      <td>418255</td>\n      <td>0.7759</td>\n      <td>1.2831</td>\n      <td>...</td>\n      <td>5.0401</td>\n      <td>8.6136</td>\n      <td>8.2618</td>\n      <td>-3.207431e+10</td>\n      <td>-32060925952</td>\n      <td>-29575010304</td>\n      <td>43.3900</td>\n      <td>44.1259</td>\n      <td>41.1882</td>\n      <td>BERHI</td>\n    </tr>\n    <tr>\n      <th>4</th>\n      <td>347562</td>\n      <td>2160.354</td>\n      <td>763.9877</td>\n      <td>582.8359</td>\n      <td>0.6465</td>\n      <td>665.2291</td>\n      <td>0.9908</td>\n      <td>350797</td>\n      <td>0.7569</td>\n      <td>1.3108</td>\n      <td>...</td>\n      <td>2.7016</td>\n      <td>2.9761</td>\n      <td>4.4146</td>\n      <td>-3.998097e+10</td>\n      <td>-35980042240</td>\n      <td>-25593278464</td>\n      <td>52.7743</td>\n      <td>50.9080</td>\n      <td>42.6666</td>\n      <td>BERHI</td>\n    </tr>\n  </tbody>\n</table>\n<p>5 rows × 35 columns</p>\n</div>"
     },
     "execution_count": 12,
     "metadata": {},
     "output_type": "execute_result"
    }
   ],
   "source": [
    "mapper_function = lambda x: x.lower()\n",
    "\n",
    "mapper_dict = {\n",
    "    \"eqdiasq\": \"equiv_diameter\",\n",
    "    \"major_axis\": \"major_axis_length\",\n",
    "    \"minor_axis\": \"minor_axis_length\"\n",
    "}\n",
    "\n",
    "df = df.rename(mapper=mapper_function, axis=\"columns\")\n",
    "df = df.rename(mapper=mapper_dict, axis=\"columns\")\n",
    "df.head()"
   ],
   "metadata": {
    "collapsed": false
   }
  },
  {
   "cell_type": "markdown",
   "source": [
    "# Viewing subsets\n",
    "Just selecting data from a dataframe will not apply the operation to the dataframe, unless we assign it to a variable.\n",
    "\n",
    "To view just a single columns, we can index the dataframe with that column name. Note that a single column will be returned as a `Series` object, which is similar to a dataframe, but with just one column. Therefore, some operations cannot be applied as with dataframes."
   ],
   "metadata": {
    "collapsed": false
   }
  },
  {
   "cell_type": "code",
   "execution_count": 13,
   "outputs": [
    {
     "data": {
      "text/plain": "0      422163\n1      338136\n2      526843\n3      416063\n4      347562\n        ...  \n893    255403\n894    365924\n895    254330\n896    238955\n897    343792\nName: area, Length: 898, dtype: int64"
     },
     "execution_count": 13,
     "metadata": {},
     "output_type": "execute_result"
    }
   ],
   "source": [
    "# Select the area column\n",
    "df[\"area\"]"
   ],
   "metadata": {
    "collapsed": false
   }
  },
  {
   "cell_type": "markdown",
   "source": [
    "To view multiple columns, pass in a list of column names. When multiple columns are selected, a `DataFrame` is returned."
   ],
   "metadata": {
    "collapsed": false
   }
  },
  {
   "cell_type": "code",
   "execution_count": 14,
   "outputs": [
    {
     "data": {
      "text/plain": "       area  perimeter\n0    422163  2378.9080\n1    338136  2085.1440\n2    526843  2647.3940\n3    416063  2351.2100\n4    347562  2160.3540\n..      ...        ...\n893  255403  1925.3650\n894  365924  2664.8230\n895  254330  1926.7360\n896  238955  1906.2679\n897  343792  2289.2720\n\n[898 rows x 2 columns]",
      "text/html": "<div>\n<style scoped>\n    .dataframe tbody tr th:only-of-type {\n        vertical-align: middle;\n    }\n\n    .dataframe tbody tr th {\n        vertical-align: top;\n    }\n\n    .dataframe thead th {\n        text-align: right;\n    }\n</style>\n<table border=\"1\" class=\"dataframe\">\n  <thead>\n    <tr style=\"text-align: right;\">\n      <th></th>\n      <th>area</th>\n      <th>perimeter</th>\n    </tr>\n  </thead>\n  <tbody>\n    <tr>\n      <th>0</th>\n      <td>422163</td>\n      <td>2378.9080</td>\n    </tr>\n    <tr>\n      <th>1</th>\n      <td>338136</td>\n      <td>2085.1440</td>\n    </tr>\n    <tr>\n      <th>2</th>\n      <td>526843</td>\n      <td>2647.3940</td>\n    </tr>\n    <tr>\n      <th>3</th>\n      <td>416063</td>\n      <td>2351.2100</td>\n    </tr>\n    <tr>\n      <th>4</th>\n      <td>347562</td>\n      <td>2160.3540</td>\n    </tr>\n    <tr>\n      <th>...</th>\n      <td>...</td>\n      <td>...</td>\n    </tr>\n    <tr>\n      <th>893</th>\n      <td>255403</td>\n      <td>1925.3650</td>\n    </tr>\n    <tr>\n      <th>894</th>\n      <td>365924</td>\n      <td>2664.8230</td>\n    </tr>\n    <tr>\n      <th>895</th>\n      <td>254330</td>\n      <td>1926.7360</td>\n    </tr>\n    <tr>\n      <th>896</th>\n      <td>238955</td>\n      <td>1906.2679</td>\n    </tr>\n    <tr>\n      <th>897</th>\n      <td>343792</td>\n      <td>2289.2720</td>\n    </tr>\n  </tbody>\n</table>\n<p>898 rows × 2 columns</p>\n</div>"
     },
     "execution_count": 14,
     "metadata": {},
     "output_type": "execute_result"
    }
   ],
   "source": [
    "# View the area and perimieter columns\n",
    "df[[\"area\", \"perimeter\"]]"
   ],
   "metadata": {
    "collapsed": false
   }
  },
  {
   "cell_type": "markdown",
   "source": [
    "There are two ways to select rows. If you know the row index or indicies, you can use `df.iloc[i]` or `df.iloc[[i, j, k]]` to select those rows.\n",
    "\n",
    "If you know a condition on the values, you should use `df.loc[index_mask, columns]`. `index_mask` Boolean mask is a `(n,)` sized array of `True` or `False` values, while `columns` is a list of the columns. If `columns` are not specified, it will be assumed that all columns are selected, while rows will be filtered according to `index_mask`.\n",
    "\n",
    "The mask can be made from taking a Series and applying a Boolean logic operator to it. For example,\n",
    "`mask = df[col] == value`. Multiple masks can be combined with AND (`&`) and OR (`|`) elementwise operators, with mask expressions in brackets."
   ],
   "metadata": {
    "collapsed": false
   }
  },
  {
   "cell_type": "code",
   "execution_count": 15,
   "outputs": [
    {
     "data": {
      "text/plain": "     area  perimeter  major_axis_length  minor_axis_length  eccentricity   \n1  338136  2085.1440           723.8198           595.2073        0.5690  \\\n3  416063  2351.2100           827.9804           645.2988        0.6266   \n5  408953  2326.6931           840.1821           622.0076        0.6722   \n\n   equiv_diameter  solidity  convex_area  extent  aspect_ratio  ...   \n1        656.1464    0.9974       339014  0.7795        1.2161  ...  \\\n3        727.8378    0.9948       418255  0.7759        1.2831  ...   \n5        721.5921    0.9974       410036  0.7805        1.3508  ...   \n\n   kurtosisrr  kurtosisrg  kurtosisrb     entropyrr    entropyrg    entropyrb   \n1      2.6228      2.6350      3.1704 -3.423307e+10 -37462601728 -31477794816  \\\n3      5.0401      8.6136      8.2618 -3.207431e+10 -32060925952 -29575010304   \n5      3.6309      6.0285      6.2159 -4.114037e+10 -33146710016 -27907301376   \n\n   alldaub4rr  alldaub4rg  alldaub4rb  class  \n1     50.0259     52.8168     47.8315  BERHI  \n3     43.3900     44.1259     41.1882  BERHI  \n5     49.7001     45.3190     39.7371  BERHI  \n\n[3 rows x 35 columns]",
      "text/html": "<div>\n<style scoped>\n    .dataframe tbody tr th:only-of-type {\n        vertical-align: middle;\n    }\n\n    .dataframe tbody tr th {\n        vertical-align: top;\n    }\n\n    .dataframe thead th {\n        text-align: right;\n    }\n</style>\n<table border=\"1\" class=\"dataframe\">\n  <thead>\n    <tr style=\"text-align: right;\">\n      <th></th>\n      <th>area</th>\n      <th>perimeter</th>\n      <th>major_axis_length</th>\n      <th>minor_axis_length</th>\n      <th>eccentricity</th>\n      <th>equiv_diameter</th>\n      <th>solidity</th>\n      <th>convex_area</th>\n      <th>extent</th>\n      <th>aspect_ratio</th>\n      <th>...</th>\n      <th>kurtosisrr</th>\n      <th>kurtosisrg</th>\n      <th>kurtosisrb</th>\n      <th>entropyrr</th>\n      <th>entropyrg</th>\n      <th>entropyrb</th>\n      <th>alldaub4rr</th>\n      <th>alldaub4rg</th>\n      <th>alldaub4rb</th>\n      <th>class</th>\n    </tr>\n  </thead>\n  <tbody>\n    <tr>\n      <th>1</th>\n      <td>338136</td>\n      <td>2085.1440</td>\n      <td>723.8198</td>\n      <td>595.2073</td>\n      <td>0.5690</td>\n      <td>656.1464</td>\n      <td>0.9974</td>\n      <td>339014</td>\n      <td>0.7795</td>\n      <td>1.2161</td>\n      <td>...</td>\n      <td>2.6228</td>\n      <td>2.6350</td>\n      <td>3.1704</td>\n      <td>-3.423307e+10</td>\n      <td>-37462601728</td>\n      <td>-31477794816</td>\n      <td>50.0259</td>\n      <td>52.8168</td>\n      <td>47.8315</td>\n      <td>BERHI</td>\n    </tr>\n    <tr>\n      <th>3</th>\n      <td>416063</td>\n      <td>2351.2100</td>\n      <td>827.9804</td>\n      <td>645.2988</td>\n      <td>0.6266</td>\n      <td>727.8378</td>\n      <td>0.9948</td>\n      <td>418255</td>\n      <td>0.7759</td>\n      <td>1.2831</td>\n      <td>...</td>\n      <td>5.0401</td>\n      <td>8.6136</td>\n      <td>8.2618</td>\n      <td>-3.207431e+10</td>\n      <td>-32060925952</td>\n      <td>-29575010304</td>\n      <td>43.3900</td>\n      <td>44.1259</td>\n      <td>41.1882</td>\n      <td>BERHI</td>\n    </tr>\n    <tr>\n      <th>5</th>\n      <td>408953</td>\n      <td>2326.6931</td>\n      <td>840.1821</td>\n      <td>622.0076</td>\n      <td>0.6722</td>\n      <td>721.5921</td>\n      <td>0.9974</td>\n      <td>410036</td>\n      <td>0.7805</td>\n      <td>1.3508</td>\n      <td>...</td>\n      <td>3.6309</td>\n      <td>6.0285</td>\n      <td>6.2159</td>\n      <td>-4.114037e+10</td>\n      <td>-33146710016</td>\n      <td>-27907301376</td>\n      <td>49.7001</td>\n      <td>45.3190</td>\n      <td>39.7371</td>\n      <td>BERHI</td>\n    </tr>\n  </tbody>\n</table>\n<p>3 rows × 35 columns</p>\n</div>"
     },
     "execution_count": 15,
     "metadata": {},
     "output_type": "execute_result"
    }
   ],
   "source": [
    "# Select rows 1, 3, and 5\n",
    "df.iloc[[1, 3, 5]]"
   ],
   "metadata": {
    "collapsed": false
   }
  },
  {
   "cell_type": "code",
   "execution_count": 16,
   "outputs": [
    {
     "data": {
      "text/plain": "      area  perimeter  class\n2   526843  2647.3940  BERHI\n8   546063  2714.9480  BERHI\n64  500669  2580.3069  BERHI",
      "text/html": "<div>\n<style scoped>\n    .dataframe tbody tr th:only-of-type {\n        vertical-align: middle;\n    }\n\n    .dataframe tbody tr th {\n        vertical-align: top;\n    }\n\n    .dataframe thead th {\n        text-align: right;\n    }\n</style>\n<table border=\"1\" class=\"dataframe\">\n  <thead>\n    <tr style=\"text-align: right;\">\n      <th></th>\n      <th>area</th>\n      <th>perimeter</th>\n      <th>class</th>\n    </tr>\n  </thead>\n  <tbody>\n    <tr>\n      <th>2</th>\n      <td>526843</td>\n      <td>2647.3940</td>\n      <td>BERHI</td>\n    </tr>\n    <tr>\n      <th>8</th>\n      <td>546063</td>\n      <td>2714.9480</td>\n      <td>BERHI</td>\n    </tr>\n    <tr>\n      <th>64</th>\n      <td>500669</td>\n      <td>2580.3069</td>\n      <td>BERHI</td>\n    </tr>\n  </tbody>\n</table>\n</div>"
     },
     "execution_count": 16,
     "metadata": {},
     "output_type": "execute_result"
    }
   ],
   "source": [
    "# View the area and perimeter of BERHI date fruits whose area is greater than 500_000\n",
    "mask = (df[\"class\"] == \"BERHI\") & (df[\"area\"] > 500_000)\n",
    "df.loc[mask, [\"area\", \"perimeter\", \"class\"]]"
   ],
   "metadata": {
    "collapsed": false
   }
  },
  {
   "cell_type": "markdown",
   "source": [
    "We can sort a dataframe by the values in a specific column using `df.sort_values(by=column_name)`. By default, sorting is by ascending order, so specifying `ascending=False` will sort in descending order."
   ],
   "metadata": {
    "collapsed": false
   }
  },
  {
   "cell_type": "code",
   "execution_count": 17,
   "outputs": [
    {
     "data": {
      "text/plain": "      area  perimeter\n8   546063  2714.9480\n2   526843  2647.3940\n64  500669  2580.3069",
      "text/html": "<div>\n<style scoped>\n    .dataframe tbody tr th:only-of-type {\n        vertical-align: middle;\n    }\n\n    .dataframe tbody tr th {\n        vertical-align: top;\n    }\n\n    .dataframe thead th {\n        text-align: right;\n    }\n</style>\n<table border=\"1\" class=\"dataframe\">\n  <thead>\n    <tr style=\"text-align: right;\">\n      <th></th>\n      <th>area</th>\n      <th>perimeter</th>\n    </tr>\n  </thead>\n  <tbody>\n    <tr>\n      <th>8</th>\n      <td>546063</td>\n      <td>2714.9480</td>\n    </tr>\n    <tr>\n      <th>2</th>\n      <td>526843</td>\n      <td>2647.3940</td>\n    </tr>\n    <tr>\n      <th>64</th>\n      <td>500669</td>\n      <td>2580.3069</td>\n    </tr>\n  </tbody>\n</table>\n</div>"
     },
     "execution_count": 17,
     "metadata": {},
     "output_type": "execute_result"
    }
   ],
   "source": [
    "# Sort large BERHI dates by perimeter in descending order\n",
    "subdf = df.loc[mask, [\"area\", \"perimeter\"]]\n",
    "subdf.sort_values(by=\"perimeter\", ascending=False)"
   ],
   "metadata": {
    "collapsed": false
   }
  },
  {
   "cell_type": "markdown",
   "source": [
    "Now that the column names are normalized and we know how to select specific columns, we can select the same subset of columns that the pumpkin seeds dataset has.\n",
    "\n",
    "We could drop the unwanted columns one-by-one using `df.drop(labels=[\"column\", \"names\"], axis=1)`. Some operations can also be applied to the same object by specifing the keyword `inplace=True`. By default, `inplace=False`, so changes will not be applied. Here, we will drop the unwanted columns `[\"meanrr\", \"meanrg\", \"meanrb\"]` in place."
   ],
   "metadata": {
    "collapsed": false
   }
  },
  {
   "cell_type": "code",
   "execution_count": 18,
   "outputs": [
    {
     "data": {
      "text/plain": "     area  perimeter  major_axis_length  minor_axis_length  eccentricity   \n0  422163   2378.908           837.8484           645.6693        0.6373  \\\n1  338136   2085.144           723.8198           595.2073        0.5690   \n2  526843   2647.394           940.7379           715.3638        0.6494   \n3  416063   2351.210           827.9804           645.2988        0.6266   \n4  347562   2160.354           763.9877           582.8359        0.6465   \n\n   equiv_diameter  solidity  convex_area  extent  aspect_ratio  ...   \n0        733.1539    0.9947       424428  0.7831        1.2976  ...  \\\n1        656.1464    0.9974       339014  0.7795        1.2161  ...   \n2        819.0222    0.9962       528876  0.7657        1.3150  ...   \n3        727.8378    0.9948       418255  0.7759        1.2831  ...   \n4        665.2291    0.9908       350797  0.7569        1.3108  ...   \n\n   kurtosisrr  kurtosisrg  kurtosisrb     entropyrr    entropyrg    entropyrb   \n0      3.2370      2.9574      4.2287 -5.919126e+10 -50714214400 -39922372608  \\\n1      2.6228      2.6350      3.1704 -3.423307e+10 -37462601728 -31477794816   \n2      3.7516      3.8611      4.7192 -9.394835e+10 -74738221056 -60311207936   \n3      5.0401      8.6136      8.2618 -3.207431e+10 -32060925952 -29575010304   \n4      2.7016      2.9761      4.4146 -3.998097e+10 -35980042240 -25593278464   \n\n   alldaub4rr  alldaub4rg  alldaub4rb  class  \n0     58.7255     54.9554     47.8400  BERHI  \n1     50.0259     52.8168     47.8315  BERHI  \n2     65.4772     59.2860     51.9378  BERHI  \n3     43.3900     44.1259     41.1882  BERHI  \n4     52.7743     50.9080     42.6666  BERHI  \n\n[5 rows x 32 columns]",
      "text/html": "<div>\n<style scoped>\n    .dataframe tbody tr th:only-of-type {\n        vertical-align: middle;\n    }\n\n    .dataframe tbody tr th {\n        vertical-align: top;\n    }\n\n    .dataframe thead th {\n        text-align: right;\n    }\n</style>\n<table border=\"1\" class=\"dataframe\">\n  <thead>\n    <tr style=\"text-align: right;\">\n      <th></th>\n      <th>area</th>\n      <th>perimeter</th>\n      <th>major_axis_length</th>\n      <th>minor_axis_length</th>\n      <th>eccentricity</th>\n      <th>equiv_diameter</th>\n      <th>solidity</th>\n      <th>convex_area</th>\n      <th>extent</th>\n      <th>aspect_ratio</th>\n      <th>...</th>\n      <th>kurtosisrr</th>\n      <th>kurtosisrg</th>\n      <th>kurtosisrb</th>\n      <th>entropyrr</th>\n      <th>entropyrg</th>\n      <th>entropyrb</th>\n      <th>alldaub4rr</th>\n      <th>alldaub4rg</th>\n      <th>alldaub4rb</th>\n      <th>class</th>\n    </tr>\n  </thead>\n  <tbody>\n    <tr>\n      <th>0</th>\n      <td>422163</td>\n      <td>2378.908</td>\n      <td>837.8484</td>\n      <td>645.6693</td>\n      <td>0.6373</td>\n      <td>733.1539</td>\n      <td>0.9947</td>\n      <td>424428</td>\n      <td>0.7831</td>\n      <td>1.2976</td>\n      <td>...</td>\n      <td>3.2370</td>\n      <td>2.9574</td>\n      <td>4.2287</td>\n      <td>-5.919126e+10</td>\n      <td>-50714214400</td>\n      <td>-39922372608</td>\n      <td>58.7255</td>\n      <td>54.9554</td>\n      <td>47.8400</td>\n      <td>BERHI</td>\n    </tr>\n    <tr>\n      <th>1</th>\n      <td>338136</td>\n      <td>2085.144</td>\n      <td>723.8198</td>\n      <td>595.2073</td>\n      <td>0.5690</td>\n      <td>656.1464</td>\n      <td>0.9974</td>\n      <td>339014</td>\n      <td>0.7795</td>\n      <td>1.2161</td>\n      <td>...</td>\n      <td>2.6228</td>\n      <td>2.6350</td>\n      <td>3.1704</td>\n      <td>-3.423307e+10</td>\n      <td>-37462601728</td>\n      <td>-31477794816</td>\n      <td>50.0259</td>\n      <td>52.8168</td>\n      <td>47.8315</td>\n      <td>BERHI</td>\n    </tr>\n    <tr>\n      <th>2</th>\n      <td>526843</td>\n      <td>2647.394</td>\n      <td>940.7379</td>\n      <td>715.3638</td>\n      <td>0.6494</td>\n      <td>819.0222</td>\n      <td>0.9962</td>\n      <td>528876</td>\n      <td>0.7657</td>\n      <td>1.3150</td>\n      <td>...</td>\n      <td>3.7516</td>\n      <td>3.8611</td>\n      <td>4.7192</td>\n      <td>-9.394835e+10</td>\n      <td>-74738221056</td>\n      <td>-60311207936</td>\n      <td>65.4772</td>\n      <td>59.2860</td>\n      <td>51.9378</td>\n      <td>BERHI</td>\n    </tr>\n    <tr>\n      <th>3</th>\n      <td>416063</td>\n      <td>2351.210</td>\n      <td>827.9804</td>\n      <td>645.2988</td>\n      <td>0.6266</td>\n      <td>727.8378</td>\n      <td>0.9948</td>\n      <td>418255</td>\n      <td>0.7759</td>\n      <td>1.2831</td>\n      <td>...</td>\n      <td>5.0401</td>\n      <td>8.6136</td>\n      <td>8.2618</td>\n      <td>-3.207431e+10</td>\n      <td>-32060925952</td>\n      <td>-29575010304</td>\n      <td>43.3900</td>\n      <td>44.1259</td>\n      <td>41.1882</td>\n      <td>BERHI</td>\n    </tr>\n    <tr>\n      <th>4</th>\n      <td>347562</td>\n      <td>2160.354</td>\n      <td>763.9877</td>\n      <td>582.8359</td>\n      <td>0.6465</td>\n      <td>665.2291</td>\n      <td>0.9908</td>\n      <td>350797</td>\n      <td>0.7569</td>\n      <td>1.3108</td>\n      <td>...</td>\n      <td>2.7016</td>\n      <td>2.9761</td>\n      <td>4.4146</td>\n      <td>-3.998097e+10</td>\n      <td>-35980042240</td>\n      <td>-25593278464</td>\n      <td>52.7743</td>\n      <td>50.9080</td>\n      <td>42.6666</td>\n      <td>BERHI</td>\n    </tr>\n  </tbody>\n</table>\n<p>5 rows × 32 columns</p>\n</div>"
     },
     "execution_count": 18,
     "metadata": {},
     "output_type": "execute_result"
    }
   ],
   "source": [
    "df.drop(labels=[\"meanrr\", \"meanrg\", \"meanrb\"], axis=1, inplace=True)\n",
    "df.head()"
   ],
   "metadata": {
    "collapsed": false
   }
  },
  {
   "cell_type": "markdown",
   "source": [
    "However, since we know the columns we want to keep, we could just select them and assign the result to `df` to keep them."
   ],
   "metadata": {
    "collapsed": false
   }
  },
  {
   "cell_type": "code",
   "execution_count": 19,
   "outputs": [
    {
     "data": {
      "text/plain": "     area  perimeter  major_axis_length  minor_axis_length  convex_area   \n0  422163   2378.908           837.8484           645.6693       424428  \\\n1  338136   2085.144           723.8198           595.2073       339014   \n2  526843   2647.394           940.7379           715.3638       528876   \n3  416063   2351.210           827.9804           645.2988       418255   \n4  347562   2160.354           763.9877           582.8359       350797   \n\n   equiv_diameter  eccentricity  solidity  extent  roundness  aspect_ratio   \n0        733.1539        0.6373    0.9947  0.7831     0.9374        1.2976  \\\n1        656.1464        0.5690    0.9974  0.7795     0.9773        1.2161   \n2        819.0222        0.6494    0.9962  0.7657     0.9446        1.3150   \n3        727.8378        0.6266    0.9948  0.7759     0.9458        1.2831   \n4        665.2291        0.6465    0.9908  0.7569     0.9358        1.3108   \n\n   compactness  class  \n0       0.8750  BERHI  \n1       0.9065  BERHI  \n2       0.8706  BERHI  \n3       0.8791  BERHI  \n4       0.8707  BERHI  ",
      "text/html": "<div>\n<style scoped>\n    .dataframe tbody tr th:only-of-type {\n        vertical-align: middle;\n    }\n\n    .dataframe tbody tr th {\n        vertical-align: top;\n    }\n\n    .dataframe thead th {\n        text-align: right;\n    }\n</style>\n<table border=\"1\" class=\"dataframe\">\n  <thead>\n    <tr style=\"text-align: right;\">\n      <th></th>\n      <th>area</th>\n      <th>perimeter</th>\n      <th>major_axis_length</th>\n      <th>minor_axis_length</th>\n      <th>convex_area</th>\n      <th>equiv_diameter</th>\n      <th>eccentricity</th>\n      <th>solidity</th>\n      <th>extent</th>\n      <th>roundness</th>\n      <th>aspect_ratio</th>\n      <th>compactness</th>\n      <th>class</th>\n    </tr>\n  </thead>\n  <tbody>\n    <tr>\n      <th>0</th>\n      <td>422163</td>\n      <td>2378.908</td>\n      <td>837.8484</td>\n      <td>645.6693</td>\n      <td>424428</td>\n      <td>733.1539</td>\n      <td>0.6373</td>\n      <td>0.9947</td>\n      <td>0.7831</td>\n      <td>0.9374</td>\n      <td>1.2976</td>\n      <td>0.8750</td>\n      <td>BERHI</td>\n    </tr>\n    <tr>\n      <th>1</th>\n      <td>338136</td>\n      <td>2085.144</td>\n      <td>723.8198</td>\n      <td>595.2073</td>\n      <td>339014</td>\n      <td>656.1464</td>\n      <td>0.5690</td>\n      <td>0.9974</td>\n      <td>0.7795</td>\n      <td>0.9773</td>\n      <td>1.2161</td>\n      <td>0.9065</td>\n      <td>BERHI</td>\n    </tr>\n    <tr>\n      <th>2</th>\n      <td>526843</td>\n      <td>2647.394</td>\n      <td>940.7379</td>\n      <td>715.3638</td>\n      <td>528876</td>\n      <td>819.0222</td>\n      <td>0.6494</td>\n      <td>0.9962</td>\n      <td>0.7657</td>\n      <td>0.9446</td>\n      <td>1.3150</td>\n      <td>0.8706</td>\n      <td>BERHI</td>\n    </tr>\n    <tr>\n      <th>3</th>\n      <td>416063</td>\n      <td>2351.210</td>\n      <td>827.9804</td>\n      <td>645.2988</td>\n      <td>418255</td>\n      <td>727.8378</td>\n      <td>0.6266</td>\n      <td>0.9948</td>\n      <td>0.7759</td>\n      <td>0.9458</td>\n      <td>1.2831</td>\n      <td>0.8791</td>\n      <td>BERHI</td>\n    </tr>\n    <tr>\n      <th>4</th>\n      <td>347562</td>\n      <td>2160.354</td>\n      <td>763.9877</td>\n      <td>582.8359</td>\n      <td>350797</td>\n      <td>665.2291</td>\n      <td>0.6465</td>\n      <td>0.9908</td>\n      <td>0.7569</td>\n      <td>0.9358</td>\n      <td>1.3108</td>\n      <td>0.8707</td>\n      <td>BERHI</td>\n    </tr>\n  </tbody>\n</table>\n</div>"
     },
     "execution_count": 19,
     "metadata": {},
     "output_type": "execute_result"
    }
   ],
   "source": [
    "df = df[pumpkin_seed_features]\n",
    "df.head()"
   ],
   "metadata": {
    "collapsed": false
   }
  },
  {
   "cell_type": "markdown",
   "source": [
    "# Outlier removal\n",
    "\n",
    "Outliers are data points that differ significantly from the mean distribution of the data. Often, outliers can represent incorrect measurements, although domain knowledge is often required to interpret the meaning of outliers. We will only analyze the feature columns (e.g. not `class`) for outliers, since they're all continuous values, whereas `class` is categorical.\n",
    "\n",
    "In this example, we can view the distributions of each of the features and note that there is an outlier with the aspect ratio with an abnormally large value, where we would typically expect this feature to be between 1-3. There are some compactness and roundness values near 0, where we expect these to be near 1. The solidity feature also has a long left tail, so some lower values might also be considered outliers.\n",
    "\n",
    "There are many ways to remove outliers, like using heuristic rules. There are also statistical methods. In this example, we'll compute a robust Z-score using $z' = \\frac{x - \\tilde{x}}{1.4826 \\times \\text{MAD}(x)}$ where $\\tilde{x}$ is the median of $x$, MAD is the median absolute deviation, and 1.4826 is a scale factor so that the MAD approximates the standard deviation of a normal distribution.\n",
    "\n",
    "We will reject outliers as having a robust Z-score of $|z'| > 6$."
   ],
   "metadata": {
    "collapsed": false
   }
  },
  {
   "cell_type": "code",
   "execution_count": 22,
   "outputs": [
    {
     "data": {
      "text/plain": "<Figure size 800x600 with 12 Axes>",
      "image/png": "[encoded data removed]"
     },
     "metadata": {},
     "output_type": "display_data"
    }
   ],
   "source": [
    "# Plotting the distribution\n",
    "fig, axs = plt.subplots(3, 4, figsize=(8, 6))\n",
    "\n",
    "feature_cols = df.columns.drop(\"class\")\n",
    "\n",
    "for col, ax in zip(feature_cols, axs.flatten()):\n",
    "    ax.hist(df[col].values, bins=20)\n",
    "    ax.set_xlabel(col)\n",
    "\n",
    "plt.tight_layout()\n",
    "plt.show()"
   ],
   "metadata": {
    "collapsed": false
   }
  },
  {
   "cell_type": "code",
   "execution_count": 23,
   "outputs": [
    {
     "data": {
      "text/plain": "                          area   perimeter  major_axis_length   \namin                    1987.0   911.82800           336.7227  \\\namax                  546063.0  2811.99710          1222.7230   \nmedian                319833.0  2196.34545           791.3634   \nmedian_abs_deviation   81801.5   250.86500            91.4002   \n\n                      minor_axis_length  convex_area  equiv_diameter   \namin                            2.28320       2257.0        50.29840  \\\namax                          766.45360     552598.0       833.82790   \nmedian                        495.05485     327207.0       638.14095   \nmedian_abs_deviation           93.74330      81918.5        80.22815   \n\n                      eccentricity  solidity   extent  roundness   \namin                        0.3448    0.8366  0.51230    0.00480  \\\namax                        1.0000    0.9974  0.85620    0.97730   \nmedian                      0.7547    0.9873  0.74695    0.86775   \nmedian_abs_deviation        0.0559    0.0054  0.03395    0.03450   \n\n                      aspect_ratio  compactness  \namin                       1.06530      0.04110  \namax                     535.52570      0.96810  \nmedian                     1.52415      0.80495  \nmedian_abs_deviation       0.15075      0.03995  ",
      "text/html": "<div>\n<style scoped>\n    .dataframe tbody tr th:only-of-type {\n        vertical-align: middle;\n    }\n\n    .dataframe tbody tr th {\n        vertical-align: top;\n    }\n\n    .dataframe thead th {\n        text-align: right;\n    }\n</style>\n<table border=\"1\" class=\"dataframe\">\n  <thead>\n    <tr style=\"text-align: right;\">\n      <th></th>\n      <th>area</th>\n      <th>perimeter</th>\n      <th>major_axis_length</th>\n      <th>minor_axis_length</th>\n      <th>convex_area</th>\n      <th>equiv_diameter</th>\n      <th>eccentricity</th>\n      <th>solidity</th>\n      <th>extent</th>\n      <th>roundness</th>\n      <th>aspect_ratio</th>\n      <th>compactness</th>\n    </tr>\n  </thead>\n  <tbody>\n    <tr>\n      <th>amin</th>\n      <td>1987.0</td>\n      <td>911.82800</td>\n      <td>336.7227</td>\n      <td>2.28320</td>\n      <td>2257.0</td>\n      <td>50.29840</td>\n      <td>0.3448</td>\n      <td>0.8366</td>\n      <td>0.51230</td>\n      <td>0.00480</td>\n      <td>1.06530</td>\n      <td>0.04110</td>\n    </tr>\n    <tr>\n      <th>amax</th>\n      <td>546063.0</td>\n      <td>2811.99710</td>\n      <td>1222.7230</td>\n      <td>766.45360</td>\n      <td>552598.0</td>\n      <td>833.82790</td>\n      <td>1.0000</td>\n      <td>0.9974</td>\n      <td>0.85620</td>\n      <td>0.97730</td>\n      <td>535.52570</td>\n      <td>0.96810</td>\n    </tr>\n    <tr>\n      <th>median</th>\n      <td>319833.0</td>\n      <td>2196.34545</td>\n      <td>791.3634</td>\n      <td>495.05485</td>\n      <td>327207.0</td>\n      <td>638.14095</td>\n      <td>0.7547</td>\n      <td>0.9873</td>\n      <td>0.74695</td>\n      <td>0.86775</td>\n      <td>1.52415</td>\n      <td>0.80495</td>\n    </tr>\n    <tr>\n      <th>median_abs_deviation</th>\n      <td>81801.5</td>\n      <td>250.86500</td>\n      <td>91.4002</td>\n      <td>93.74330</td>\n      <td>81918.5</td>\n      <td>80.22815</td>\n      <td>0.0559</td>\n      <td>0.0054</td>\n      <td>0.03395</td>\n      <td>0.03450</td>\n      <td>0.15075</td>\n      <td>0.03995</td>\n    </tr>\n  </tbody>\n</table>\n</div>"
     },
     "execution_count": 23,
     "metadata": {},
     "output_type": "execute_result"
    }
   ],
   "source": [
    "# Compute the robust Z-score\n",
    "from scipy.stats import median_abs_deviation\n",
    "\n",
    "df_score = df.copy(deep=True)\n",
    "\n",
    "df_stats = df[feature_cols].agg([np.min, np.max, np.median, median_abs_deviation])\n",
    "df_stats"
   ],
   "metadata": {
    "collapsed": false
   }
  },
  {
   "cell_type": "code",
   "execution_count": 24,
   "outputs": [],
   "source": [
    "for col in feature_cols:\n",
    "    median = df_stats.loc[\"median\", col]\n",
    "    mad = df_stats.loc[\"median_abs_deviation\", col]\n",
    "    func = lambda x: (x - median) / (1.4826 * mad)\n",
    "    df_score[col] = df_score[col].apply(func)"
   ],
   "metadata": {
    "collapsed": false
   }
  },
  {
   "cell_type": "code",
   "execution_count": 25,
   "outputs": [
    {
     "data": {
      "text/plain": "         area  perimeter  major_axis_length  minor_axis_length  convex_area   \n0    0.843758   0.490849           0.343038           1.083683     0.800487  \\\n1    0.150917  -0.298983          -0.498440           0.720605     0.097215   \n2    1.706892   1.212716           1.102314           1.585141     1.660478   \n3    0.793460   0.416378           0.270216           1.081018     0.749660   \n4    0.228638  -0.096769          -0.202020           0.631592     0.194233   \n..        ...        ...                ...                ...          ...   \n893 -0.531255  -0.728574          -0.734397          -0.128614    -0.544897   \n894  0.380041   1.259577           0.473027           0.406449     0.488743   \n895 -0.540102  -0.724888          -0.323733          -0.427625    -0.584196   \n896 -0.666876  -0.779920          -0.551361          -0.382959    -0.645619   \n897  0.197553   0.249848           0.239690           0.285795     0.199790   \n\n     equiv_diameter  eccentricity  solidity    extent  roundness   \n0          0.798789     -1.416551  0.924302  0.718199   1.361689  \\\n1          0.151375     -2.240661  1.261548  0.646677   2.141753   \n2          1.520697     -1.270552  1.111661  0.372510   1.502453   \n3          0.754096     -1.545658  0.936793  0.575155   1.525913   \n4          0.227734     -1.305544  0.437170  0.197678   1.330409   \n..              ...           ...       ...       ...        ...   \n893       -0.570740     -0.369220 -1.099170 -0.398337  -0.038123   \n894        0.373566      0.117040 -5.083662 -1.538713  -4.305988   \n895       -0.580821      0.698623  0.649510 -0.455952  -0.133921   \n896       -0.727682      0.393352 -3.359963 -1.024153  -0.810366   \n897        0.197319      0.072396 -1.149132 -1.049980  -0.849467   \n\n     aspect_ratio  compactness  class  \n0       -1.013638     1.182680  BERHI  \n1       -1.378288     1.714507  BERHI  \n2       -0.935786     1.108393  BERHI  \n3       -1.078514     1.251902  BERHI  \n4       -0.954578     1.110082  BERHI  \n..            ...          ...    ...  \n893     -0.332212     0.326693  SOGAY  \n894      0.120133    -0.119028  SOGAY  \n895      0.857934    -0.736959  SOGAY  \n896      0.437804    -0.595139  SOGAY  \n897      0.073154    -0.031234  SOGAY  \n\n[898 rows x 13 columns]",
      "text/html": "<div>\n<style scoped>\n    .dataframe tbody tr th:only-of-type {\n        vertical-align: middle;\n    }\n\n    .dataframe tbody tr th {\n        vertical-align: top;\n    }\n\n    .dataframe thead th {\n        text-align: right;\n    }\n</style>\n<table border=\"1\" class=\"dataframe\">\n  <thead>\n    <tr style=\"text-align: right;\">\n      <th></th>\n      <th>area</th>\n      <th>perimeter</th>\n      <th>major_axis_length</th>\n      <th>minor_axis_length</th>\n      <th>convex_area</th>\n      <th>equiv_diameter</th>\n      <th>eccentricity</th>\n      <th>solidity</th>\n      <th>extent</th>\n      <th>roundness</th>\n      <th>aspect_ratio</th>\n      <th>compactness</th>\n      <th>class</th>\n    </tr>\n  </thead>\n  <tbody>\n    <tr>\n      <th>0</th>\n      <td>0.843758</td>\n      <td>0.490849</td>\n      <td>0.343038</td>\n      <td>1.083683</td>\n      <td>0.800487</td>\n      <td>0.798789</td>\n      <td>-1.416551</td>\n      <td>0.924302</td>\n      <td>0.718199</td>\n      <td>1.361689</td>\n      <td>-1.013638</td>\n      <td>1.182680</td>\n      <td>BERHI</td>\n    </tr>\n    <tr>\n      <th>1</th>\n      <td>0.150917</td>\n      <td>-0.298983</td>\n      <td>-0.498440</td>\n      <td>0.720605</td>\n      <td>0.097215</td>\n      <td>0.151375</td>\n      <td>-2.240661</td>\n      <td>1.261548</td>\n      <td>0.646677</td>\n      <td>2.141753</td>\n      <td>-1.378288</td>\n      <td>1.714507</td>\n      <td>BERHI</td>\n    </tr>\n    <tr>\n      <th>2</th>\n      <td>1.706892</td>\n      <td>1.212716</td>\n      <td>1.102314</td>\n      <td>1.585141</td>\n      <td>1.660478</td>\n      <td>1.520697</td>\n      <td>-1.270552</td>\n      <td>1.111661</td>\n      <td>0.372510</td>\n      <td>1.502453</td>\n      <td>-0.935786</td>\n      <td>1.108393</td>\n      <td>BERHI</td>\n    </tr>\n    <tr>\n      <th>3</th>\n      <td>0.793460</td>\n      <td>0.416378</td>\n      <td>0.270216</td>\n      <td>1.081018</td>\n      <td>0.749660</td>\n      <td>0.754096</td>\n      <td>-1.545658</td>\n      <td>0.936793</td>\n      <td>0.575155</td>\n      <td>1.525913</td>\n      <td>-1.078514</td>\n      <td>1.251902</td>\n      <td>BERHI</td>\n    </tr>\n    <tr>\n      <th>4</th>\n      <td>0.228638</td>\n      <td>-0.096769</td>\n      <td>-0.202020</td>\n      <td>0.631592</td>\n      <td>0.194233</td>\n      <td>0.227734</td>\n      <td>-1.305544</td>\n      <td>0.437170</td>\n      <td>0.197678</td>\n      <td>1.330409</td>\n      <td>-0.954578</td>\n      <td>1.110082</td>\n      <td>BERHI</td>\n    </tr>\n    <tr>\n      <th>...</th>\n      <td>...</td>\n      <td>...</td>\n      <td>...</td>\n      <td>...</td>\n      <td>...</td>\n      <td>...</td>\n      <td>...</td>\n      <td>...</td>\n      <td>...</td>\n      <td>...</td>\n      <td>...</td>\n      <td>...</td>\n      <td>...</td>\n    </tr>\n    <tr>\n      <th>893</th>\n      <td>-0.531255</td>\n      <td>-0.728574</td>\n      <td>-0.734397</td>\n      <td>-0.128614</td>\n      <td>-0.544897</td>\n      <td>-0.570740</td>\n      <td>-0.369220</td>\n      <td>-1.099170</td>\n      <td>-0.398337</td>\n      <td>-0.038123</td>\n      <td>-0.332212</td>\n      <td>0.326693</td>\n      <td>SOGAY</td>\n    </tr>\n    <tr>\n      <th>894</th>\n      <td>0.380041</td>\n      <td>1.259577</td>\n      <td>0.473027</td>\n      <td>0.406449</td>\n      <td>0.488743</td>\n      <td>0.373566</td>\n      <td>0.117040</td>\n      <td>-5.083662</td>\n      <td>-1.538713</td>\n      <td>-4.305988</td>\n      <td>0.120133</td>\n      <td>-0.119028</td>\n      <td>SOGAY</td>\n    </tr>\n    <tr>\n      <th>895</th>\n      <td>-0.540102</td>\n      <td>-0.724888</td>\n      <td>-0.323733</td>\n      <td>-0.427625</td>\n      <td>-0.584196</td>\n      <td>-0.580821</td>\n      <td>0.698623</td>\n      <td>0.649510</td>\n      <td>-0.455952</td>\n      <td>-0.133921</td>\n      <td>0.857934</td>\n      <td>-0.736959</td>\n      <td>SOGAY</td>\n    </tr>\n    <tr>\n      <th>896</th>\n      <td>-0.666876</td>\n      <td>-0.779920</td>\n      <td>-0.551361</td>\n      <td>-0.382959</td>\n      <td>-0.645619</td>\n      <td>-0.727682</td>\n      <td>0.393352</td>\n      <td>-3.359963</td>\n      <td>-1.024153</td>\n      <td>-0.810366</td>\n      <td>0.437804</td>\n      <td>-0.595139</td>\n      <td>SOGAY</td>\n    </tr>\n    <tr>\n      <th>897</th>\n      <td>0.197553</td>\n      <td>0.249848</td>\n      <td>0.239690</td>\n      <td>0.285795</td>\n      <td>0.199790</td>\n      <td>0.197319</td>\n      <td>0.072396</td>\n      <td>-1.149132</td>\n      <td>-1.049980</td>\n      <td>-0.849467</td>\n      <td>0.073154</td>\n      <td>-0.031234</td>\n      <td>SOGAY</td>\n    </tr>\n  </tbody>\n</table>\n<p>898 rows × 13 columns</p>\n</div>"
     },
     "execution_count": 25,
     "metadata": {},
     "output_type": "execute_result"
    }
   ],
   "source": [
    "df_score"
   ],
   "metadata": {
    "collapsed": false
   }
  },
  {
   "cell_type": "code",
   "execution_count": 26,
   "outputs": [
    {
     "data": {
      "text/plain": "area                  0\nperimeter             0\nmajor_axis_length     0\nminor_axis_length     0\nconvex_area           0\nequiv_diameter        0\neccentricity          0\nsolidity             28\nextent                0\nroundness             2\naspect_ratio          1\ncompactness           1\ndtype: int64"
     },
     "execution_count": 26,
     "metadata": {},
     "output_type": "execute_result"
    }
   ],
   "source": [
    "# mask is a (n, d) array of (0, 1) values\n",
    "mask = (df_score[feature_cols] > 6) | (df_score[feature_cols] < -6)\n",
    "mask.sum(axis=\"rows\")"
   ],
   "metadata": {
    "collapsed": false
   }
  },
  {
   "cell_type": "code",
   "execution_count": 27,
   "outputs": [
    {
     "data": {
      "text/plain": "       area  perimeter  major_axis_length  minor_axis_length  convex_area   \n615    1987  2289.3059          1222.7230             2.2832         2257  \\\n205   65590  1039.9240           372.3486           279.8673        78398   \n262  134094  1444.8110           541.8755           358.6036       145397   \n332  156030  1566.9790           595.6793           384.2388       171132   \n148  161602  1700.8960           671.8093           404.6781       192973   \n199  168314  1634.1880           611.6520           396.3839       187089   \n116  190722  1769.6710           664.2511           418.4305       213622   \n89   192966  1718.1270           656.2819           433.3523       212294   \n99   210311  1798.9200           671.3657           443.1094       228850   \n128  212851  1826.4060           675.8557           453.7003       236831   \n865  220062  1879.0420           680.3406           465.7903       248805   \n861  223523  1857.6680           681.8671           473.7249       248647   \n847  232956  1941.6860           690.3647           464.7091       254703   \n873  233918  1926.4600           689.4012           493.1880       262577   \n878  237986  1992.6890           759.7626           468.2187       272332   \n839  240328  1953.7419           644.4176           513.0257       266617   \n822  240537  1967.1281           718.0688           487.6316       274088   \n809  247036  1961.3020           694.0135           524.4564       279628   \n841  253875  1997.3550           747.1664           502.6085       278438   \n858  262586  1982.4640           678.1152           519.9161       287874   \n869  283888  2076.3770           772.6867           496.8922       302791   \n798  290186  2331.5811           912.2787           424.2137       313562   \n848  317794  2280.9690           875.5868           525.3380       352462   \n840  323238  2263.3049           827.1309           542.2946       351158   \n667  325494  2306.3110           852.4514           502.0418       346689   \n605  329691  2811.9971           899.2563           475.1783       341597   \n678  348611  2413.0229           902.8517           498.4926       372583   \n482  401353  2489.5581           884.2215           593.9569       427855   \n545  402063  2547.8970           884.2006           606.6811       428938   \n\n     equiv_diameter  eccentricity  solidity  extent  roundness  aspect_ratio   \n615         50.2984        1.0000    0.8804  0.8528     0.0048      535.5257  \\\n205        288.9840        0.6596    0.8366  0.6711     0.7622        1.3304   \n262        413.1994        0.7497    0.9223  0.7292     0.8072        1.5111   \n332        445.7169        0.7641    0.9118  0.6319     0.7985        1.5503   \n148        453.6056        0.7982    0.8374  0.6520     0.7019        1.6601   \n199        462.9298        0.7616    0.8996  0.7235     0.7920        1.5431   \n116        492.7827        0.7767    0.8928  0.6364     0.7653        1.5875   \n89         495.6732        0.7510    0.9090  0.7112     0.8214        1.5144   \n99         517.4711        0.7513    0.9190  0.6955     0.8167        1.5151   \n128        520.5865        0.7412    0.8987  0.6544     0.8018        1.4897   \n865        529.3313        0.7289    0.8845  0.6993     0.7832        1.4606   \n861        533.4776        0.7193    0.8990  0.6809     0.8139        1.4394   \n847        544.6180        0.7395    0.9146  0.6985     0.7765        1.4856   \n873        545.7414        0.6987    0.8909  0.7080     0.7921        1.3978   \n878        550.4663        0.7875    0.8739  0.7339     0.7532        1.6227   \n839        553.1683        0.6052    0.9014  0.6199     0.7912        1.2561   \n822        553.4088        0.7341    0.8776  0.7266     0.7811        1.4726   \n809        560.8351        0.6549    0.8834  0.7020     0.8070        1.3233   \n841        568.5452        0.7399    0.9118  0.6157     0.7997        1.4866   \n858        578.2170        0.6420    0.9122  0.6533     0.8396        1.3043   \n869        601.2133        0.7658    0.9376  0.6678     0.8275        1.5550   \n798        607.8456        0.8853    0.9255  0.5635     0.6708        2.1505   \n848        636.1037        0.8000    0.9016  0.6484     0.7676        1.6667   \n840        641.5289        0.7551    0.9205  0.7202     0.7930        1.5252   \n667        643.7638        0.8082    0.9389  0.6117     0.7690        1.6980   \n605        647.9009        0.8490    0.9651  0.8048     0.5239        1.8925   \n678        666.2322        0.8338    0.9357  0.6711     0.7524        1.8112   \n482        714.8556        0.7408    0.9381  0.7474     0.8138        1.4887   \n545        715.4876        0.7275    0.9373  0.7168     0.7783        1.4574   \n\n     compactness   class  \n615       0.0411  SAFAVI  \n205       0.7761   DOKOL  \n262       0.7625   DOKOL  \n332       0.7482   DOKOL  \n148       0.6752  DEGLET  \n199       0.7569   DOKOL  \n116       0.7419  DEGLET  \n89        0.7553  DEGLET  \n99        0.7708  DEGLET  \n128       0.7703  DEGLET  \n865       0.7780   SOGAY  \n861       0.7824   SOGAY  \n847       0.7889   SOGAY  \n873       0.7916   SOGAY  \n878       0.7245   SOGAY  \n839       0.8584   SOGAY  \n822       0.7707   SOGAY  \n809       0.8081   SOGAY  \n841       0.7609   SOGAY  \n858       0.8527   SOGAY  \n869       0.7781   SOGAY  \n798       0.6663  SAFAVI  \n848       0.7265   SOGAY  \n840       0.7756   SOGAY  \n667       0.7552  SAFAVI  \n605       0.7205  SAFAVI  \n678       0.7379  SAFAVI  \n482       0.8085  ROTANA  \n545       0.8092  ROTANA  ",
      "text/html": "<div>\n<style scoped>\n    .dataframe tbody tr th:only-of-type {\n        vertical-align: middle;\n    }\n\n    .dataframe tbody tr th {\n        vertical-align: top;\n    }\n\n    .dataframe thead th {\n        text-align: right;\n    }\n</style>\n<table border=\"1\" class=\"dataframe\">\n  <thead>\n    <tr style=\"text-align: right;\">\n      <th></th>\n      <th>area</th>\n      <th>perimeter</th>\n      <th>major_axis_length</th>\n      <th>minor_axis_length</th>\n      <th>convex_area</th>\n      <th>equiv_diameter</th>\n      <th>eccentricity</th>\n      <th>solidity</th>\n      <th>extent</th>\n      <th>roundness</th>\n      <th>aspect_ratio</th>\n      <th>compactness</th>\n      <th>class</th>\n    </tr>\n  </thead>\n  <tbody>\n    <tr>\n      <th>615</th>\n      <td>1987</td>\n      <td>2289.3059</td>\n      <td>1222.7230</td>\n      <td>2.2832</td>\n      <td>2257</td>\n      <td>50.2984</td>\n      <td>1.0000</td>\n      <td>0.8804</td>\n      <td>0.8528</td>\n      <td>0.0048</td>\n      <td>535.5257</td>\n      <td>0.0411</td>\n      <td>SAFAVI</td>\n    </tr>\n    <tr>\n      <th>205</th>\n      <td>65590</td>\n      <td>1039.9240</td>\n      <td>372.3486</td>\n      <td>279.8673</td>\n      <td>78398</td>\n      <td>288.9840</td>\n      <td>0.6596</td>\n      <td>0.8366</td>\n      <td>0.6711</td>\n      <td>0.7622</td>\n      <td>1.3304</td>\n      <td>0.7761</td>\n      <td>DOKOL</td>\n    </tr>\n    <tr>\n      <th>262</th>\n      <td>134094</td>\n      <td>1444.8110</td>\n      <td>541.8755</td>\n      <td>358.6036</td>\n      <td>145397</td>\n      <td>413.1994</td>\n      <td>0.7497</td>\n      <td>0.9223</td>\n      <td>0.7292</td>\n      <td>0.8072</td>\n      <td>1.5111</td>\n      <td>0.7625</td>\n      <td>DOKOL</td>\n    </tr>\n    <tr>\n      <th>332</th>\n      <td>156030</td>\n      <td>1566.9790</td>\n      <td>595.6793</td>\n      <td>384.2388</td>\n      <td>171132</td>\n      <td>445.7169</td>\n      <td>0.7641</td>\n      <td>0.9118</td>\n      <td>0.6319</td>\n      <td>0.7985</td>\n      <td>1.5503</td>\n      <td>0.7482</td>\n      <td>DOKOL</td>\n    </tr>\n    <tr>\n      <th>148</th>\n      <td>161602</td>\n      <td>1700.8960</td>\n      <td>671.8093</td>\n      <td>404.6781</td>\n      <td>192973</td>\n      <td>453.6056</td>\n      <td>0.7982</td>\n      <td>0.8374</td>\n      <td>0.6520</td>\n      <td>0.7019</td>\n      <td>1.6601</td>\n      <td>0.6752</td>\n      <td>DEGLET</td>\n    </tr>\n    <tr>\n      <th>199</th>\n      <td>168314</td>\n      <td>1634.1880</td>\n      <td>611.6520</td>\n      <td>396.3839</td>\n      <td>187089</td>\n      <td>462.9298</td>\n      <td>0.7616</td>\n      <td>0.8996</td>\n      <td>0.7235</td>\n      <td>0.7920</td>\n      <td>1.5431</td>\n      <td>0.7569</td>\n      <td>DOKOL</td>\n    </tr>\n    <tr>\n      <th>116</th>\n      <td>190722</td>\n      <td>1769.6710</td>\n      <td>664.2511</td>\n      <td>418.4305</td>\n      <td>213622</td>\n      <td>492.7827</td>\n      <td>0.7767</td>\n      <td>0.8928</td>\n      <td>0.6364</td>\n      <td>0.7653</td>\n      <td>1.5875</td>\n      <td>0.7419</td>\n      <td>DEGLET</td>\n    </tr>\n    <tr>\n      <th>89</th>\n      <td>192966</td>\n      <td>1718.1270</td>\n      <td>656.2819</td>\n      <td>433.3523</td>\n      <td>212294</td>\n      <td>495.6732</td>\n      <td>0.7510</td>\n      <td>0.9090</td>\n      <td>0.7112</td>\n      <td>0.8214</td>\n      <td>1.5144</td>\n      <td>0.7553</td>\n      <td>DEGLET</td>\n    </tr>\n    <tr>\n      <th>99</th>\n      <td>210311</td>\n      <td>1798.9200</td>\n      <td>671.3657</td>\n      <td>443.1094</td>\n      <td>228850</td>\n      <td>517.4711</td>\n      <td>0.7513</td>\n      <td>0.9190</td>\n      <td>0.6955</td>\n      <td>0.8167</td>\n      <td>1.5151</td>\n      <td>0.7708</td>\n      <td>DEGLET</td>\n    </tr>\n    <tr>\n      <th>128</th>\n      <td>212851</td>\n      <td>1826.4060</td>\n      <td>675.8557</td>\n      <td>453.7003</td>\n      <td>236831</td>\n      <td>520.5865</td>\n      <td>0.7412</td>\n      <td>0.8987</td>\n      <td>0.6544</td>\n      <td>0.8018</td>\n      <td>1.4897</td>\n      <td>0.7703</td>\n      <td>DEGLET</td>\n    </tr>\n    <tr>\n      <th>865</th>\n      <td>220062</td>\n      <td>1879.0420</td>\n      <td>680.3406</td>\n      <td>465.7903</td>\n      <td>248805</td>\n      <td>529.3313</td>\n      <td>0.7289</td>\n      <td>0.8845</td>\n      <td>0.6993</td>\n      <td>0.7832</td>\n      <td>1.4606</td>\n      <td>0.7780</td>\n      <td>SOGAY</td>\n    </tr>\n    <tr>\n      <th>861</th>\n      <td>223523</td>\n      <td>1857.6680</td>\n      <td>681.8671</td>\n      <td>473.7249</td>\n      <td>248647</td>\n      <td>533.4776</td>\n      <td>0.7193</td>\n      <td>0.8990</td>\n      <td>0.6809</td>\n      <td>0.8139</td>\n      <td>1.4394</td>\n      <td>0.7824</td>\n      <td>SOGAY</td>\n    </tr>\n    <tr>\n      <th>847</th>\n      <td>232956</td>\n      <td>1941.6860</td>\n      <td>690.3647</td>\n      <td>464.7091</td>\n      <td>254703</td>\n      <td>544.6180</td>\n      <td>0.7395</td>\n      <td>0.9146</td>\n      <td>0.6985</td>\n      <td>0.7765</td>\n      <td>1.4856</td>\n      <td>0.7889</td>\n      <td>SOGAY</td>\n    </tr>\n    <tr>\n      <th>873</th>\n      <td>233918</td>\n      <td>1926.4600</td>\n      <td>689.4012</td>\n      <td>493.1880</td>\n      <td>262577</td>\n      <td>545.7414</td>\n      <td>0.6987</td>\n      <td>0.8909</td>\n      <td>0.7080</td>\n      <td>0.7921</td>\n      <td>1.3978</td>\n      <td>0.7916</td>\n      <td>SOGAY</td>\n    </tr>\n    <tr>\n      <th>878</th>\n      <td>237986</td>\n      <td>1992.6890</td>\n      <td>759.7626</td>\n      <td>468.2187</td>\n      <td>272332</td>\n      <td>550.4663</td>\n      <td>0.7875</td>\n      <td>0.8739</td>\n      <td>0.7339</td>\n      <td>0.7532</td>\n      <td>1.6227</td>\n      <td>0.7245</td>\n      <td>SOGAY</td>\n    </tr>\n    <tr>\n      <th>839</th>\n      <td>240328</td>\n      <td>1953.7419</td>\n      <td>644.4176</td>\n      <td>513.0257</td>\n      <td>266617</td>\n      <td>553.1683</td>\n      <td>0.6052</td>\n      <td>0.9014</td>\n      <td>0.6199</td>\n      <td>0.7912</td>\n      <td>1.2561</td>\n      <td>0.8584</td>\n      <td>SOGAY</td>\n    </tr>\n    <tr>\n      <th>822</th>\n      <td>240537</td>\n      <td>1967.1281</td>\n      <td>718.0688</td>\n      <td>487.6316</td>\n      <td>274088</td>\n      <td>553.4088</td>\n      <td>0.7341</td>\n      <td>0.8776</td>\n      <td>0.7266</td>\n      <td>0.7811</td>\n      <td>1.4726</td>\n      <td>0.7707</td>\n      <td>SOGAY</td>\n    </tr>\n    <tr>\n      <th>809</th>\n      <td>247036</td>\n      <td>1961.3020</td>\n      <td>694.0135</td>\n      <td>524.4564</td>\n      <td>279628</td>\n      <td>560.8351</td>\n      <td>0.6549</td>\n      <td>0.8834</td>\n      <td>0.7020</td>\n      <td>0.8070</td>\n      <td>1.3233</td>\n      <td>0.8081</td>\n      <td>SOGAY</td>\n    </tr>\n    <tr>\n      <th>841</th>\n      <td>253875</td>\n      <td>1997.3550</td>\n      <td>747.1664</td>\n      <td>502.6085</td>\n      <td>278438</td>\n      <td>568.5452</td>\n      <td>0.7399</td>\n      <td>0.9118</td>\n      <td>0.6157</td>\n      <td>0.7997</td>\n      <td>1.4866</td>\n      <td>0.7609</td>\n      <td>SOGAY</td>\n    </tr>\n    <tr>\n      <th>858</th>\n      <td>262586</td>\n      <td>1982.4640</td>\n      <td>678.1152</td>\n      <td>519.9161</td>\n      <td>287874</td>\n      <td>578.2170</td>\n      <td>0.6420</td>\n      <td>0.9122</td>\n      <td>0.6533</td>\n      <td>0.8396</td>\n      <td>1.3043</td>\n      <td>0.8527</td>\n      <td>SOGAY</td>\n    </tr>\n    <tr>\n      <th>869</th>\n      <td>283888</td>\n      <td>2076.3770</td>\n      <td>772.6867</td>\n      <td>496.8922</td>\n      <td>302791</td>\n      <td>601.2133</td>\n      <td>0.7658</td>\n      <td>0.9376</td>\n      <td>0.6678</td>\n      <td>0.8275</td>\n      <td>1.5550</td>\n      <td>0.7781</td>\n      <td>SOGAY</td>\n    </tr>\n    <tr>\n      <th>798</th>\n      <td>290186</td>\n      <td>2331.5811</td>\n      <td>912.2787</td>\n      <td>424.2137</td>\n      <td>313562</td>\n      <td>607.8456</td>\n      <td>0.8853</td>\n      <td>0.9255</td>\n      <td>0.5635</td>\n      <td>0.6708</td>\n      <td>2.1505</td>\n      <td>0.6663</td>\n      <td>SAFAVI</td>\n    </tr>\n    <tr>\n      <th>848</th>\n      <td>317794</td>\n      <td>2280.9690</td>\n      <td>875.5868</td>\n      <td>525.3380</td>\n      <td>352462</td>\n      <td>636.1037</td>\n      <td>0.8000</td>\n      <td>0.9016</td>\n      <td>0.6484</td>\n      <td>0.7676</td>\n      <td>1.6667</td>\n      <td>0.7265</td>\n      <td>SOGAY</td>\n    </tr>\n    <tr>\n      <th>840</th>\n      <td>323238</td>\n      <td>2263.3049</td>\n      <td>827.1309</td>\n      <td>542.2946</td>\n      <td>351158</td>\n      <td>641.5289</td>\n      <td>0.7551</td>\n      <td>0.9205</td>\n      <td>0.7202</td>\n      <td>0.7930</td>\n      <td>1.5252</td>\n      <td>0.7756</td>\n      <td>SOGAY</td>\n    </tr>\n    <tr>\n      <th>667</th>\n      <td>325494</td>\n      <td>2306.3110</td>\n      <td>852.4514</td>\n      <td>502.0418</td>\n      <td>346689</td>\n      <td>643.7638</td>\n      <td>0.8082</td>\n      <td>0.9389</td>\n      <td>0.6117</td>\n      <td>0.7690</td>\n      <td>1.6980</td>\n      <td>0.7552</td>\n      <td>SAFAVI</td>\n    </tr>\n    <tr>\n      <th>605</th>\n      <td>329691</td>\n      <td>2811.9971</td>\n      <td>899.2563</td>\n      <td>475.1783</td>\n      <td>341597</td>\n      <td>647.9009</td>\n      <td>0.8490</td>\n      <td>0.9651</td>\n      <td>0.8048</td>\n      <td>0.5239</td>\n      <td>1.8925</td>\n      <td>0.7205</td>\n      <td>SAFAVI</td>\n    </tr>\n    <tr>\n      <th>678</th>\n      <td>348611</td>\n      <td>2413.0229</td>\n      <td>902.8517</td>\n      <td>498.4926</td>\n      <td>372583</td>\n      <td>666.2322</td>\n      <td>0.8338</td>\n      <td>0.9357</td>\n      <td>0.6711</td>\n      <td>0.7524</td>\n      <td>1.8112</td>\n      <td>0.7379</td>\n      <td>SAFAVI</td>\n    </tr>\n    <tr>\n      <th>482</th>\n      <td>401353</td>\n      <td>2489.5581</td>\n      <td>884.2215</td>\n      <td>593.9569</td>\n      <td>427855</td>\n      <td>714.8556</td>\n      <td>0.7408</td>\n      <td>0.9381</td>\n      <td>0.7474</td>\n      <td>0.8138</td>\n      <td>1.4887</td>\n      <td>0.8085</td>\n      <td>ROTANA</td>\n    </tr>\n    <tr>\n      <th>545</th>\n      <td>402063</td>\n      <td>2547.8970</td>\n      <td>884.2006</td>\n      <td>606.6811</td>\n      <td>428938</td>\n      <td>715.4876</td>\n      <td>0.7275</td>\n      <td>0.9373</td>\n      <td>0.7168</td>\n      <td>0.7783</td>\n      <td>1.4574</td>\n      <td>0.8092</td>\n      <td>ROTANA</td>\n    </tr>\n  </tbody>\n</table>\n</div>"
     },
     "execution_count": 27,
     "metadata": {},
     "output_type": "execute_result"
    }
   ],
   "source": [
    "# Summing mask along columns reveals which rows are outliers\n",
    "df.loc[mask.sum(axis=\"columns\") != 0].sort_values(by=\"area\")"
   ],
   "metadata": {
    "collapsed": false
   }
  },
  {
   "cell_type": "markdown",
   "source": [
    "# Feature normalization\n",
    "\n",
    "As discussed earlier, machine learning models require their inputs to be in vectors. Additionally, a lot of ML models assume that the input data is roughly normally distributed with 0 mean and unit standard deviation, or that the data is scaled between [-1, 1]. By preparing data to have a standard normal distribution generally improves model performance compared to having un-normalized features.\n",
    "\n",
    "Scikit-learn has a handy interface to apply common normalization techniques like standard scaling and min-max scaling to dataframes.\n",
    "\n",
    "We only apply this normalization to the feature columns, e.g. not the `class` column. Later, we will talk about how to encode categorical variables like `class` for ML models."
   ],
   "metadata": {
    "collapsed": false
   }
  },
  {
   "cell_type": "code",
   "execution_count": 28,
   "outputs": [],
   "source": [
    "feature_cols = df.columns.drop(\"class\")\n",
    "X_df = df[feature_cols]"
   ],
   "metadata": {
    "collapsed": false
   }
  },
  {
   "cell_type": "code",
   "execution_count": 29,
   "outputs": [],
   "source": [
    "scaler = StandardScaler().set_output(transform=\"pandas\")\n",
    "X_df_trans = scaler.fit_transform(X_df)"
   ],
   "metadata": {
    "collapsed": false
   }
  },
  {
   "cell_type": "markdown",
   "source": [
    "We can see that the mean and standard deviation of the features are now 0 and 1 respectively."
   ],
   "metadata": {
    "collapsed": false
   }
  },
  {
   "cell_type": "code",
   "execution_count": 30,
   "outputs": [
    {
     "data": {
      "text/plain": "       area  perimeter  major_axis_length  minor_axis_length  convex_area   \nmean  0.000      0.000              0.000             -0.000       -0.000  \\\nstd   1.001      1.001              1.001              1.001        1.001   \n\n      equiv_diameter  eccentricity  solidity  extent  roundness  aspect_ratio   \nmean          -0.000        -0.000    -0.000   0.000     -0.000         0.000  \\\nstd            1.001         1.001     1.001   1.001      1.001         1.001   \n\n      compactness  \nmean        0.000  \nstd         1.001  ",
      "text/html": "<div>\n<style scoped>\n    .dataframe tbody tr th:only-of-type {\n        vertical-align: middle;\n    }\n\n    .dataframe tbody tr th {\n        vertical-align: top;\n    }\n\n    .dataframe thead th {\n        text-align: right;\n    }\n</style>\n<table border=\"1\" class=\"dataframe\">\n  <thead>\n    <tr style=\"text-align: right;\">\n      <th></th>\n      <th>area</th>\n      <th>perimeter</th>\n      <th>major_axis_length</th>\n      <th>minor_axis_length</th>\n      <th>convex_area</th>\n      <th>equiv_diameter</th>\n      <th>eccentricity</th>\n      <th>solidity</th>\n      <th>extent</th>\n      <th>roundness</th>\n      <th>aspect_ratio</th>\n      <th>compactness</th>\n    </tr>\n  </thead>\n  <tbody>\n    <tr>\n      <th>mean</th>\n      <td>0.000</td>\n      <td>0.000</td>\n      <td>0.000</td>\n      <td>-0.000</td>\n      <td>-0.000</td>\n      <td>-0.000</td>\n      <td>-0.000</td>\n      <td>-0.000</td>\n      <td>0.000</td>\n      <td>-0.000</td>\n      <td>0.000</td>\n      <td>0.000</td>\n    </tr>\n    <tr>\n      <th>std</th>\n      <td>1.001</td>\n      <td>1.001</td>\n      <td>1.001</td>\n      <td>1.001</td>\n      <td>1.001</td>\n      <td>1.001</td>\n      <td>1.001</td>\n      <td>1.001</td>\n      <td>1.001</td>\n      <td>1.001</td>\n      <td>1.001</td>\n      <td>1.001</td>\n    </tr>\n  </tbody>\n</table>\n</div>"
     },
     "execution_count": 30,
     "metadata": {},
     "output_type": "execute_result"
    }
   ],
   "source": [
    "X_df_trans.agg([\"mean\", \"std\"]).round(3)"
   ],
   "metadata": {
    "collapsed": false
   }
  },
  {
   "cell_type": "markdown",
   "source": [
    "We could now pass in `X_df_trans` and `df[\"class\"]` as training features and labels respectively to a machine learning to classify different kinds of date fruits!"
   ],
   "metadata": {
    "collapsed": false
   }
  },
  {
   "cell_type": "markdown",
   "source": [
    "# Working with Different Data Types\n",
    "\n",
    "The candy dataset contains survey results. Respondents were asked to rate various Halloween candies as 'Meh', 'Joy', or 'Despair' based on how happy they would be to receive a particular candy."
   ],
   "metadata": {
    "collapsed": false
   }
  },
  {
   "cell_type": "code",
   "execution_count": 31,
   "outputs": [
    {
     "name": "stderr",
     "output_type": "stream",
     "text": [
      "/usr/local/lib/python3.9/site-packages/openpyxl/worksheet/_reader.py:329: UserWarning: Unknown extension is not supported and will be removed\n",
      "  warn(msg)\n"
     ]
    }
   ],
   "source": [
    "candy = pd.read_excel('../data/candy.xlsx')"
   ],
   "metadata": {
    "collapsed": false
   }
  },
  {
   "cell_type": "code",
   "execution_count": 32,
   "outputs": [
    {
     "data": {
      "text/plain": "   Internal ID Q1: GOING OUT? Q2: GENDER Q3: AGE Q4: COUNTRY   \n0     90258773            NaN        NaN     NaN         NaN  \\\n1     90272821             No       Male      44        USA    \n2     90272829            NaN       Male      49         USA   \n3     90272840             No       Male      40          us   \n4     90272841             No       Male      23         usa   \n\n  Q5: STATE, PROVINCE, COUNTY, ETC Q6 | 100 Grand Bar   \n0                              NaN                NaN  \\\n1                               NM                MEH   \n2                         Virginia                NaN   \n3                               or                MEH   \n4                         exton pa                JOY   \n\n  Q6 | Anonymous brown globs that come in black and orange wrappers\\t(a.k.a. Mary Janes)   \n0                                                NaN                                      \\\n1                                            DESPAIR                                       \n2                                                NaN                                       \n3                                            DESPAIR                                       \n4                                            DESPAIR                                       \n\n  Q6 | Any full-sized candy bar Q6 | Black Jacks  ... Q8: DESPAIR OTHER   \n0                           NaN              NaN  ...               NaN  \\\n1                           JOY              MEH  ...               NaN   \n2                           NaN              NaN  ...               NaN   \n3                           JOY              MEH  ...               NaN   \n4                           JOY          DESPAIR  ...               NaN   \n\n                                  Q9: OTHER COMMENTS      Q10: DRESS   \n0                                                NaN             NaN  \\\n1  Bottom line is Twix is really the only candy w...  White and gold   \n2                                                NaN             NaN   \n3                             Raisins can go to hell  White and gold   \n4                                                NaN  White and gold   \n\n  Unnamed: 113 Q11: DAY Q12: MEDIA [Daily Dish] Q12: MEDIA [Science]   \n0          NaN      NaN                     NaN                  NaN  \\\n1          NaN   Sunday                     NaN                  1.0   \n2          NaN      NaN                     NaN                  NaN   \n3          NaN   Sunday                     NaN                  1.0   \n4          NaN   Friday                     NaN                  1.0   \n\n  Q12: MEDIA [ESPN] Q12: MEDIA [Yahoo] Click Coordinates (x, y)  \n0               NaN                NaN                      NaN  \n1               NaN                NaN                 (84, 25)  \n2               NaN                NaN                      NaN  \n3               NaN                NaN                 (75, 23)  \n4               NaN                NaN                 (70, 10)  \n\n[5 rows x 120 columns]",
      "text/html": "<div>\n<style scoped>\n    .dataframe tbody tr th:only-of-type {\n        vertical-align: middle;\n    }\n\n    .dataframe tbody tr th {\n        vertical-align: top;\n    }\n\n    .dataframe thead th {\n        text-align: right;\n    }\n</style>\n<table border=\"1\" class=\"dataframe\">\n  <thead>\n    <tr style=\"text-align: right;\">\n      <th></th>\n      <th>Internal ID</th>\n      <th>Q1: GOING OUT?</th>\n      <th>Q2: GENDER</th>\n      <th>Q3: AGE</th>\n      <th>Q4: COUNTRY</th>\n      <th>Q5: STATE, PROVINCE, COUNTY, ETC</th>\n      <th>Q6 | 100 Grand Bar</th>\n      <th>Q6 | Anonymous brown globs that come in black and orange wrappers\\t(a.k.a. Mary Janes)</th>\n      <th>Q6 | Any full-sized candy bar</th>\n      <th>Q6 | Black Jacks</th>\n      <th>...</th>\n      <th>Q8: DESPAIR OTHER</th>\n      <th>Q9: OTHER COMMENTS</th>\n      <th>Q10: DRESS</th>\n      <th>Unnamed: 113</th>\n      <th>Q11: DAY</th>\n      <th>Q12: MEDIA [Daily Dish]</th>\n      <th>Q12: MEDIA [Science]</th>\n      <th>Q12: MEDIA [ESPN]</th>\n      <th>Q12: MEDIA [Yahoo]</th>\n      <th>Click Coordinates (x, y)</th>\n    </tr>\n  </thead>\n  <tbody>\n    <tr>\n      <th>0</th>\n      <td>90258773</td>\n      <td>NaN</td>\n      <td>NaN</td>\n      <td>NaN</td>\n      <td>NaN</td>\n      <td>NaN</td>\n      <td>NaN</td>\n      <td>NaN</td>\n      <td>NaN</td>\n      <td>NaN</td>\n      <td>...</td>\n      <td>NaN</td>\n      <td>NaN</td>\n      <td>NaN</td>\n      <td>NaN</td>\n      <td>NaN</td>\n      <td>NaN</td>\n      <td>NaN</td>\n      <td>NaN</td>\n      <td>NaN</td>\n      <td>NaN</td>\n    </tr>\n    <tr>\n      <th>1</th>\n      <td>90272821</td>\n      <td>No</td>\n      <td>Male</td>\n      <td>44</td>\n      <td>USA</td>\n      <td>NM</td>\n      <td>MEH</td>\n      <td>DESPAIR</td>\n      <td>JOY</td>\n      <td>MEH</td>\n      <td>...</td>\n      <td>NaN</td>\n      <td>Bottom line is Twix is really the only candy w...</td>\n      <td>White and gold</td>\n      <td>NaN</td>\n      <td>Sunday</td>\n      <td>NaN</td>\n      <td>1.0</td>\n      <td>NaN</td>\n      <td>NaN</td>\n      <td>(84, 25)</td>\n    </tr>\n    <tr>\n      <th>2</th>\n      <td>90272829</td>\n      <td>NaN</td>\n      <td>Male</td>\n      <td>49</td>\n      <td>USA</td>\n      <td>Virginia</td>\n      <td>NaN</td>\n      <td>NaN</td>\n      <td>NaN</td>\n      <td>NaN</td>\n      <td>...</td>\n      <td>NaN</td>\n      <td>NaN</td>\n      <td>NaN</td>\n      <td>NaN</td>\n      <td>NaN</td>\n      <td>NaN</td>\n      <td>NaN</td>\n      <td>NaN</td>\n      <td>NaN</td>\n      <td>NaN</td>\n    </tr>\n    <tr>\n      <th>3</th>\n      <td>90272840</td>\n      <td>No</td>\n      <td>Male</td>\n      <td>40</td>\n      <td>us</td>\n      <td>or</td>\n      <td>MEH</td>\n      <td>DESPAIR</td>\n      <td>JOY</td>\n      <td>MEH</td>\n      <td>...</td>\n      <td>NaN</td>\n      <td>Raisins can go to hell</td>\n      <td>White and gold</td>\n      <td>NaN</td>\n      <td>Sunday</td>\n      <td>NaN</td>\n      <td>1.0</td>\n      <td>NaN</td>\n      <td>NaN</td>\n      <td>(75, 23)</td>\n    </tr>\n    <tr>\n      <th>4</th>\n      <td>90272841</td>\n      <td>No</td>\n      <td>Male</td>\n      <td>23</td>\n      <td>usa</td>\n      <td>exton pa</td>\n      <td>JOY</td>\n      <td>DESPAIR</td>\n      <td>JOY</td>\n      <td>DESPAIR</td>\n      <td>...</td>\n      <td>NaN</td>\n      <td>NaN</td>\n      <td>White and gold</td>\n      <td>NaN</td>\n      <td>Friday</td>\n      <td>NaN</td>\n      <td>1.0</td>\n      <td>NaN</td>\n      <td>NaN</td>\n      <td>(70, 10)</td>\n    </tr>\n  </tbody>\n</table>\n<p>5 rows × 120 columns</p>\n</div>"
     },
     "execution_count": 32,
     "metadata": {},
     "output_type": "execute_result"
    }
   ],
   "source": [
    "candy.head()"
   ],
   "metadata": {
    "collapsed": false
   }
  },
  {
   "cell_type": "markdown",
   "source": [
    "## Ordinal Categoricals"
   ],
   "metadata": {
    "collapsed": false
   }
  },
  {
   "cell_type": "markdown",
   "source": [
    "The candy dataset contains mostly categorical data. Many machine learning models require vector inputs with numerical data. So, a very common operation is to encode categorical variables, effectively converting them into integer format.\n",
    "\n",
    "Ordinal categoricals are discrete categories that have some order. Think \"small\", \"medium\", \"large\". One technique for converting nominal categorical variables to numeric values is label encoding."
   ],
   "metadata": {
    "collapsed": false
   }
  },
  {
   "cell_type": "markdown",
   "source": [
    "One particular type of candy can have 3 ratings. These ratings have an implicit order."
   ],
   "metadata": {
    "collapsed": false
   }
  },
  {
   "cell_type": "code",
   "execution_count": null,
   "outputs": [],
   "source": [],
   "metadata": {
    "collapsed": false,
    "pycharm": {
     "is_executing": true
    }
   }
  },
  {
   "cell_type": "markdown",
   "source": [
    "A natural solution would be to assign DESPAIR a value of -1, MEH a value of 0, and JOY a value of 1."
   ],
   "metadata": {
    "collapsed": false
   }
  },
  {
   "cell_type": "code",
   "execution_count": 34,
   "outputs": [],
   "source": [
    "from sklearn.preprocessing import LabelEncoder"
   ],
   "metadata": {
    "collapsed": false
   }
  },
  {
   "cell_type": "code",
   "execution_count": 35,
   "outputs": [],
   "source": [],
   "metadata": {
    "collapsed": false
   }
  },
  {
   "cell_type": "code",
   "execution_count": null,
   "outputs": [],
   "source": [],
   "metadata": {
    "collapsed": false,
    "pycharm": {
     "is_executing": true
    }
   }
  },
  {
   "cell_type": "markdown",
   "source": [
    "## Nominal Categoricals\n",
    "\n",
    "Nominal categoricals have no order, so concepts such as mean, min, and max have no interpretation. One particularly popular method of encoding, known as One-Hot Encoding involves representing categorical variables as binary columns."
   ],
   "metadata": {
    "collapsed": false
   }
  },
  {
   "cell_type": "code",
   "execution_count": 42,
   "outputs": [],
   "source": [],
   "metadata": {
    "collapsed": false
   }
  },
  {
   "cell_type": "code",
   "execution_count": null,
   "outputs": [],
   "source": [],
   "metadata": {
    "collapsed": false,
    "pycharm": {
     "is_executing": true
    }
   }
  },
  {
   "cell_type": "markdown",
   "source": [
    "## Converting to Categorical\n",
    "\n",
    "Suppose you are interested in comparing candy ratings across age groups. Looking at ratings for each individual age does not make practical sense, so you could bin the age column into categories."
   ],
   "metadata": {
    "collapsed": false
   }
  },
  {
   "cell_type": "code",
   "execution_count": null,
   "outputs": [],
   "source": [
    "candy['Q3: AGE'].unique()"
   ],
   "metadata": {
    "collapsed": false,
    "pycharm": {
     "is_executing": true
    }
   }
  },
  {
   "cell_type": "code",
   "execution_count": 45,
   "outputs": [],
   "source": [
    "age_groups = candy[candy['Q3: AGE'].apply(lambda x: str(x).isnumeric())]['Q3: AGE']"
   ],
   "metadata": {
    "collapsed": false
   }
  },
  {
   "cell_type": "code",
   "execution_count": null,
   "outputs": [],
   "source": [
    "age_groups.apply(lambda x: round(x, -1))"
   ],
   "metadata": {
    "collapsed": false,
    "pycharm": {
     "is_executing": true
    }
   }
  },
  {
   "cell_type": "markdown",
   "source": [
    "# Handling Missing Values\n",
    "\n",
    "Not all missing values are equal. Consider arbitrary survey data taken from the general population.\n",
    "\n",
    "**Missing Not At Random** - when a value is missing for a reason related to the true value. (Ex: if a survey responding chooses not to disclose their income, this could be because they have an abnormally high or low income)\n",
    "\n",
    "**Missing at Random** - when a value is missing for a reason related to another observed variable. (Ex: many age values are missing for survey respondents of a particular gender)\n",
    "\n",
    "**Missing Completely at Random** - when there's no patterns in the missing values."
   ],
   "metadata": {
    "collapsed": false
   }
  },
  {
   "cell_type": "code",
   "execution_count": 2,
   "outputs": [],
   "source": [
    "solar_df = pd.read_csv(\"../data/solarenergy.csv\")"
   ],
   "metadata": {
    "collapsed": false
   }
  },
  {
   "cell_type": "code",
   "execution_count": null,
   "outputs": [],
   "source": [
    "solar_df.head()"
   ],
   "metadata": {
    "collapsed": false,
    "pycharm": {
     "is_executing": true
    }
   }
  },
  {
   "cell_type": "markdown",
   "source": [
    "## Deletion\n",
    "\n",
    "- Column deletion: removing a column that has too many missing values and is non-essential for your model\n",
    "- Row deletion: removing rows with missing values, ideally if the missing values are Missing At Random, to avoid biasing your model"
   ],
   "metadata": {
    "collapsed": false
   }
  },
  {
   "cell_type": "code",
   "execution_count": null,
   "outputs": [],
   "source": [
    "solar_df.dropna()"
   ],
   "metadata": {
    "collapsed": false,
    "pycharm": {
     "is_executing": true
    }
   }
  },
  {
   "cell_type": "code",
   "execution_count": null,
   "outputs": [],
   "source": [
    "solar_df.head()"
   ],
   "metadata": {
    "collapsed": false,
    "pycharm": {
     "is_executing": true
    }
   }
  },
  {
   "cell_type": "markdown",
   "source": [
    "Two ways of making row deletion persistent in a DataFrame."
   ],
   "metadata": {
    "collapsed": false
   }
  },
  {
   "cell_type": "code",
   "execution_count": 6,
   "outputs": [],
   "source": [
    "# solar_df.dropna(inplace=True)\n",
    "# solar_df = solar_df.dropna(subset=['solar radiation'])"
   ],
   "metadata": {
    "collapsed": false
   }
  },
  {
   "cell_type": "code",
   "execution_count": null,
   "outputs": [],
   "source": [
    "solar_df.drop('solar radiation')\n",
    "#solar_ df.drop('solar radiation', axis=1) # set axis=1 to drop a row!"
   ],
   "metadata": {
    "collapsed": false,
    "pycharm": {
     "is_executing": true
    }
   }
  },
  {
   "cell_type": "markdown",
   "source": [
    "## Imputation\n",
    "\n",
    "- Fill missing values with their defaults (empty string, zero, etc...)\n",
    "- Fill missing values with the mean, median, or mode\n",
    "- Backward or forward fill\n",
    "- Imputation risks injecting your own bias and adding noise to the data, and should be performed with caution"
   ],
   "metadata": {
    "collapsed": false
   }
  },
  {
   "cell_type": "code",
   "execution_count": null,
   "outputs": [],
   "source": [],
   "metadata": {
    "collapsed": false
   }
  },
  {
   "cell_type": "code",
   "execution_count": null,
   "outputs": [],
   "source": [],
   "metadata": {
    "collapsed": false
   }
  },
  {
   "cell_type": "code",
   "execution_count": null,
   "outputs": [],
   "source": [],
   "metadata": {
    "collapsed": false
   }
  },
  {
   "cell_type": "code",
   "execution_count": null,
   "outputs": [],
   "source": [],
   "metadata": {
    "collapsed": false,
    "pycharm": {
     "is_executing": true
    }
   }
  },
  {
   "cell_type": "code",
   "execution_count": null,
   "outputs": [],
   "source": [],
   "metadata": {
    "collapsed": false,
    "pycharm": {
     "is_executing": true
    }
   }
  },
  {
   "cell_type": "code",
   "execution_count": 12,
   "outputs": [],
   "source": [],
   "metadata": {
    "collapsed": false
   }
  },
  {
   "cell_type": "code",
   "execution_count": null,
   "outputs": [],
   "source": [],
   "metadata": {
    "collapsed": false,
    "pycharm": {
     "is_executing": true
    }
   }
  },
  {
   "cell_type": "code",
   "execution_count": 40,
   "outputs": [
    {
     "data": {
      "text/plain": "<matplotlib.collections.PathCollection at 0x146816310>"
     },
     "execution_count": 40,
     "metadata": {},
     "output_type": "execute_result"
    },
    {
     "data": {
      "text/plain": "<Figure size 640x480 with 1 Axes>",
      "image/png": "[encoded data removed]"
     },
     "metadata": {},
     "output_type": "display_data"
    }
   ],
   "source": [
    "# don't worry too much about this line\n",
    "null_indices = solar_df.loc[pd.isna(solar_df['solar radiation']), :].index\n",
    "interp = interp_df.iloc[null_indices]\n",
    "\n",
    "plt.plot(solar_df['time'].values[:100], solar_df['solar radiation'].values[:100])\n",
    "plt.scatter(interp.time.values[:10], interp['solar radiation'].values[:10], color='orange')"
   ],
   "metadata": {
    "collapsed": false
   }
  }
 ],
 "metadata": {
  "kernelspec": {
   "display_name": "Python 3",
   "language": "python",
   "name": "python3"
  },
  "language_info": {
   "codemirror_mode": {
    "name": "ipython",
    "version": 2
   },
   "file_extension": ".py",
   "mimetype": "text/x-python",
   "name": "python",
   "nbconvert_exporter": "python",
   "pygments_lexer": "ipython2",
   "version": "2.7.6"
  }
 },
 "nbformat": 4,
 "nbformat_minor": 0
}
