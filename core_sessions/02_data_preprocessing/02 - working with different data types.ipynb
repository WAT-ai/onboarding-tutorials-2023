{
 "cells": [
  {
   "cell_type": "code",
   "execution_count": 6,
   "metadata": {
    "collapsed": true
   },
   "outputs": [],
   "source": [
    "import pandas as pd\n",
    "import numpy as np"
   ]
  },
  {
   "cell_type": "code",
   "execution_count": 7,
   "outputs": [
    {
     "name": "stderr",
     "output_type": "stream",
     "text": [
      "/usr/local/lib/python3.9/site-packages/openpyxl/worksheet/_reader.py:329: UserWarning: Unknown extension is not supported and will be removed\n",
      "  warn(msg)\n"
     ]
    }
   ],
   "source": [
    "candy = pd.read_excel('/Users/carterdemars/Desktop/candy.xlsx')"
   ],
   "metadata": {
    "collapsed": false
   }
  },
  {
   "cell_type": "code",
   "execution_count": 8,
   "outputs": [
    {
     "data": {
      "text/plain": "   Internal ID Q1: GOING OUT? Q2: GENDER Q3: AGE Q4: COUNTRY   \n0     90258773            NaN        NaN     NaN         NaN  \\\n1     90272821             No       Male      44        USA    \n2     90272829            NaN       Male      49         USA   \n3     90272840             No       Male      40          us   \n4     90272841             No       Male      23         usa   \n\n  Q5: STATE, PROVINCE, COUNTY, ETC Q6 | 100 Grand Bar   \n0                              NaN                NaN  \\\n1                               NM                MEH   \n2                         Virginia                NaN   \n3                               or                MEH   \n4                         exton pa                JOY   \n\n  Q6 | Anonymous brown globs that come in black and orange wrappers\\t(a.k.a. Mary Janes)   \n0                                                NaN                                      \\\n1                                            DESPAIR                                       \n2                                                NaN                                       \n3                                            DESPAIR                                       \n4                                            DESPAIR                                       \n\n  Q6 | Any full-sized candy bar Q6 | Black Jacks  ... Q8: DESPAIR OTHER   \n0                           NaN              NaN  ...               NaN  \\\n1                           JOY              MEH  ...               NaN   \n2                           NaN              NaN  ...               NaN   \n3                           JOY              MEH  ...               NaN   \n4                           JOY          DESPAIR  ...               NaN   \n\n                                  Q9: OTHER COMMENTS      Q10: DRESS   \n0                                                NaN             NaN  \\\n1  Bottom line is Twix is really the only candy w...  White and gold   \n2                                                NaN             NaN   \n3                             Raisins can go to hell  White and gold   \n4                                                NaN  White and gold   \n\n  Unnamed: 113 Q11: DAY Q12: MEDIA [Daily Dish] Q12: MEDIA [Science]   \n0          NaN      NaN                     NaN                  NaN  \\\n1          NaN   Sunday                     NaN                  1.0   \n2          NaN      NaN                     NaN                  NaN   \n3          NaN   Sunday                     NaN                  1.0   \n4          NaN   Friday                     NaN                  1.0   \n\n  Q12: MEDIA [ESPN] Q12: MEDIA [Yahoo] Click Coordinates (x, y)  \n0               NaN                NaN                      NaN  \n1               NaN                NaN                 (84, 25)  \n2               NaN                NaN                      NaN  \n3               NaN                NaN                 (75, 23)  \n4               NaN                NaN                 (70, 10)  \n\n[5 rows x 120 columns]",
      "text/html": "<div>\n<style scoped>\n    .dataframe tbody tr th:only-of-type {\n        vertical-align: middle;\n    }\n\n    .dataframe tbody tr th {\n        vertical-align: top;\n    }\n\n    .dataframe thead th {\n        text-align: right;\n    }\n</style>\n<table border=\"1\" class=\"dataframe\">\n  <thead>\n    <tr style=\"text-align: right;\">\n      <th></th>\n      <th>Internal ID</th>\n      <th>Q1: GOING OUT?</th>\n      <th>Q2: GENDER</th>\n      <th>Q3: AGE</th>\n      <th>Q4: COUNTRY</th>\n      <th>Q5: STATE, PROVINCE, COUNTY, ETC</th>\n      <th>Q6 | 100 Grand Bar</th>\n      <th>Q6 | Anonymous brown globs that come in black and orange wrappers\\t(a.k.a. Mary Janes)</th>\n      <th>Q6 | Any full-sized candy bar</th>\n      <th>Q6 | Black Jacks</th>\n      <th>...</th>\n      <th>Q8: DESPAIR OTHER</th>\n      <th>Q9: OTHER COMMENTS</th>\n      <th>Q10: DRESS</th>\n      <th>Unnamed: 113</th>\n      <th>Q11: DAY</th>\n      <th>Q12: MEDIA [Daily Dish]</th>\n      <th>Q12: MEDIA [Science]</th>\n      <th>Q12: MEDIA [ESPN]</th>\n      <th>Q12: MEDIA [Yahoo]</th>\n      <th>Click Coordinates (x, y)</th>\n    </tr>\n  </thead>\n  <tbody>\n    <tr>\n      <th>0</th>\n      <td>90258773</td>\n      <td>NaN</td>\n      <td>NaN</td>\n      <td>NaN</td>\n      <td>NaN</td>\n      <td>NaN</td>\n      <td>NaN</td>\n      <td>NaN</td>\n      <td>NaN</td>\n      <td>NaN</td>\n      <td>...</td>\n      <td>NaN</td>\n      <td>NaN</td>\n      <td>NaN</td>\n      <td>NaN</td>\n      <td>NaN</td>\n      <td>NaN</td>\n      <td>NaN</td>\n      <td>NaN</td>\n      <td>NaN</td>\n      <td>NaN</td>\n    </tr>\n    <tr>\n      <th>1</th>\n      <td>90272821</td>\n      <td>No</td>\n      <td>Male</td>\n      <td>44</td>\n      <td>USA</td>\n      <td>NM</td>\n      <td>MEH</td>\n      <td>DESPAIR</td>\n      <td>JOY</td>\n      <td>MEH</td>\n      <td>...</td>\n      <td>NaN</td>\n      <td>Bottom line is Twix is really the only candy w...</td>\n      <td>White and gold</td>\n      <td>NaN</td>\n      <td>Sunday</td>\n      <td>NaN</td>\n      <td>1.0</td>\n      <td>NaN</td>\n      <td>NaN</td>\n      <td>(84, 25)</td>\n    </tr>\n    <tr>\n      <th>2</th>\n      <td>90272829</td>\n      <td>NaN</td>\n      <td>Male</td>\n      <td>49</td>\n      <td>USA</td>\n      <td>Virginia</td>\n      <td>NaN</td>\n      <td>NaN</td>\n      <td>NaN</td>\n      <td>NaN</td>\n      <td>...</td>\n      <td>NaN</td>\n      <td>NaN</td>\n      <td>NaN</td>\n      <td>NaN</td>\n      <td>NaN</td>\n      <td>NaN</td>\n      <td>NaN</td>\n      <td>NaN</td>\n      <td>NaN</td>\n      <td>NaN</td>\n    </tr>\n    <tr>\n      <th>3</th>\n      <td>90272840</td>\n      <td>No</td>\n      <td>Male</td>\n      <td>40</td>\n      <td>us</td>\n      <td>or</td>\n      <td>MEH</td>\n      <td>DESPAIR</td>\n      <td>JOY</td>\n      <td>MEH</td>\n      <td>...</td>\n      <td>NaN</td>\n      <td>Raisins can go to hell</td>\n      <td>White and gold</td>\n      <td>NaN</td>\n      <td>Sunday</td>\n      <td>NaN</td>\n      <td>1.0</td>\n      <td>NaN</td>\n      <td>NaN</td>\n      <td>(75, 23)</td>\n    </tr>\n    <tr>\n      <th>4</th>\n      <td>90272841</td>\n      <td>No</td>\n      <td>Male</td>\n      <td>23</td>\n      <td>usa</td>\n      <td>exton pa</td>\n      <td>JOY</td>\n      <td>DESPAIR</td>\n      <td>JOY</td>\n      <td>DESPAIR</td>\n      <td>...</td>\n      <td>NaN</td>\n      <td>NaN</td>\n      <td>White and gold</td>\n      <td>NaN</td>\n      <td>Friday</td>\n      <td>NaN</td>\n      <td>1.0</td>\n      <td>NaN</td>\n      <td>NaN</td>\n      <td>(70, 10)</td>\n    </tr>\n  </tbody>\n</table>\n<p>5 rows × 120 columns</p>\n</div>"
     },
     "execution_count": 8,
     "metadata": {},
     "output_type": "execute_result"
    }
   ],
   "source": [
    "candy.head()"
   ],
   "metadata": {
    "collapsed": false
   }
  },
  {
   "cell_type": "markdown",
   "source": [
    "## Ordinal Categoricals"
   ],
   "metadata": {
    "collapsed": false
   }
  },
  {
   "cell_type": "markdown",
   "source": [
    "The candy dataset contains mostly categorical data. Many machine learning models require vector inputs with numerical data. So, a very common operation is to encode categorical variables, effectively converting them into integer format.\n",
    "\n",
    "Ordinal categoricals are discrete categories that have some order. Think \"small\", \"medium\", \"large\". One technique for converting nominal categorical variables to numeric values is label encoding."
   ],
   "metadata": {
    "collapsed": false
   }
  },
  {
   "cell_type": "markdown",
   "source": [
    "One particular type of candy can have 3 ratings. These ratings have an implicit order."
   ],
   "metadata": {
    "collapsed": false
   }
  },
  {
   "cell_type": "code",
   "execution_count": 21,
   "outputs": [
    {
     "data": {
      "text/plain": "Q6 | Healthy Fruit\nDESPAIR    855\nMEH        683\nJOY        228\nName: count, dtype: int64"
     },
     "execution_count": 21,
     "metadata": {},
     "output_type": "execute_result"
    }
   ],
   "source": [
    "candy['Q6 | Healthy Fruit'].value_counts()"
   ],
   "metadata": {
    "collapsed": false
   }
  },
  {
   "cell_type": "markdown",
   "source": [
    "A natural solution would be to assign DESPAIR a value of -1, MEH a value of 0, and JOY a value of 1."
   ],
   "metadata": {
    "collapsed": false
   }
  },
  {
   "cell_type": "code",
   "execution_count": 23,
   "outputs": [],
   "source": [
    "from sklearn.preprocessing import LabelEncoder"
   ],
   "metadata": {
    "collapsed": false
   }
  },
  {
   "cell_type": "code",
   "execution_count": 33,
   "outputs": [],
   "source": [
    "encoder = LabelEncoder()\n",
    "new_column = encoder.fit_transform(candy['Q6 | Healthy Fruit'].dropna()) - np.ones(candy.shape[0])"
   ],
   "metadata": {
    "collapsed": false
   }
  },
  {
   "cell_type": "code",
   "execution_count": 34,
   "outputs": [
    {
     "data": {
      "text/plain": "array([ 2., -1.,  2., ..., -1.,  2., -1.])"
     },
     "execution_count": 34,
     "metadata": {},
     "output_type": "execute_result"
    }
   ],
   "source": [
    "new_column"
   ],
   "metadata": {
    "collapsed": false
   }
  },
  {
   "cell_type": "markdown",
   "source": [
    "## Nominal Categoricals\n",
    "\n",
    "Nominal categoricals have no order, so concepts such as mean, min, and max have no interpretation. One particularly popular method of encoding, known as One-Hot Encoding involves representing categorical variables as binary columns."
   ],
   "metadata": {
    "collapsed": false
   }
  },
  {
   "cell_type": "code",
   "execution_count": 16,
   "outputs": [
    {
     "data": {
      "text/plain": "      Female  I'd rather not say   Male  Other\n0      False               False  False  False\n1      False               False   True  False\n2      False               False   True  False\n3      False               False   True  False\n4      False               False   True  False\n...      ...                 ...    ...    ...\n2455   False               False   True  False\n2456    True               False  False  False\n2457    True               False  False  False\n2458   False               False   True  False\n2459    True               False  False  False\n\n[2460 rows x 4 columns]",
      "text/html": "<div>\n<style scoped>\n    .dataframe tbody tr th:only-of-type {\n        vertical-align: middle;\n    }\n\n    .dataframe tbody tr th {\n        vertical-align: top;\n    }\n\n    .dataframe thead th {\n        text-align: right;\n    }\n</style>\n<table border=\"1\" class=\"dataframe\">\n  <thead>\n    <tr style=\"text-align: right;\">\n      <th></th>\n      <th>Female</th>\n      <th>I'd rather not say</th>\n      <th>Male</th>\n      <th>Other</th>\n    </tr>\n  </thead>\n  <tbody>\n    <tr>\n      <th>0</th>\n      <td>False</td>\n      <td>False</td>\n      <td>False</td>\n      <td>False</td>\n    </tr>\n    <tr>\n      <th>1</th>\n      <td>False</td>\n      <td>False</td>\n      <td>True</td>\n      <td>False</td>\n    </tr>\n    <tr>\n      <th>2</th>\n      <td>False</td>\n      <td>False</td>\n      <td>True</td>\n      <td>False</td>\n    </tr>\n    <tr>\n      <th>3</th>\n      <td>False</td>\n      <td>False</td>\n      <td>True</td>\n      <td>False</td>\n    </tr>\n    <tr>\n      <th>4</th>\n      <td>False</td>\n      <td>False</td>\n      <td>True</td>\n      <td>False</td>\n    </tr>\n    <tr>\n      <th>...</th>\n      <td>...</td>\n      <td>...</td>\n      <td>...</td>\n      <td>...</td>\n    </tr>\n    <tr>\n      <th>2455</th>\n      <td>False</td>\n      <td>False</td>\n      <td>True</td>\n      <td>False</td>\n    </tr>\n    <tr>\n      <th>2456</th>\n      <td>True</td>\n      <td>False</td>\n      <td>False</td>\n      <td>False</td>\n    </tr>\n    <tr>\n      <th>2457</th>\n      <td>True</td>\n      <td>False</td>\n      <td>False</td>\n      <td>False</td>\n    </tr>\n    <tr>\n      <th>2458</th>\n      <td>False</td>\n      <td>False</td>\n      <td>True</td>\n      <td>False</td>\n    </tr>\n    <tr>\n      <th>2459</th>\n      <td>True</td>\n      <td>False</td>\n      <td>False</td>\n      <td>False</td>\n    </tr>\n  </tbody>\n</table>\n<p>2460 rows × 4 columns</p>\n</div>"
     },
     "execution_count": 16,
     "metadata": {},
     "output_type": "execute_result"
    }
   ],
   "source": [
    "pd.get_dummies(candy['Q2: GENDER'])"
   ],
   "metadata": {
    "collapsed": false
   }
  },
  {
   "cell_type": "markdown",
   "source": [
    "## Converting to Categorical\n",
    "\n",
    "Suppose you are interested in comparing candy ratings across age groups. Looking at ratings for each individual age does not make practical sense, so you could bin the age column into categories."
   ],
   "metadata": {
    "collapsed": false
   }
  },
  {
   "cell_type": "code",
   "execution_count": 36,
   "outputs": [
    {
     "data": {
      "text/plain": "array([nan, 44, 49, 40, 23, 53, 33, 43, 56, 64, 37, 59, 48, 54, 36, 45,\n       25, 34, 35, 38, 58, 50, 47, 16, 52, 63, 65, 41, 27, 31, 61, 46, 42,\n       62, 29, 39, 32, 28, 69, 67, 30, 22, 26, 51, 70, 24, 18, 19,\n       'Old enough', 57, 60, 66, 12, 'Many', 55, 72, '?', 21, 11, 'no', 9,\n       68, 20, 6, 10, 71, 90, 13, '45-55', 312, 99, 7, 'hahahahaha', 88,\n       39.4, 74, 102, 'older than dirt', 17, 15, 8, 75, '5u', 'Enough',\n       'See question 2', '24-50', 14, 'Over 50', 100, 76, 1000,\n       'sixty-nine', '46 Halloweens.', 'ancient', 77, 'OLD', 'old', 73,\n       70.5, 1, 'MY NAME JEFF', 4, '59 on the day after Halloween',\n       'old enough', 'your mom',\n       'I can remember when Java was a cool new language', '60+'],\n      dtype=object)"
     },
     "execution_count": 36,
     "metadata": {},
     "output_type": "execute_result"
    }
   ],
   "source": [
    "candy['Q3: AGE'].unique()"
   ],
   "metadata": {
    "collapsed": false
   }
  },
  {
   "cell_type": "code",
   "execution_count": 48,
   "outputs": [],
   "source": [
    "age_groups = candy[candy['Q3: AGE'].apply(lambda x: str(x).isnumeric())]['Q3: AGE']"
   ],
   "metadata": {
    "collapsed": false
   }
  },
  {
   "cell_type": "code",
   "execution_count": 49,
   "outputs": [
    {
     "data": {
      "text/plain": "1       40\n2       50\n3       40\n4       20\n6       50\n        ..\n2455    20\n2456    30\n2457    30\n2458    60\n2459    70\nName: Q3: AGE, Length: 2350, dtype: int64"
     },
     "execution_count": 49,
     "metadata": {},
     "output_type": "execute_result"
    }
   ],
   "source": [
    "age_groups.apply(lambda x: round(x, -1))"
   ],
   "metadata": {
    "collapsed": false
   }
  },
  {
   "cell_type": "code",
   "execution_count": null,
   "outputs": [],
   "source": [],
   "metadata": {
    "collapsed": false
   }
  }
 ],
 "metadata": {
  "kernelspec": {
   "display_name": "Python 3",
   "language": "python",
   "name": "python3"
  },
  "language_info": {
   "codemirror_mode": {
    "name": "ipython",
    "version": 2
   },
   "file_extension": ".py",
   "mimetype": "text/x-python",
   "name": "python",
   "nbconvert_exporter": "python",
   "pygments_lexer": "ipython2",
   "version": "2.7.6"
  }
 },
 "nbformat": 4,
 "nbformat_minor": 0
}
