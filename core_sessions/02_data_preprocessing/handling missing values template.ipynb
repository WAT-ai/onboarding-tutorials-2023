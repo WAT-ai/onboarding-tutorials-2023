{
 "cells": [
  {
   "cell_type": "code",
   "execution_count": 63,
   "metadata": {
    "collapsed": true
   },
   "outputs": [],
   "source": [
    "import pandas as pd\n",
    "import numpy as np\n",
    "import matplotlib.pyplot as plt\n",
    "import seaborn as sns"
   ]
  },
  {
   "cell_type": "markdown",
   "source": [
    "# Handling Missing Values\n",
    "\n",
    "Not all missing values are equal. Consider arbitrary survey data taken from the general population.\n",
    "\n",
    "**Missing Not At Random** - when a value is missing for a reason related to the true value. (Ex: if a survey responding chooses not to disclose their income, this could be because they have an abnormally high or low income)\n",
    "\n",
    "**Missing at Random** - when a value is missing for a reason related to another observed variable. (Ex: many age values are missing for survey respondents of a particular gender)\n",
    "\n",
    "**Missing Completely at Random** - when there's no patterns in the missing values."
   ],
   "metadata": {
    "collapsed": false
   }
  },
  {
   "cell_type": "code",
   "execution_count": 64,
   "outputs": [],
   "source": [
    "df = pd.read_csv(\"../data/eramissingvalues.csv\")"
   ],
   "metadata": {
    "collapsed": false
   }
  },
  {
   "cell_type": "markdown",
   "source": [
    "## Deletion\n",
    "\n",
    "- Column deletion: removing a column that has too many missing values and is non-essential for your model\n",
    "- Row deletion: removing rows with missing values, ideally if the missing values are Missing At Random, to avoid biasing your model"
   ],
   "metadata": {
    "collapsed": false
   }
  },
  {
   "cell_type": "code",
   "execution_count": 41,
   "outputs": [
    {
     "data": {
      "text/plain": "                     time  solar radiation\n0     2022-01-01 06:00:00            0.000\n2     2022-01-01 08:00:00       374614.120\n3     2022-01-01 09:00:00       834108.250\n4     2022-01-01 10:00:00      1202242.500\n5     2022-01-01 11:00:00      1403760.400\n...                   ...              ...\n3697  2022-08-08 17:00:00      1238234.800\n3698  2022-08-08 18:00:00       534686.500\n3699  2022-08-08 19:00:00        83661.125\n3701  2022-08-08 21:00:00            0.000\n3702  2022-08-08 22:00:00            0.000\n\n[3332 rows x 2 columns]",
      "text/html": "<div>\n<style scoped>\n    .dataframe tbody tr th:only-of-type {\n        vertical-align: middle;\n    }\n\n    .dataframe tbody tr th {\n        vertical-align: top;\n    }\n\n    .dataframe thead th {\n        text-align: right;\n    }\n</style>\n<table border=\"1\" class=\"dataframe\">\n  <thead>\n    <tr style=\"text-align: right;\">\n      <th></th>\n      <th>time</th>\n      <th>solar radiation</th>\n    </tr>\n  </thead>\n  <tbody>\n    <tr>\n      <th>0</th>\n      <td>2022-01-01 06:00:00</td>\n      <td>0.000</td>\n    </tr>\n    <tr>\n      <th>2</th>\n      <td>2022-01-01 08:00:00</td>\n      <td>374614.120</td>\n    </tr>\n    <tr>\n      <th>3</th>\n      <td>2022-01-01 09:00:00</td>\n      <td>834108.250</td>\n    </tr>\n    <tr>\n      <th>4</th>\n      <td>2022-01-01 10:00:00</td>\n      <td>1202242.500</td>\n    </tr>\n    <tr>\n      <th>5</th>\n      <td>2022-01-01 11:00:00</td>\n      <td>1403760.400</td>\n    </tr>\n    <tr>\n      <th>...</th>\n      <td>...</td>\n      <td>...</td>\n    </tr>\n    <tr>\n      <th>3697</th>\n      <td>2022-08-08 17:00:00</td>\n      <td>1238234.800</td>\n    </tr>\n    <tr>\n      <th>3698</th>\n      <td>2022-08-08 18:00:00</td>\n      <td>534686.500</td>\n    </tr>\n    <tr>\n      <th>3699</th>\n      <td>2022-08-08 19:00:00</td>\n      <td>83661.125</td>\n    </tr>\n    <tr>\n      <th>3701</th>\n      <td>2022-08-08 21:00:00</td>\n      <td>0.000</td>\n    </tr>\n    <tr>\n      <th>3702</th>\n      <td>2022-08-08 22:00:00</td>\n      <td>0.000</td>\n    </tr>\n  </tbody>\n</table>\n<p>3332 rows × 2 columns</p>\n</div>"
     },
     "execution_count": 41,
     "metadata": {},
     "output_type": "execute_result"
    }
   ],
   "source": [],
   "metadata": {
    "collapsed": false
   }
  },
  {
   "cell_type": "code",
   "execution_count": null,
   "outputs": [],
   "source": [],
   "metadata": {
    "collapsed": false
   }
  },
  {
   "cell_type": "code",
   "execution_count": 46,
   "outputs": [
    {
     "ename": "KeyError",
     "evalue": "\"['solar radiation'] not found in axis\"",
     "output_type": "error",
     "traceback": [
      "\u001B[0;31m---------------------------------------------------------------------------\u001B[0m",
      "\u001B[0;31mKeyError\u001B[0m                                  Traceback (most recent call last)",
      "Cell \u001B[0;32mIn[46], line 1\u001B[0m\n\u001B[0;32m----> 1\u001B[0m \u001B[43mdf\u001B[49m\u001B[38;5;241;43m.\u001B[39;49m\u001B[43mdrop\u001B[49m\u001B[43m(\u001B[49m\u001B[38;5;124;43m'\u001B[39;49m\u001B[38;5;124;43msolar radiation\u001B[39;49m\u001B[38;5;124;43m'\u001B[39;49m\u001B[43m)\u001B[49m\n\u001B[1;32m      2\u001B[0m \u001B[38;5;66;03m#df.drop('solar radiation', axis=1)\u001B[39;00m\n",
      "File \u001B[0;32m/usr/local/lib/python3.9/site-packages/pandas/core/frame.py:5268\u001B[0m, in \u001B[0;36mDataFrame.drop\u001B[0;34m(self, labels, axis, index, columns, level, inplace, errors)\u001B[0m\n\u001B[1;32m   5120\u001B[0m \u001B[38;5;28;01mdef\u001B[39;00m \u001B[38;5;21mdrop\u001B[39m(\n\u001B[1;32m   5121\u001B[0m     \u001B[38;5;28mself\u001B[39m,\n\u001B[1;32m   5122\u001B[0m     labels: IndexLabel \u001B[38;5;241m=\u001B[39m \u001B[38;5;28;01mNone\u001B[39;00m,\n\u001B[0;32m   (...)\u001B[0m\n\u001B[1;32m   5129\u001B[0m     errors: IgnoreRaise \u001B[38;5;241m=\u001B[39m \u001B[38;5;124m\"\u001B[39m\u001B[38;5;124mraise\u001B[39m\u001B[38;5;124m\"\u001B[39m,\n\u001B[1;32m   5130\u001B[0m ) \u001B[38;5;241m-\u001B[39m\u001B[38;5;241m>\u001B[39m DataFrame \u001B[38;5;241m|\u001B[39m \u001B[38;5;28;01mNone\u001B[39;00m:\n\u001B[1;32m   5131\u001B[0m     \u001B[38;5;124;03m\"\"\"\u001B[39;00m\n\u001B[1;32m   5132\u001B[0m \u001B[38;5;124;03m    Drop specified labels from rows or columns.\u001B[39;00m\n\u001B[1;32m   5133\u001B[0m \n\u001B[0;32m   (...)\u001B[0m\n\u001B[1;32m   5266\u001B[0m \u001B[38;5;124;03m            weight  1.0     0.8\u001B[39;00m\n\u001B[1;32m   5267\u001B[0m \u001B[38;5;124;03m    \"\"\"\u001B[39;00m\n\u001B[0;32m-> 5268\u001B[0m     \u001B[38;5;28;01mreturn\u001B[39;00m \u001B[38;5;28;43msuper\u001B[39;49m\u001B[43m(\u001B[49m\u001B[43m)\u001B[49m\u001B[38;5;241;43m.\u001B[39;49m\u001B[43mdrop\u001B[49m\u001B[43m(\u001B[49m\n\u001B[1;32m   5269\u001B[0m \u001B[43m        \u001B[49m\u001B[43mlabels\u001B[49m\u001B[38;5;241;43m=\u001B[39;49m\u001B[43mlabels\u001B[49m\u001B[43m,\u001B[49m\n\u001B[1;32m   5270\u001B[0m \u001B[43m        \u001B[49m\u001B[43maxis\u001B[49m\u001B[38;5;241;43m=\u001B[39;49m\u001B[43maxis\u001B[49m\u001B[43m,\u001B[49m\n\u001B[1;32m   5271\u001B[0m \u001B[43m        \u001B[49m\u001B[43mindex\u001B[49m\u001B[38;5;241;43m=\u001B[39;49m\u001B[43mindex\u001B[49m\u001B[43m,\u001B[49m\n\u001B[1;32m   5272\u001B[0m \u001B[43m        \u001B[49m\u001B[43mcolumns\u001B[49m\u001B[38;5;241;43m=\u001B[39;49m\u001B[43mcolumns\u001B[49m\u001B[43m,\u001B[49m\n\u001B[1;32m   5273\u001B[0m \u001B[43m        \u001B[49m\u001B[43mlevel\u001B[49m\u001B[38;5;241;43m=\u001B[39;49m\u001B[43mlevel\u001B[49m\u001B[43m,\u001B[49m\n\u001B[1;32m   5274\u001B[0m \u001B[43m        \u001B[49m\u001B[43minplace\u001B[49m\u001B[38;5;241;43m=\u001B[39;49m\u001B[43minplace\u001B[49m\u001B[43m,\u001B[49m\n\u001B[1;32m   5275\u001B[0m \u001B[43m        \u001B[49m\u001B[43merrors\u001B[49m\u001B[38;5;241;43m=\u001B[39;49m\u001B[43merrors\u001B[49m\u001B[43m,\u001B[49m\n\u001B[1;32m   5276\u001B[0m \u001B[43m    \u001B[49m\u001B[43m)\u001B[49m\n",
      "File \u001B[0;32m/usr/local/lib/python3.9/site-packages/pandas/core/generic.py:4549\u001B[0m, in \u001B[0;36mNDFrame.drop\u001B[0;34m(self, labels, axis, index, columns, level, inplace, errors)\u001B[0m\n\u001B[1;32m   4547\u001B[0m \u001B[38;5;28;01mfor\u001B[39;00m axis, labels \u001B[38;5;129;01min\u001B[39;00m axes\u001B[38;5;241m.\u001B[39mitems():\n\u001B[1;32m   4548\u001B[0m     \u001B[38;5;28;01mif\u001B[39;00m labels \u001B[38;5;129;01mis\u001B[39;00m \u001B[38;5;129;01mnot\u001B[39;00m \u001B[38;5;28;01mNone\u001B[39;00m:\n\u001B[0;32m-> 4549\u001B[0m         obj \u001B[38;5;241m=\u001B[39m \u001B[43mobj\u001B[49m\u001B[38;5;241;43m.\u001B[39;49m\u001B[43m_drop_axis\u001B[49m\u001B[43m(\u001B[49m\u001B[43mlabels\u001B[49m\u001B[43m,\u001B[49m\u001B[43m \u001B[49m\u001B[43maxis\u001B[49m\u001B[43m,\u001B[49m\u001B[43m \u001B[49m\u001B[43mlevel\u001B[49m\u001B[38;5;241;43m=\u001B[39;49m\u001B[43mlevel\u001B[49m\u001B[43m,\u001B[49m\u001B[43m \u001B[49m\u001B[43merrors\u001B[49m\u001B[38;5;241;43m=\u001B[39;49m\u001B[43merrors\u001B[49m\u001B[43m)\u001B[49m\n\u001B[1;32m   4551\u001B[0m \u001B[38;5;28;01mif\u001B[39;00m inplace:\n\u001B[1;32m   4552\u001B[0m     \u001B[38;5;28mself\u001B[39m\u001B[38;5;241m.\u001B[39m_update_inplace(obj)\n",
      "File \u001B[0;32m/usr/local/lib/python3.9/site-packages/pandas/core/generic.py:4591\u001B[0m, in \u001B[0;36mNDFrame._drop_axis\u001B[0;34m(self, labels, axis, level, errors, only_slice)\u001B[0m\n\u001B[1;32m   4589\u001B[0m         new_axis \u001B[38;5;241m=\u001B[39m axis\u001B[38;5;241m.\u001B[39mdrop(labels, level\u001B[38;5;241m=\u001B[39mlevel, errors\u001B[38;5;241m=\u001B[39merrors)\n\u001B[1;32m   4590\u001B[0m     \u001B[38;5;28;01melse\u001B[39;00m:\n\u001B[0;32m-> 4591\u001B[0m         new_axis \u001B[38;5;241m=\u001B[39m \u001B[43maxis\u001B[49m\u001B[38;5;241;43m.\u001B[39;49m\u001B[43mdrop\u001B[49m\u001B[43m(\u001B[49m\u001B[43mlabels\u001B[49m\u001B[43m,\u001B[49m\u001B[43m \u001B[49m\u001B[43merrors\u001B[49m\u001B[38;5;241;43m=\u001B[39;49m\u001B[43merrors\u001B[49m\u001B[43m)\u001B[49m\n\u001B[1;32m   4592\u001B[0m     indexer \u001B[38;5;241m=\u001B[39m axis\u001B[38;5;241m.\u001B[39mget_indexer(new_axis)\n\u001B[1;32m   4594\u001B[0m \u001B[38;5;66;03m# Case for non-unique axis\u001B[39;00m\n\u001B[1;32m   4595\u001B[0m \u001B[38;5;28;01melse\u001B[39;00m:\n",
      "File \u001B[0;32m/usr/local/lib/python3.9/site-packages/pandas/core/indexes/base.py:6696\u001B[0m, in \u001B[0;36mIndex.drop\u001B[0;34m(self, labels, errors)\u001B[0m\n\u001B[1;32m   6694\u001B[0m \u001B[38;5;28;01mif\u001B[39;00m mask\u001B[38;5;241m.\u001B[39many():\n\u001B[1;32m   6695\u001B[0m     \u001B[38;5;28;01mif\u001B[39;00m errors \u001B[38;5;241m!=\u001B[39m \u001B[38;5;124m\"\u001B[39m\u001B[38;5;124mignore\u001B[39m\u001B[38;5;124m\"\u001B[39m:\n\u001B[0;32m-> 6696\u001B[0m         \u001B[38;5;28;01mraise\u001B[39;00m \u001B[38;5;167;01mKeyError\u001B[39;00m(\u001B[38;5;124mf\u001B[39m\u001B[38;5;124m\"\u001B[39m\u001B[38;5;132;01m{\u001B[39;00m\u001B[38;5;28mlist\u001B[39m(labels[mask])\u001B[38;5;132;01m}\u001B[39;00m\u001B[38;5;124m not found in axis\u001B[39m\u001B[38;5;124m\"\u001B[39m)\n\u001B[1;32m   6697\u001B[0m     indexer \u001B[38;5;241m=\u001B[39m indexer[\u001B[38;5;241m~\u001B[39mmask]\n\u001B[1;32m   6698\u001B[0m \u001B[38;5;28;01mreturn\u001B[39;00m \u001B[38;5;28mself\u001B[39m\u001B[38;5;241m.\u001B[39mdelete(indexer)\n",
      "\u001B[0;31mKeyError\u001B[0m: \"['solar radiation'] not found in axis\""
     ]
    }
   ],
   "source": [],
   "metadata": {
    "collapsed": false
   }
  },
  {
   "cell_type": "markdown",
   "source": [
    "## Imputation\n",
    "\n",
    "- Fill missing values with their defaults (empty string, zero, etc...)\n",
    "- Fill missing values with the mean, median, or mode\n",
    "- Backward or forward fill\n",
    "- Imputation risks injecting your own bias and adding noise to the data, and should be performed with caution"
   ],
   "metadata": {
    "collapsed": false
   }
  },
  {
   "cell_type": "code",
   "execution_count": 50,
   "outputs": [
    {
     "data": {
      "text/plain": "                     time  solar radiation\n0     2022-01-01 06:00:00            0.000\n1     2022-01-01 07:00:00            0.000\n2     2022-01-01 08:00:00       374614.120\n3     2022-01-01 09:00:00       834108.250\n4     2022-01-01 10:00:00      1202242.500\n...                   ...              ...\n3698  2022-08-08 18:00:00       534686.500\n3699  2022-08-08 19:00:00        83661.125\n3700  2022-08-08 20:00:00            0.000\n3701  2022-08-08 21:00:00            0.000\n3702  2022-08-08 22:00:00            0.000\n\n[3703 rows x 2 columns]",
      "text/html": "<div>\n<style scoped>\n    .dataframe tbody tr th:only-of-type {\n        vertical-align: middle;\n    }\n\n    .dataframe tbody tr th {\n        vertical-align: top;\n    }\n\n    .dataframe thead th {\n        text-align: right;\n    }\n</style>\n<table border=\"1\" class=\"dataframe\">\n  <thead>\n    <tr style=\"text-align: right;\">\n      <th></th>\n      <th>time</th>\n      <th>solar radiation</th>\n    </tr>\n  </thead>\n  <tbody>\n    <tr>\n      <th>0</th>\n      <td>2022-01-01 06:00:00</td>\n      <td>0.000</td>\n    </tr>\n    <tr>\n      <th>1</th>\n      <td>2022-01-01 07:00:00</td>\n      <td>0.000</td>\n    </tr>\n    <tr>\n      <th>2</th>\n      <td>2022-01-01 08:00:00</td>\n      <td>374614.120</td>\n    </tr>\n    <tr>\n      <th>3</th>\n      <td>2022-01-01 09:00:00</td>\n      <td>834108.250</td>\n    </tr>\n    <tr>\n      <th>4</th>\n      <td>2022-01-01 10:00:00</td>\n      <td>1202242.500</td>\n    </tr>\n    <tr>\n      <th>...</th>\n      <td>...</td>\n      <td>...</td>\n    </tr>\n    <tr>\n      <th>3698</th>\n      <td>2022-08-08 18:00:00</td>\n      <td>534686.500</td>\n    </tr>\n    <tr>\n      <th>3699</th>\n      <td>2022-08-08 19:00:00</td>\n      <td>83661.125</td>\n    </tr>\n    <tr>\n      <th>3700</th>\n      <td>2022-08-08 20:00:00</td>\n      <td>0.000</td>\n    </tr>\n    <tr>\n      <th>3701</th>\n      <td>2022-08-08 21:00:00</td>\n      <td>0.000</td>\n    </tr>\n    <tr>\n      <th>3702</th>\n      <td>2022-08-08 22:00:00</td>\n      <td>0.000</td>\n    </tr>\n  </tbody>\n</table>\n<p>3703 rows × 2 columns</p>\n</div>"
     },
     "execution_count": 50,
     "metadata": {},
     "output_type": "execute_result"
    }
   ],
   "source": [],
   "metadata": {
    "collapsed": false
   }
  },
  {
   "cell_type": "code",
   "execution_count": 58,
   "outputs": [
    {
     "data": {
      "text/plain": "1135037.7999999998"
     },
     "execution_count": 58,
     "metadata": {},
     "output_type": "execute_result"
    }
   ],
   "source": [],
   "metadata": {
    "collapsed": false
   }
  },
  {
   "cell_type": "code",
   "execution_count": 49,
   "outputs": [
    {
     "data": {
      "text/plain": "                     time  solar radiation\n0     2022-01-01 06:00:00            0.000\n1     2022-01-01 07:00:00            0.000\n2     2022-01-01 08:00:00       374614.120\n3     2022-01-01 09:00:00       834108.250\n4     2022-01-01 10:00:00      1202242.500\n...                   ...              ...\n3698  2022-08-08 18:00:00       534686.500\n3699  2022-08-08 19:00:00        83661.125\n3700  2022-08-08 20:00:00        83661.125\n3701  2022-08-08 21:00:00            0.000\n3702  2022-08-08 22:00:00            0.000\n\n[3703 rows x 2 columns]",
      "text/html": "<div>\n<style scoped>\n    .dataframe tbody tr th:only-of-type {\n        vertical-align: middle;\n    }\n\n    .dataframe tbody tr th {\n        vertical-align: top;\n    }\n\n    .dataframe thead th {\n        text-align: right;\n    }\n</style>\n<table border=\"1\" class=\"dataframe\">\n  <thead>\n    <tr style=\"text-align: right;\">\n      <th></th>\n      <th>time</th>\n      <th>solar radiation</th>\n    </tr>\n  </thead>\n  <tbody>\n    <tr>\n      <th>0</th>\n      <td>2022-01-01 06:00:00</td>\n      <td>0.000</td>\n    </tr>\n    <tr>\n      <th>1</th>\n      <td>2022-01-01 07:00:00</td>\n      <td>0.000</td>\n    </tr>\n    <tr>\n      <th>2</th>\n      <td>2022-01-01 08:00:00</td>\n      <td>374614.120</td>\n    </tr>\n    <tr>\n      <th>3</th>\n      <td>2022-01-01 09:00:00</td>\n      <td>834108.250</td>\n    </tr>\n    <tr>\n      <th>4</th>\n      <td>2022-01-01 10:00:00</td>\n      <td>1202242.500</td>\n    </tr>\n    <tr>\n      <th>...</th>\n      <td>...</td>\n      <td>...</td>\n    </tr>\n    <tr>\n      <th>3698</th>\n      <td>2022-08-08 18:00:00</td>\n      <td>534686.500</td>\n    </tr>\n    <tr>\n      <th>3699</th>\n      <td>2022-08-08 19:00:00</td>\n      <td>83661.125</td>\n    </tr>\n    <tr>\n      <th>3700</th>\n      <td>2022-08-08 20:00:00</td>\n      <td>83661.125</td>\n    </tr>\n    <tr>\n      <th>3701</th>\n      <td>2022-08-08 21:00:00</td>\n      <td>0.000</td>\n    </tr>\n    <tr>\n      <th>3702</th>\n      <td>2022-08-08 22:00:00</td>\n      <td>0.000</td>\n    </tr>\n  </tbody>\n</table>\n<p>3703 rows × 2 columns</p>\n</div>"
     },
     "execution_count": 49,
     "metadata": {},
     "output_type": "execute_result"
    }
   ],
   "source": [],
   "metadata": {
    "collapsed": false
   }
  },
  {
   "cell_type": "code",
   "execution_count": 47,
   "outputs": [
    {
     "data": {
      "text/plain": "                     time  solar radiation\n0     2022-01-01 06:00:00            0.000\n1     2022-01-01 07:00:00       374614.120\n2     2022-01-01 08:00:00       374614.120\n3     2022-01-01 09:00:00       834108.250\n4     2022-01-01 10:00:00      1202242.500\n...                   ...              ...\n3698  2022-08-08 18:00:00       534686.500\n3699  2022-08-08 19:00:00        83661.125\n3700  2022-08-08 20:00:00            0.000\n3701  2022-08-08 21:00:00            0.000\n3702  2022-08-08 22:00:00            0.000\n\n[3703 rows x 2 columns]",
      "text/html": "<div>\n<style scoped>\n    .dataframe tbody tr th:only-of-type {\n        vertical-align: middle;\n    }\n\n    .dataframe tbody tr th {\n        vertical-align: top;\n    }\n\n    .dataframe thead th {\n        text-align: right;\n    }\n</style>\n<table border=\"1\" class=\"dataframe\">\n  <thead>\n    <tr style=\"text-align: right;\">\n      <th></th>\n      <th>time</th>\n      <th>solar radiation</th>\n    </tr>\n  </thead>\n  <tbody>\n    <tr>\n      <th>0</th>\n      <td>2022-01-01 06:00:00</td>\n      <td>0.000</td>\n    </tr>\n    <tr>\n      <th>1</th>\n      <td>2022-01-01 07:00:00</td>\n      <td>374614.120</td>\n    </tr>\n    <tr>\n      <th>2</th>\n      <td>2022-01-01 08:00:00</td>\n      <td>374614.120</td>\n    </tr>\n    <tr>\n      <th>3</th>\n      <td>2022-01-01 09:00:00</td>\n      <td>834108.250</td>\n    </tr>\n    <tr>\n      <th>4</th>\n      <td>2022-01-01 10:00:00</td>\n      <td>1202242.500</td>\n    </tr>\n    <tr>\n      <th>...</th>\n      <td>...</td>\n      <td>...</td>\n    </tr>\n    <tr>\n      <th>3698</th>\n      <td>2022-08-08 18:00:00</td>\n      <td>534686.500</td>\n    </tr>\n    <tr>\n      <th>3699</th>\n      <td>2022-08-08 19:00:00</td>\n      <td>83661.125</td>\n    </tr>\n    <tr>\n      <th>3700</th>\n      <td>2022-08-08 20:00:00</td>\n      <td>0.000</td>\n    </tr>\n    <tr>\n      <th>3701</th>\n      <td>2022-08-08 21:00:00</td>\n      <td>0.000</td>\n    </tr>\n    <tr>\n      <th>3702</th>\n      <td>2022-08-08 22:00:00</td>\n      <td>0.000</td>\n    </tr>\n  </tbody>\n</table>\n<p>3703 rows × 2 columns</p>\n</div>"
     },
     "execution_count": 47,
     "metadata": {},
     "output_type": "execute_result"
    }
   ],
   "source": [],
   "metadata": {
    "collapsed": false
   }
  },
  {
   "cell_type": "code",
   "execution_count": 52,
   "outputs": [
    {
     "data": {
      "text/plain": "                     time  solar radiation\n0     2022-01-01 06:00:00     0.000000e+00\n1     2022-01-01 07:00:00     1.873071e+05\n2     2022-01-01 08:00:00     3.746141e+05\n3     2022-01-01 09:00:00     8.341082e+05\n4     2022-01-01 10:00:00     1.202242e+06\n...                   ...              ...\n3698  2022-08-08 18:00:00     5.346865e+05\n3699  2022-08-08 19:00:00     8.366112e+04\n3700  2022-08-08 20:00:00     4.183056e+04\n3701  2022-08-08 21:00:00     0.000000e+00\n3702  2022-08-08 22:00:00     0.000000e+00\n\n[3703 rows x 2 columns]",
      "text/html": "<div>\n<style scoped>\n    .dataframe tbody tr th:only-of-type {\n        vertical-align: middle;\n    }\n\n    .dataframe tbody tr th {\n        vertical-align: top;\n    }\n\n    .dataframe thead th {\n        text-align: right;\n    }\n</style>\n<table border=\"1\" class=\"dataframe\">\n  <thead>\n    <tr style=\"text-align: right;\">\n      <th></th>\n      <th>time</th>\n      <th>solar radiation</th>\n    </tr>\n  </thead>\n  <tbody>\n    <tr>\n      <th>0</th>\n      <td>2022-01-01 06:00:00</td>\n      <td>0.000000e+00</td>\n    </tr>\n    <tr>\n      <th>1</th>\n      <td>2022-01-01 07:00:00</td>\n      <td>1.873071e+05</td>\n    </tr>\n    <tr>\n      <th>2</th>\n      <td>2022-01-01 08:00:00</td>\n      <td>3.746141e+05</td>\n    </tr>\n    <tr>\n      <th>3</th>\n      <td>2022-01-01 09:00:00</td>\n      <td>8.341082e+05</td>\n    </tr>\n    <tr>\n      <th>4</th>\n      <td>2022-01-01 10:00:00</td>\n      <td>1.202242e+06</td>\n    </tr>\n    <tr>\n      <th>...</th>\n      <td>...</td>\n      <td>...</td>\n    </tr>\n    <tr>\n      <th>3698</th>\n      <td>2022-08-08 18:00:00</td>\n      <td>5.346865e+05</td>\n    </tr>\n    <tr>\n      <th>3699</th>\n      <td>2022-08-08 19:00:00</td>\n      <td>8.366112e+04</td>\n    </tr>\n    <tr>\n      <th>3700</th>\n      <td>2022-08-08 20:00:00</td>\n      <td>4.183056e+04</td>\n    </tr>\n    <tr>\n      <th>3701</th>\n      <td>2022-08-08 21:00:00</td>\n      <td>0.000000e+00</td>\n    </tr>\n    <tr>\n      <th>3702</th>\n      <td>2022-08-08 22:00:00</td>\n      <td>0.000000e+00</td>\n    </tr>\n  </tbody>\n</table>\n<p>3703 rows × 2 columns</p>\n</div>"
     },
     "execution_count": 52,
     "metadata": {},
     "output_type": "execute_result"
    }
   ],
   "source": [],
   "metadata": {
    "collapsed": false
   }
  }
 ],
 "metadata": {
  "kernelspec": {
   "display_name": "Python 3",
   "language": "python",
   "name": "python3"
  },
  "language_info": {
   "codemirror_mode": {
    "name": "ipython",
    "version": 2
   },
   "file_extension": ".py",
   "mimetype": "text/x-python",
   "name": "python",
   "nbconvert_exporter": "python",
   "pygments_lexer": "ipython2",
   "version": "2.7.6"
  }
 },
 "nbformat": 4,
 "nbformat_minor": 0
}
