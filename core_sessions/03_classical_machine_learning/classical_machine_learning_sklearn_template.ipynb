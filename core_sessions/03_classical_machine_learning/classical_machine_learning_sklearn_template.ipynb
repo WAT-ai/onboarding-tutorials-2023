{
 "cells": [
  {
   "cell_type": "code",
   "execution_count": 1,
   "metadata": {},
   "outputs": [],
   "source": [
    "# For Colab\n",
    "# !git clone https://github.com/WAT-ai/onboarding-tutorials-2023\n",
    "# DATA_PATH = \"onboarding-tutorials-2023/data/cml_training_data.csv\""
   ]
  },
  {
   "cell_type": "code",
   "execution_count": 2,
   "metadata": {},
   "outputs": [],
   "source": [
    "import numpy as np\n",
    "import pandas as pd\n",
    "import matplotlib.pyplot as plt\n",
    "from sklearn.model_selection import train_test_split\n",
    "from sklearn.linear_model import LogisticRegression"
   ]
  },
  {
   "cell_type": "code",
   "execution_count": 3,
   "metadata": {},
   "outputs": [
    {
     "data": {
      "text/html": [
       "<div>\n",
       "<style scoped>\n",
       "    .dataframe tbody tr th:only-of-type {\n",
       "        vertical-align: middle;\n",
       "    }\n",
       "\n",
       "    .dataframe tbody tr th {\n",
       "        vertical-align: top;\n",
       "    }\n",
       "\n",
       "    .dataframe thead th {\n",
       "        text-align: right;\n",
       "    }\n",
       "</style>\n",
       "<table border=\"1\" class=\"dataframe\">\n",
       "  <thead>\n",
       "    <tr style=\"text-align: right;\">\n",
       "      <th></th>\n",
       "      <th>area</th>\n",
       "      <th>aspectratio</th>\n",
       "      <th>compactness</th>\n",
       "      <th>convexarea</th>\n",
       "      <th>eccentricity</th>\n",
       "      <th>equivalentdiameter</th>\n",
       "      <th>extent</th>\n",
       "      <th>majoraxislength</th>\n",
       "      <th>minoraxislength</th>\n",
       "      <th>perimeter</th>\n",
       "      <th>roundness</th>\n",
       "      <th>solidity</th>\n",
       "      <th>labels</th>\n",
       "    </tr>\n",
       "  </thead>\n",
       "  <tbody>\n",
       "    <tr>\n",
       "      <th>0</th>\n",
       "      <td>-0.413602</td>\n",
       "      <td>0.407340</td>\n",
       "      <td>-0.496875</td>\n",
       "      <td>-0.423893</td>\n",
       "      <td>0.592087</td>\n",
       "      <td>-0.445472</td>\n",
       "      <td>1.441206</td>\n",
       "      <td>-0.359605</td>\n",
       "      <td>-0.515206</td>\n",
       "      <td>-0.514752</td>\n",
       "      <td>0.190631</td>\n",
       "      <td>0.381846</td>\n",
       "      <td>1</td>\n",
       "    </tr>\n",
       "    <tr>\n",
       "      <th>1</th>\n",
       "      <td>-0.780056</td>\n",
       "      <td>-0.528265</td>\n",
       "      <td>0.469775</td>\n",
       "      <td>-0.787251</td>\n",
       "      <td>-0.226033</td>\n",
       "      <td>-1.174107</td>\n",
       "      <td>1.481036</td>\n",
       "      <td>-1.279170</td>\n",
       "      <td>-1.021155</td>\n",
       "      <td>-1.215719</td>\n",
       "      <td>0.658006</td>\n",
       "      <td>0.269418</td>\n",
       "      <td>1</td>\n",
       "    </tr>\n",
       "    <tr>\n",
       "      <th>2</th>\n",
       "      <td>-0.765875</td>\n",
       "      <td>-0.496877</td>\n",
       "      <td>0.434174</td>\n",
       "      <td>-0.773788</td>\n",
       "      <td>-0.188978</td>\n",
       "      <td>-1.140057</td>\n",
       "      <td>-0.078273</td>\n",
       "      <td>-1.241258</td>\n",
       "      <td>-0.994015</td>\n",
       "      <td>-1.182483</td>\n",
       "      <td>0.621472</td>\n",
       "      <td>0.340195</td>\n",
       "      <td>1</td>\n",
       "    </tr>\n",
       "    <tr>\n",
       "      <th>3</th>\n",
       "      <td>-0.042762</td>\n",
       "      <td>2.196742</td>\n",
       "      <td>-1.755059</td>\n",
       "      <td>-0.053633</td>\n",
       "      <td>1.326487</td>\n",
       "      <td>0.113684</td>\n",
       "      <td>0.408116</td>\n",
       "      <td>0.674312</td>\n",
       "      <td>-0.357770</td>\n",
       "      <td>0.153920</td>\n",
       "      <td>-0.468112</td>\n",
       "      <td>0.330855</td>\n",
       "      <td>3</td>\n",
       "    </tr>\n",
       "    <tr>\n",
       "      <th>4</th>\n",
       "      <td>0.077148</td>\n",
       "      <td>0.115682</td>\n",
       "      <td>-0.198968</td>\n",
       "      <td>0.067059</td>\n",
       "      <td>0.388762</td>\n",
       "      <td>0.273004</td>\n",
       "      <td>0.584484</td>\n",
       "      <td>0.301135</td>\n",
       "      <td>0.175627</td>\n",
       "      <td>0.155507</td>\n",
       "      <td>0.044780</td>\n",
       "      <td>0.289895</td>\n",
       "      <td>2</td>\n",
       "    </tr>\n",
       "    <tr>\n",
       "      <th>...</th>\n",
       "      <td>...</td>\n",
       "      <td>...</td>\n",
       "      <td>...</td>\n",
       "      <td>...</td>\n",
       "      <td>...</td>\n",
       "      <td>...</td>\n",
       "      <td>...</td>\n",
       "      <td>...</td>\n",
       "      <td>...</td>\n",
       "      <td>...</td>\n",
       "      <td>...</td>\n",
       "      <td>...</td>\n",
       "      <td>...</td>\n",
       "    </tr>\n",
       "    <tr>\n",
       "      <th>7995</th>\n",
       "      <td>-0.286236</td>\n",
       "      <td>-0.371752</td>\n",
       "      <td>0.297676</td>\n",
       "      <td>-0.299292</td>\n",
       "      <td>-0.049694</td>\n",
       "      <td>-0.239785</td>\n",
       "      <td>1.203641</td>\n",
       "      <td>-0.344232</td>\n",
       "      <td>-0.171357</td>\n",
       "      <td>-0.393128</td>\n",
       "      <td>0.479013</td>\n",
       "      <td>0.472998</td>\n",
       "      <td>1</td>\n",
       "    </tr>\n",
       "    <tr>\n",
       "      <th>7996</th>\n",
       "      <td>-0.632435</td>\n",
       "      <td>-1.406202</td>\n",
       "      <td>1.644023</td>\n",
       "      <td>-0.642051</td>\n",
       "      <td>-1.805486</td>\n",
       "      <td>-0.848104</td>\n",
       "      <td>1.073735</td>\n",
       "      <td>-1.150817</td>\n",
       "      <td>-0.509585</td>\n",
       "      <td>-0.982676</td>\n",
       "      <td>0.959739</td>\n",
       "      <td>0.423822</td>\n",
       "      <td>1</td>\n",
       "    </tr>\n",
       "    <tr>\n",
       "      <th>7997</th>\n",
       "      <td>-0.727092</td>\n",
       "      <td>-0.796529</td>\n",
       "      <td>0.786327</td>\n",
       "      <td>-0.734211</td>\n",
       "      <td>-0.583399</td>\n",
       "      <td>-1.050261</td>\n",
       "      <td>0.493975</td>\n",
       "      <td>-1.208442</td>\n",
       "      <td>-0.852797</td>\n",
       "      <td>-1.110853</td>\n",
       "      <td>0.654835</td>\n",
       "      <td>0.249647</td>\n",
       "      <td>1</td>\n",
       "    </tr>\n",
       "    <tr>\n",
       "      <th>7998</th>\n",
       "      <td>-0.326800</td>\n",
       "      <td>-0.350056</td>\n",
       "      <td>0.273167</td>\n",
       "      <td>-0.328021</td>\n",
       "      <td>-0.026830</td>\n",
       "      <td>-0.303475</td>\n",
       "      <td>-0.641270</td>\n",
       "      <td>-0.400626</td>\n",
       "      <td>-0.236026</td>\n",
       "      <td>-0.198054</td>\n",
       "      <td>-0.621646</td>\n",
       "      <td>-0.058224</td>\n",
       "      <td>1</td>\n",
       "    </tr>\n",
       "    <tr>\n",
       "      <th>7999</th>\n",
       "      <td>-0.617616</td>\n",
       "      <td>-1.614147</td>\n",
       "      <td>1.986640</td>\n",
       "      <td>-0.628406</td>\n",
       "      <td>-2.448226</td>\n",
       "      <td>-0.818293</td>\n",
       "      <td>1.136662</td>\n",
       "      <td>-1.172888</td>\n",
       "      <td>-0.420268</td>\n",
       "      <td>-0.982247</td>\n",
       "      <td>1.141111</td>\n",
       "      <td>0.503104</td>\n",
       "      <td>1</td>\n",
       "    </tr>\n",
       "  </tbody>\n",
       "</table>\n",
       "<p>8000 rows × 13 columns</p>\n",
       "</div>"
      ],
      "text/plain": [
       "          area  aspectratio  compactness  convexarea  eccentricity  \\\n",
       "0    -0.413602     0.407340    -0.496875   -0.423893      0.592087   \n",
       "1    -0.780056    -0.528265     0.469775   -0.787251     -0.226033   \n",
       "2    -0.765875    -0.496877     0.434174   -0.773788     -0.188978   \n",
       "3    -0.042762     2.196742    -1.755059   -0.053633      1.326487   \n",
       "4     0.077148     0.115682    -0.198968    0.067059      0.388762   \n",
       "...        ...          ...          ...         ...           ...   \n",
       "7995 -0.286236    -0.371752     0.297676   -0.299292     -0.049694   \n",
       "7996 -0.632435    -1.406202     1.644023   -0.642051     -1.805486   \n",
       "7997 -0.727092    -0.796529     0.786327   -0.734211     -0.583399   \n",
       "7998 -0.326800    -0.350056     0.273167   -0.328021     -0.026830   \n",
       "7999 -0.617616    -1.614147     1.986640   -0.628406     -2.448226   \n",
       "\n",
       "      equivalentdiameter    extent  majoraxislength  minoraxislength  \\\n",
       "0              -0.445472  1.441206        -0.359605        -0.515206   \n",
       "1              -1.174107  1.481036        -1.279170        -1.021155   \n",
       "2              -1.140057 -0.078273        -1.241258        -0.994015   \n",
       "3               0.113684  0.408116         0.674312        -0.357770   \n",
       "4               0.273004  0.584484         0.301135         0.175627   \n",
       "...                  ...       ...              ...              ...   \n",
       "7995           -0.239785  1.203641        -0.344232        -0.171357   \n",
       "7996           -0.848104  1.073735        -1.150817        -0.509585   \n",
       "7997           -1.050261  0.493975        -1.208442        -0.852797   \n",
       "7998           -0.303475 -0.641270        -0.400626        -0.236026   \n",
       "7999           -0.818293  1.136662        -1.172888        -0.420268   \n",
       "\n",
       "      perimeter  roundness  solidity  labels  \n",
       "0     -0.514752   0.190631  0.381846       1  \n",
       "1     -1.215719   0.658006  0.269418       1  \n",
       "2     -1.182483   0.621472  0.340195       1  \n",
       "3      0.153920  -0.468112  0.330855       3  \n",
       "4      0.155507   0.044780  0.289895       2  \n",
       "...         ...        ...       ...     ...  \n",
       "7995  -0.393128   0.479013  0.472998       1  \n",
       "7996  -0.982676   0.959739  0.423822       1  \n",
       "7997  -1.110853   0.654835  0.249647       1  \n",
       "7998  -0.198054  -0.621646 -0.058224       1  \n",
       "7999  -0.982247   1.141111  0.503104       1  \n",
       "\n",
       "[8000 rows x 13 columns]"
      ]
     },
     "execution_count": 3,
     "metadata": {},
     "output_type": "execute_result"
    }
   ],
   "source": [
    "# Load the data\n",
    "df = pd.read_csv(\"../data/cml_training_data.csv\")\n",
    "df"
   ]
  },
  {
   "cell_type": "code",
   "execution_count": 12,
   "metadata": {},
   "outputs": [],
   "source": [
    "# Select a subset to train on\n",
    "mask = (df[\"labels\"] == 2) | (df[\"labels\"] == 3)\n",
    "X = df.loc[mask].drop(\"labels\", axis=1).values\n",
    "y = df.loc[mask, \"labels\"].values"
   ]
  },
  {
   "cell_type": "code",
   "execution_count": 13,
   "metadata": {},
   "outputs": [],
   "source": [
    "# We use train test split to make a training dataset and validation dataset\n"
   ]
  },
  {
   "cell_type": "markdown",
   "metadata": {},
   "source": [
    "# Logistic Regression with Scikit-Learn"
   ]
  },
  {
   "cell_type": "code",
   "execution_count": 28,
   "metadata": {},
   "outputs": [
    {
     "data": {
      "image/png": "[encoded data removed]",
      "text/plain": [
       "<Figure size 640x480 with 1 Axes>"
      ]
     },
     "metadata": {},
     "output_type": "display_data"
    }
   ],
   "source": [
    "# Do some feature visualization\n",
    "from sklearn.decomposition import PCA\n",
    "\n",
    "pca = PCA(n_components=2, whiten=True)\n",
    "projection = pca.fit_transform(X_train)\n",
    "\n",
    "map = {2: \"blue\", 3: \"red\"}\n",
    "colors = [map[y] for y in y_train]\n",
    "\n",
    "plt.scatter(projection[:, 0], projection[:, 1], color=colors, s=2)\n",
    "plt.xlabel(\"PCA component 1\")\n",
    "plt.ylabel(\"PCA component 2\")\n",
    "plt.show()"
   ]
  },
  {
   "cell_type": "markdown",
   "metadata": {},
   "source": [
    "# Setup a logistic regression model and train it on the data\n",
    "\n",
    "[Scikit-learn Logistic Regression](https://scikit-learn.org/stable/modules/generated/sklearn.linear_model.LogisticRegression.html)"
   ]
  },
  {
   "cell_type": "code",
   "execution_count": 29,
   "metadata": {},
   "outputs": [],
   "source": [
    "from sklearn.linear_model import LogisticRegression\n",
    "# Instantiate model\n"
   ]
  },
  {
   "cell_type": "code",
   "execution_count": 30,
   "metadata": {},
   "outputs": [
    {
     "data": {
      "text/html": [
       "<style>#sk-container-id-1 {color: black;}#sk-container-id-1 pre{padding: 0;}#sk-container-id-1 div.sk-toggleable {background-color: white;}#sk-container-id-1 label.sk-toggleable__label {cursor: pointer;display: block;width: 100%;margin-bottom: 0;padding: 0.3em;box-sizing: border-box;text-align: center;}#sk-container-id-1 label.sk-toggleable__label-arrow:before {content: \"▸\";float: left;margin-right: 0.25em;color: #696969;}#sk-container-id-1 label.sk-toggleable__label-arrow:hover:before {color: black;}#sk-container-id-1 div.sk-estimator:hover label.sk-toggleable__label-arrow:before {color: black;}#sk-container-id-1 div.sk-toggleable__content {max-height: 0;max-width: 0;overflow: hidden;text-align: left;background-color: #f0f8ff;}#sk-container-id-1 div.sk-toggleable__content pre {margin: 0.2em;color: black;border-radius: 0.25em;background-color: #f0f8ff;}#sk-container-id-1 input.sk-toggleable__control:checked~div.sk-toggleable__content {max-height: 200px;max-width: 100%;overflow: auto;}#sk-container-id-1 input.sk-toggleable__control:checked~label.sk-toggleable__label-arrow:before {content: \"▾\";}#sk-container-id-1 div.sk-estimator input.sk-toggleable__control:checked~label.sk-toggleable__label {background-color: #d4ebff;}#sk-container-id-1 div.sk-label input.sk-toggleable__control:checked~label.sk-toggleable__label {background-color: #d4ebff;}#sk-container-id-1 input.sk-hidden--visually {border: 0;clip: rect(1px 1px 1px 1px);clip: rect(1px, 1px, 1px, 1px);height: 1px;margin: -1px;overflow: hidden;padding: 0;position: absolute;width: 1px;}#sk-container-id-1 div.sk-estimator {font-family: monospace;background-color: #f0f8ff;border: 1px dotted black;border-radius: 0.25em;box-sizing: border-box;margin-bottom: 0.5em;}#sk-container-id-1 div.sk-estimator:hover {background-color: #d4ebff;}#sk-container-id-1 div.sk-parallel-item::after {content: \"\";width: 100%;border-bottom: 1px solid gray;flex-grow: 1;}#sk-container-id-1 div.sk-label:hover label.sk-toggleable__label {background-color: #d4ebff;}#sk-container-id-1 div.sk-serial::before {content: \"\";position: absolute;border-left: 1px solid gray;box-sizing: border-box;top: 0;bottom: 0;left: 50%;z-index: 0;}#sk-container-id-1 div.sk-serial {display: flex;flex-direction: column;align-items: center;background-color: white;padding-right: 0.2em;padding-left: 0.2em;position: relative;}#sk-container-id-1 div.sk-item {position: relative;z-index: 1;}#sk-container-id-1 div.sk-parallel {display: flex;align-items: stretch;justify-content: center;background-color: white;position: relative;}#sk-container-id-1 div.sk-item::before, #sk-container-id-1 div.sk-parallel-item::before {content: \"\";position: absolute;border-left: 1px solid gray;box-sizing: border-box;top: 0;bottom: 0;left: 50%;z-index: -1;}#sk-container-id-1 div.sk-parallel-item {display: flex;flex-direction: column;z-index: 1;position: relative;background-color: white;}#sk-container-id-1 div.sk-parallel-item:first-child::after {align-self: flex-end;width: 50%;}#sk-container-id-1 div.sk-parallel-item:last-child::after {align-self: flex-start;width: 50%;}#sk-container-id-1 div.sk-parallel-item:only-child::after {width: 0;}#sk-container-id-1 div.sk-dashed-wrapped {border: 1px dashed gray;margin: 0 0.4em 0.5em 0.4em;box-sizing: border-box;padding-bottom: 0.4em;background-color: white;}#sk-container-id-1 div.sk-label label {font-family: monospace;font-weight: bold;display: inline-block;line-height: 1.2em;}#sk-container-id-1 div.sk-label-container {text-align: center;}#sk-container-id-1 div.sk-container {/* jupyter's `normalize.less` sets `[hidden] { display: none; }` but bootstrap.min.css set `[hidden] { display: none !important; }` so we also need the `!important` here to be able to override the default hidden behavior on the sphinx rendered scikit-learn.org. See: https://github.com/scikit-learn/scikit-learn/issues/21755 */display: inline-block !important;position: relative;}#sk-container-id-1 div.sk-text-repr-fallback {display: none;}</style><div id=\"sk-container-id-1\" class=\"sk-top-container\"><div class=\"sk-text-repr-fallback\"><pre>LogisticRegression()</pre><b>In a Jupyter environment, please rerun this cell to show the HTML representation or trust the notebook. <br />On GitHub, the HTML representation is unable to render, please try loading this page with nbviewer.org.</b></div><div class=\"sk-container\" hidden><div class=\"sk-item\"><div class=\"sk-estimator sk-toggleable\"><input class=\"sk-toggleable__control sk-hidden--visually\" id=\"sk-estimator-id-1\" type=\"checkbox\" checked><label for=\"sk-estimator-id-1\" class=\"sk-toggleable__label sk-toggleable__label-arrow\">LogisticRegression</label><div class=\"sk-toggleable__content\"><pre>LogisticRegression()</pre></div></div></div></div></div>"
      ],
      "text/plain": [
       "LogisticRegression()"
      ]
     },
     "execution_count": 30,
     "metadata": {},
     "output_type": "execute_result"
    }
   ],
   "source": [
    "# Fit model on training data\n"
   ]
  },
  {
   "cell_type": "code",
   "execution_count": 31,
   "metadata": {},
   "outputs": [
    {
     "name": "stdout",
     "output_type": "stream",
     "text": [
      "Training accuracy: 93.60%\n",
      "Validation accuracy: 94.64%\n"
     ]
    }
   ],
   "source": [
    "# Score model on the training and validation sets\n",
    "train_acc = None\n",
    "val_cc = None\n",
    "\n",
    "print(f\"Training accuracy: {train_acc*100:.2f}%\")\n",
    "print(f\"Validation accuracy: {val_acc*100:.2f}%\")"
   ]
  },
  {
   "cell_type": "code",
   "execution_count": 39,
   "metadata": {},
   "outputs": [
    {
     "data": {
      "text/plain": [
       "array([3, 2, 2, 2, 3, 2, 3, 3, 3, 2, 3, 3, 2, 2, 2, 2, 2, 2, 2, 2, 2, 3,\n",
       "       3, 3, 3, 3, 3, 2, 3, 2, 3, 3, 2, 3, 2, 2, 3, 2, 2, 3, 3, 3, 2, 2,\n",
       "       2, 2, 2, 2, 2, 2, 3, 3, 3, 3, 2, 3, 2, 3, 3, 3, 3, 3, 3, 2, 2, 3,\n",
       "       3, 2, 2, 2, 3, 2, 2, 2, 2, 2, 2, 3, 3, 3, 2, 2, 3, 2, 3, 3, 2, 2,\n",
       "       2, 2, 2, 3, 2, 3, 2, 2, 3, 2, 2, 3, 3, 2, 2, 2, 3, 3, 3, 2, 2, 2,\n",
       "       3, 3, 3, 3, 2, 2, 3, 3, 3, 3, 2, 2, 2, 3, 3, 3, 2, 3, 2, 3, 2, 3,\n",
       "       2, 3, 2, 3, 3, 2, 2, 3, 2, 3, 3, 2, 2, 2, 2, 2, 3, 2, 3, 3, 2, 3,\n",
       "       2, 2, 2, 2, 3, 3, 2, 3, 2, 2, 2, 2, 2, 2, 2, 3, 2, 2, 3, 2, 2, 2,\n",
       "       3, 3, 2, 2, 2, 2, 2, 3, 2, 2, 3, 2, 2, 3, 3, 2, 3, 2, 2, 3, 3, 3,\n",
       "       3, 3, 3, 2, 3, 2, 2, 3, 2, 3, 3, 3, 3, 3, 2, 2, 2, 2, 3, 3, 3, 2,\n",
       "       2, 3, 2, 3, 2, 2, 2, 2, 3, 2, 3, 3, 2, 3, 3, 2, 3, 2, 3, 2, 3, 2,\n",
       "       3, 2, 3, 2, 2, 2, 3, 3, 2, 3, 3, 2, 2, 3, 2, 2, 3, 3, 3, 3, 2, 3,\n",
       "       2, 3, 2, 2, 3, 3, 2, 2, 3, 2, 3, 2, 3, 3, 3, 3, 3, 3, 3, 2, 2, 3,\n",
       "       3, 2, 3, 3, 2, 3, 3, 3, 3, 3, 3, 2, 3, 3, 3, 2, 3, 3, 3, 3, 2, 3,\n",
       "       3, 2, 3, 3, 2, 3, 3, 2, 2, 3, 2, 3, 2, 2, 3, 3, 2, 3, 2, 3, 3, 3,\n",
       "       2, 2, 2, 3, 2, 2, 3, 3, 3, 2, 3, 2, 3, 3, 2, 2, 2, 2, 3, 3, 2, 3,\n",
       "       3, 2, 3, 2, 3, 3, 2, 3, 3, 3, 3, 3, 3, 2, 3, 3, 3, 3, 3, 3, 2, 2,\n",
       "       2, 2, 3, 2, 2, 3, 2, 3, 2, 3, 2, 3, 2, 2, 2, 3, 3, 3, 2, 3, 3, 2,\n",
       "       3, 3, 2, 3, 3, 3, 3, 3, 3, 3, 2, 2, 2, 3, 2, 3, 2, 3, 2, 2, 2, 3,\n",
       "       2, 3, 2, 2, 2, 2, 3, 3, 3, 3, 2, 3, 3, 3, 2, 3, 2, 3, 2, 3, 3, 3,\n",
       "       3, 3, 3, 3, 3, 2, 2, 3, 3, 3, 2, 2, 2, 3, 3, 3, 2, 2, 3, 2, 3, 3,\n",
       "       3, 2, 2, 3, 3, 2, 2, 3, 3, 2, 3, 3, 3, 3, 2, 2, 3, 3, 3, 2, 2, 2,\n",
       "       3, 3, 2, 3, 3, 2, 3, 3, 2, 2, 3, 2, 3, 2, 3, 3, 3, 3, 3, 3, 2, 2,\n",
       "       2, 3, 3, 2, 3, 2, 2, 3, 2, 2, 2, 2, 3, 3, 3, 2, 2, 3, 2, 3, 2, 3,\n",
       "       2, 2, 3, 3, 3, 2, 2, 3, 2, 3, 2, 2, 2, 2, 3, 3, 3, 3, 3, 3, 2, 3,\n",
       "       2, 3, 3, 3, 3, 2, 3, 2, 3, 3, 2, 3, 2, 3, 3, 2, 3, 2, 2, 3, 3, 2,\n",
       "       3, 2, 2, 2, 3, 2, 2, 3, 3, 3, 3, 3, 2, 3, 3, 2, 2, 2, 3, 3, 3, 2,\n",
       "       3, 2, 3, 2, 2, 3, 2, 2, 2, 2, 3, 3, 2, 3, 2, 3, 3, 3, 3, 3, 3, 2,\n",
       "       2, 2, 2, 3, 3, 3, 3, 3, 3, 2, 3, 2, 3, 2, 3, 3, 3, 2, 3, 3, 3, 2,\n",
       "       3, 3, 2, 2, 2, 2, 2, 2, 2, 2, 2, 3, 2, 3, 3, 3, 3, 3, 3, 3, 2, 3,\n",
       "       3, 3, 3, 3, 2, 2, 2, 2, 3, 2, 2, 3])"
      ]
     },
     "execution_count": 39,
     "metadata": {},
     "output_type": "execute_result"
    }
   ],
   "source": [
    "# Get just the predictions\n"
   ]
  }
 ],
 "metadata": {
  "kernelspec": {
   "display_name": "datasci",
   "language": "python",
   "name": "python3"
  },
  "language_info": {
   "codemirror_mode": {
    "name": "ipython",
    "version": 3
   },
   "file_extension": ".py",
   "mimetype": "text/x-python",
   "name": "python",
   "nbconvert_exporter": "python",
   "pygments_lexer": "ipython3",
   "version": "3.10.12"
  },
  "orig_nbformat": 4
 },
 "nbformat": 4,
 "nbformat_minor": 2
}
