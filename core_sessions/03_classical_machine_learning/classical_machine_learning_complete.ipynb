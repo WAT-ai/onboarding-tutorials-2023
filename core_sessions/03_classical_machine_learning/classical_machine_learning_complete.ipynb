{
 "cells": [
  {
   "cell_type": "markdown",
   "metadata": {
    "collapsed": false
   },
   "source": [
    "## Classical Machine Learning\n",
    "Prerequisites:\n",
    "- Python experience, including a basing understanding of python syntax, loops, conditional statements, functions, and data types in python\n",
    "- Some background in numerical computing - MATLAB, R, numpy, or similar, and an understanding of vectors, matrices, and relevant linear algebra concepts\n",
    "\n",
    "Goals for this session:\n",
    "- Introduce the sklearn API and common practices in the field of machine learning\n",
    "- Provide intuition for various classical machine learning techniques regarding their complexity, performance, and effectiveness in the context of different applications\n",
    "- Explore concepts such as feature selection, model selection, hyperparameter tuning, performance metrics, and the bias/variance tradeoff\n",
    "- Apply this knowledge to a real-world dataset in a competition-style activity\n"
   ]
  },
  {
   "cell_type": "code",
   "execution_count": 1,
   "metadata": {},
   "outputs": [],
   "source": [
    "# For Colab\n",
    "# !git clone https://github.com/WAT-ai/onboarding-tutorials-2023\n",
    "TRAIN_DATA_PATH = \"/content/onboarding-tutorials-2023/data/cml_training_data.csv\"\n",
    "TEST_DATA_PATH = \"/content/onboarding-tutorials-2023/data/cml_training_data.csv\""
   ]
  },
  {
   "cell_type": "code",
   "execution_count": 2,
   "metadata": {
    "collapsed": false
   },
   "outputs": [],
   "source": [
    "import pandas as pd\n",
    "import numpy as np\n",
    "import matplotlib.pyplot as plt\n",
    "import seaborn as sns\n",
    "from sklearn.metrics import precision_score, recall_score, f1_score"
   ]
  },
  {
   "cell_type": "markdown",
   "metadata": {},
   "source": [
    "Classifier shortlist\n",
    "- LogisticRegression\n",
    "- RidgeClassifier\n",
    "- SVC\n",
    "- KNeighborsClassifier\n",
    "- GaussianProcessClassifier (too slow)\n",
    "- GaussianNB\n",
    "- DecisionTreeClassifier"
   ]
  },
  {
   "cell_type": "code",
   "execution_count": 3,
   "metadata": {},
   "outputs": [],
   "source": [
    "from sklearn.linear_model import LogisticRegression, RidgeClassifier\n",
    "from sklearn.svm import SVC, LinearSVC\n",
    "from sklearn.neighbors import KNeighborsClassifier\n",
    "from sklearn.naive_bayes import GaussianNB\n",
    "from sklearn.tree import DecisionTreeClassifier"
   ]
  },
  {
   "cell_type": "code",
   "execution_count": 4,
   "metadata": {},
   "outputs": [],
   "source": [
    "# Process the data\n",
    "# df_train = pd.read_csv(TRAIN_DATA_PATH)\n",
    "# df_test = pd.read_csv(TEST_DATA_PATH, index_col=0)\n",
    "\n",
    "df_train = pd.read_csv(\"../data/cml_training_data.csv\")\n",
    "df_test = pd.read_csv(\"../data/cml_testing_data.csv\")\n",
    "\n",
    "\n",
    "X_train = df_train.drop(\"labels\", axis=1).values\n",
    "y_train = df_train[\"labels\"]\n",
    "\n",
    "X_test = df_test.values"
   ]
  },
  {
   "cell_type": "code",
   "execution_count": 5,
   "metadata": {},
   "outputs": [
    {
     "data": {
      "text/plain": [
       "((2000, 12), (8000, 12))"
      ]
     },
     "execution_count": 5,
     "metadata": {},
     "output_type": "execute_result"
    }
   ],
   "source": [
    "X_test.shape, X_train.shape"
   ]
  },
  {
   "cell_type": "markdown",
   "metadata": {},
   "source": [
    "# Train your model"
   ]
  },
  {
   "cell_type": "code",
   "execution_count": 6,
   "metadata": {},
   "outputs": [],
   "source": [
    "params = {\n",
    "    \"class_weight\": \"balanced\",\n",
    "    \"random_state\": 87,\n",
    "    \"max_iter\": 10_000\n",
    "}\n",
    "model = LogisticRegression(**params)"
   ]
  },
  {
   "cell_type": "code",
   "execution_count": 9,
   "metadata": {},
   "outputs": [
    {
     "name": "stdout",
     "output_type": "stream",
     "text": [
      "Training LogisticRegression...\n",
      "Model training accuracy: 87.01%\n"
     ]
    }
   ],
   "source": [
    "trained_models = []\n",
    "metrics = {}\n",
    "\n",
    "name = model.__class__.__name__\n",
    "print(f\"Training {name}...\")\n",
    "metrics.setdefault(\"model_name\", []).append(name)\n",
    "\n",
    "model.fit(X_train, y_train)\n",
    "train_acc = model.score(X_train, y_train)\n",
    "print(f\"Model training accuracy: {train_acc*100:.2f}%\")"
   ]
  },
  {
   "cell_type": "code",
   "execution_count": 10,
   "metadata": {},
   "outputs": [],
   "source": [
    "preds = model.predict(X_test)"
   ]
  },
  {
   "cell_type": "code",
   "execution_count": 12,
   "metadata": {},
   "outputs": [
    {
     "data": {
      "text/plain": [
       "array([3, 2, 0, ..., 1, 3, 0])"
      ]
     },
     "execution_count": 12,
     "metadata": {},
     "output_type": "execute_result"
    }
   ],
   "source": [
    "preds"
   ]
  },
  {
   "cell_type": "code",
   "execution_count": 13,
   "metadata": {},
   "outputs": [],
   "source": [
    "preds = model.predict(X_test)\n",
    "\n",
    "df_preds = pd.DataFrame({\n",
    "    \"index\": np.arange(X_test.shape[0]),\n",
    "    \"test_predictions\": preds,\n",
    "})\n",
    "\n",
    "df_preds.to_csv(\"./test_predictions.csv\", index=False)"
   ]
  },
  {
   "cell_type": "markdown",
   "metadata": {},
   "source": [
    "Upload `test_preds.csv` to Kaggle to enter your score."
   ]
  }
 ],
 "metadata": {
  "kernelspec": {
   "display_name": "Python 3",
   "language": "python",
   "name": "python3"
  },
  "language_info": {
   "codemirror_mode": {
    "name": "ipython",
    "version": 3
   },
   "file_extension": ".py",
   "mimetype": "text/x-python",
   "name": "python",
   "nbconvert_exporter": "python",
   "pygments_lexer": "ipython3",
   "version": "3.10.12"
  }
 },
 "nbformat": 4,
 "nbformat_minor": 0
}
