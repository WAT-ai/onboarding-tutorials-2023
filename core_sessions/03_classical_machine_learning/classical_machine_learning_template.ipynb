{
 "cells": [
  {
   "cell_type": "markdown",
   "source": [
    "## Classical Machine Learning\n",
    "Prerequisites:\n",
    "- Python experience, including a basing understanding of python syntax, loops, conditional statements, functions, and data types in python\n",
    "- Some background in numerical computing - MATLAB, R, numpy, or similar, and an understanding of vectors, matrices, and relevant linear algebra concepts\n",
    "\n",
    "Goals for this session:\n",
    "- Introduce the sklearn API and common practices in the field of machine learning\n",
    "- Provide intuition for various classical machine learning techniques regarding their complexity, performance, and effectiveness in the context of different applications\n",
    "- Explore concepts such as feature selection, model selection, hyperparameter tuning, performance metrics, and the bias/variance tradeoff\n",
    "- Apply this knowledge to a real-world dataset in a competition-style activity\n"
   ],
   "metadata": {
    "collapsed": false
   }
  },
  {
   "cell_type": "code",
   "execution_count": null,
   "outputs": [],
   "source": [],
   "metadata": {
    "collapsed": false
   }
  }
 ],
 "metadata": {
  "kernelspec": {
   "display_name": "Python 3",
   "language": "python",
   "name": "python3"
  },
  "language_info": {
   "codemirror_mode": {
    "name": "ipython",
    "version": 2
   },
   "file_extension": ".py",
   "mimetype": "text/x-python",
   "name": "python",
   "nbconvert_exporter": "python",
   "pygments_lexer": "ipython2",
   "version": "2.7.6"
  }
 },
 "nbformat": 4,
 "nbformat_minor": 0
}
