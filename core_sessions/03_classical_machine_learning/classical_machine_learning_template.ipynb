{
 "cells": [
  {
   "cell_type": "markdown",
   "metadata": {
    "collapsed": false
   },
   "source": [
    "## Classical Machine Learning\n",
    "Prerequisites:\n",
    "- Python experience, including a basing understanding of python syntax, loops, conditional statements, functions, and data types in python\n",
    "- Some background in numerical computing - MATLAB, R, numpy, or similar, and an understanding of vectors, matrices, and relevant linear algebra concepts\n",
    "\n",
    "Goals for this session:\n",
    "- Introduce the sklearn API and common practices in the field of machine learning\n",
    "- Provide intuition for various classical machine learning techniques regarding their complexity, performance, and effectiveness in the context of different applications\n",
    "- Explore concepts such as feature selection, model selection, hyperparameter tuning, performance metrics, and the bias/variance tradeoff\n",
    "- Apply this knowledge to a real-world dataset in a competition-style activity\n"
   ]
  },
  {
   "cell_type": "code",
   "execution_count": 3,
   "metadata": {
    "collapsed": false
   },
   "outputs": [],
   "source": [
    "import pandas as pd\n",
    "import numpy as np\n",
    "import matplotlib.pyplot as plt\n",
    "import seaborn as sns\n",
    "from sklearn.metrics import precision_score, recall_score, f1_score\n",
    "import pickle"
   ]
  },
  {
   "cell_type": "markdown",
   "metadata": {},
   "source": [
    "Classifier shortlist\n",
    "- LogisticRegression\n",
    "- RidgeClassifier\n",
    "- SVC\n",
    "- KNeighborsClassifier\n",
    "- GaussianProcessClassifier (too slow)\n",
    "- GaussianNB\n",
    "- DecisionTreeClassifier"
   ]
  },
  {
   "cell_type": "code",
   "execution_count": 4,
   "metadata": {},
   "outputs": [],
   "source": [
    "from sklearn.linear_model import LogisticRegression, RidgeClassifier\n",
    "from sklearn.svm import SVC, LinearSVC\n",
    "from sklearn.neighbors import KNeighborsClassifier\n",
    "from sklearn.naive_bayes import GaussianNB\n",
    "from sklearn.tree import DecisionTreeClassifier"
   ]
  },
  {
   "cell_type": "code",
   "execution_count": 5,
   "metadata": {},
   "outputs": [],
   "source": [
    "with open(\"../data/classical_ml_activity.pkl\", \"rb\") as f:\n",
    "    data = pickle.load(f)\n",
    "\n",
    "X_train = data[\"X_train\"].values\n",
    "X_test = data[\"X_test\"].values\n",
    "y_train = data[\"y_train\"].values\n",
    "y_test = data[\"y_test\"].values"
   ]
  },
  {
   "cell_type": "markdown",
   "metadata": {},
   "source": [
    "# Train your model"
   ]
  },
  {
   "cell_type": "code",
   "execution_count": 6,
   "metadata": {},
   "outputs": [],
   "source": [
    "params = {\n",
    "    \"class_weight\": \"balanced\",\n",
    "    \"random_state\": 87,\n",
    "    \"max_iter\": 10_000\n",
    "}\n",
    "model = LogisticRegression(**params)"
   ]
  },
  {
   "cell_type": "code",
   "execution_count": 7,
   "metadata": {},
   "outputs": [
    {
     "name": "stdout",
     "output_type": "stream",
     "text": [
      "Training LogisticRegression...\n",
      "Model accuracy: 87.85%\n"
     ]
    }
   ],
   "source": [
    "trained_models = []\n",
    "metrics = {}\n",
    "\n",
    "name = model.__class__.__name__\n",
    "print(f\"Training {name}...\")\n",
    "metrics.setdefault(\"model_name\", []).append(name)\n",
    "\n",
    "model.fit(X_train, y_train)\n",
    "test_acc = model.score(X_test, y_test)\n",
    "metrics.setdefault(\"accuracy\", []).append(test_acc)\n",
    "print(f\"Model accuracy: {test_acc*100:.2f}%\")\n",
    "\n",
    "y_pred = model.predict(X_test)\n",
    "for metric_name, metric in zip(\n",
    "    [\"precision\", \"recall\", \"f1\"],\n",
    "    [precision_score, recall_score, f1_score]\n",
    "):\n",
    "    metrics.setdefault(metric_name, []).append(metric(y_test, y_pred, average=\"weighted\"))\n"
   ]
  }
 ],
 "metadata": {
  "kernelspec": {
   "display_name": "Python 3",
   "language": "python",
   "name": "python3"
  },
  "language_info": {
   "codemirror_mode": {
    "name": "ipython",
    "version": 3
   },
   "file_extension": ".py",
   "mimetype": "text/x-python",
   "name": "python",
   "nbconvert_exporter": "python",
   "pygments_lexer": "ipython3",
   "version": "3.10.12"
  }
 },
 "nbformat": 4,
 "nbformat_minor": 0
}
